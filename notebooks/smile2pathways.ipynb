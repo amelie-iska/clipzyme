{
 "cells": [
  {
   "cell_type": "code",
   "execution_count": null,
   "id": "26f9be28-bdd7-43bd-aa71-2436f9b549f7",
   "metadata": {},
   "outputs": [],
   "source": [
    "import json\n",
    "import pandas as pd"
   ]
  },
  {
   "cell_type": "code",
   "execution_count": 2,
   "id": "315b28e2-1c0f-40a4-9eba-fbe16740d69d",
   "metadata": {},
   "outputs": [],
   "source": [
    "# js = json.load(open(\"/Mounts/rbg-storage1/datasets/Metabo/antibiotics/stokes2019_dataset.json\", \"rb\"))"
   ]
  },
  {
   "cell_type": "code",
   "execution_count": 2,
   "id": "7864e637-e0fd-4fc2-b464-724af3d94ab0",
   "metadata": {},
   "outputs": [],
   "source": [
    "df = pd.read_json(open(\"/Mounts/rbg-storage1/datasets/Metabo/antibiotics/stokes2019_dataset.json\", \"rb\"))"
   ]
  },
  {
   "cell_type": "code",
   "execution_count": 3,
   "id": "10ff3a16-9452-4726-87ed-431312ebe5c2",
   "metadata": {},
   "outputs": [
    {
     "data": {
      "text/html": [
       "<div>\n",
       "<style scoped>\n",
       "    .dataframe tbody tr th:only-of-type {\n",
       "        vertical-align: middle;\n",
       "    }\n",
       "\n",
       "    .dataframe tbody tr th {\n",
       "        vertical-align: top;\n",
       "    }\n",
       "\n",
       "    .dataframe thead th {\n",
       "        text-align: right;\n",
       "    }\n",
       "</style>\n",
       "<table border=\"1\" class=\"dataframe\">\n",
       "  <thead>\n",
       "    <tr style=\"text-align: right;\">\n",
       "      <th></th>\n",
       "      <th>mean_inhibition</th>\n",
       "      <th>smiles</th>\n",
       "      <th>name</th>\n",
       "      <th>activity</th>\n",
       "    </tr>\n",
       "  </thead>\n",
       "  <tbody>\n",
       "    <tr>\n",
       "      <th>0</th>\n",
       "      <td>0.041572</td>\n",
       "      <td>Cc1cc(O)c(C(=O)NC(C(=O)NC2C(=O)N3C(C(=O)O)=C(C...</td>\n",
       "      <td>CEFPIRAMIDE</td>\n",
       "      <td>Active</td>\n",
       "    </tr>\n",
       "    <tr>\n",
       "      <th>1</th>\n",
       "      <td>0.041876</td>\n",
       "      <td>CON=C1CN(c2nc3c(cc2F)c(=O)c(C(=O)O)cn3C2CC2)CC...</td>\n",
       "      <td>GEMIFLOXACIN MESYLATE</td>\n",
       "      <td>Active</td>\n",
       "    </tr>\n",
       "    <tr>\n",
       "      <th>2</th>\n",
       "      <td>0.041916</td>\n",
       "      <td>CCC(C)CCCCC(=O)NC(CCN)C(=O)NC(C(=O)NC(CCN)C(=O...</td>\n",
       "      <td>POLYMYXIN B SULFATE</td>\n",
       "      <td>Active</td>\n",
       "    </tr>\n",
       "    <tr>\n",
       "      <th>3</th>\n",
       "      <td>0.041964</td>\n",
       "      <td>Cl.N=C(N)n1cccn1</td>\n",
       "      <td>PRAXADINE HYDROCHLORIDE</td>\n",
       "      <td>Active</td>\n",
       "    </tr>\n",
       "    <tr>\n",
       "      <th>4</th>\n",
       "      <td>0.042295</td>\n",
       "      <td>Cl.Cl.N=C(NCCCCCCNC(=N)NC(=N)Nc1ccc(Cl)cc1)NC(...</td>\n",
       "      <td>CHLORHEXIDINE DIHYDROCHLORIDE</td>\n",
       "      <td>Active</td>\n",
       "    </tr>\n",
       "  </tbody>\n",
       "</table>\n",
       "</div>"
      ],
      "text/plain": [
       "   mean_inhibition                                             smiles  \\\n",
       "0         0.041572  Cc1cc(O)c(C(=O)NC(C(=O)NC2C(=O)N3C(C(=O)O)=C(C...   \n",
       "1         0.041876  CON=C1CN(c2nc3c(cc2F)c(=O)c(C(=O)O)cn3C2CC2)CC...   \n",
       "2         0.041916  CCC(C)CCCCC(=O)NC(CCN)C(=O)NC(C(=O)NC(CCN)C(=O...   \n",
       "3         0.041964                                   Cl.N=C(N)n1cccn1   \n",
       "4         0.042295  Cl.Cl.N=C(NCCCCCCNC(=N)NC(=N)Nc1ccc(Cl)cc1)NC(...   \n",
       "\n",
       "                            name activity  \n",
       "0                    CEFPIRAMIDE   Active  \n",
       "1          GEMIFLOXACIN MESYLATE   Active  \n",
       "2            POLYMYXIN B SULFATE   Active  \n",
       "3        PRAXADINE HYDROCHLORIDE   Active  \n",
       "4  CHLORHEXIDINE DIHYDROCHLORIDE   Active  "
      ]
     },
     "execution_count": 3,
     "metadata": {},
     "output_type": "execute_result"
    }
   ],
   "source": [
    "df.head()"
   ]
  },
  {
   "cell_type": "code",
   "execution_count": null,
   "id": "e8e0848c-8ac6-4a45-9628-b3f71d86945b",
   "metadata": {},
   "outputs": [],
   "source": []
  },
  {
   "cell_type": "code",
   "execution_count": 6,
   "id": "7d74b6bd-37c9-4db2-9846-8677002cd9eb",
   "metadata": {},
   "outputs": [],
   "source": [
    "from multiprocessing import Pool\n",
    "from pathlib import Path\n",
    "from typing import Optional\n",
    "\n",
    "from chembl_webresource_client.new_client import new_client\n",
    "import numpy as np\n",
    "# from tap import Tap\n",
    "from tqdm import tqdm"
   ]
  },
  {
   "cell_type": "code",
   "execution_count": 7,
   "id": "a67a2903-1fe6-49c1-93e7-e7a2bae24aae",
   "metadata": {},
   "outputs": [],
   "source": [
    "def get_chembl_id(smiles: str) -> Optional[str]:\n",
    "    \"\"\"Gets a ChEMBL ID for a SMILES.\"\"\"\n",
    "    try:\n",
    "        records = new_client.molecule.filter(\n",
    "            molecule_structures__canonical_smiles__flexmatch=smiles\n",
    "        ).only(['molecule_chembl_id'])\n",
    "\n",
    "        if len(records) > 0:\n",
    "            return records[0]['molecule_chembl_id']\n",
    "    except Exception as e:\n",
    "        print(f'Exception for {smiles}')\n",
    "        print(e)\n",
    "\n",
    "    return None"
   ]
  },
  {
   "cell_type": "code",
   "execution_count": 9,
   "id": "08b4a07d-c995-425b-b729-7a431367e729",
   "metadata": {},
   "outputs": [
    {
     "data": {
      "text/plain": [
       "'CHEMBL1200672'"
      ]
     },
     "execution_count": 9,
     "metadata": {},
     "output_type": "execute_result"
    }
   ],
   "source": [
    "get_chembl_id(\"Cc1cc(O)c(C(=O)NC(C(=O)NC2C(=O)N3C(C(=O)O)=C(CSc4nnnn4C)CSC23)c2ccc(O)cc2)cn1\")"
   ]
  },
  {
   "cell_type": "code",
   "execution_count": null,
   "id": "d0bed153-10ff-4326-ae50-ec1ae8043996",
   "metadata": {},
   "outputs": [],
   "source": []
  },
  {
   "cell_type": "code",
   "execution_count": null,
   "id": "300b14d4-af98-46ac-a236-05d5d676c7a3",
   "metadata": {},
   "outputs": [],
   "source": [
    "\"\"\"Gets ChEMBL and UniProt targets from ChEMBL compound IDs.\"\"\"\n",
    "# Load data\n",
    "data = pd.read_csv(args.data_path)"
   ]
  },
  {
   "cell_type": "code",
   "execution_count": null,
   "id": "5e6707d1-64d8-46bf-b738-083d78037f5c",
   "metadata": {},
   "outputs": [],
   "source": [
    "# Drop data without ChEMBL compound ID or SMILES\n",
    "data.dropna(subset=[CHEMBL_COMPOUND_ID_COLUMN, SMILES_COLUMN], inplace=True)\n",
    "\n",
    "# Sort data by SMILES for canonical selection between SMILES with same ChEMBL ID\n",
    "data.sort_values(by=SMILES_COLUMN, inplace=True)\n",
    "\n",
    "# Map ChEMBL compound ID to SMILES\n",
    "# NOTE: By default, uses the last SMILES that matches the ChEMBL compound ID\n",
    "chembl_compound_id_to_smiles = dict(zip(data[CHEMBL_COMPOUND_ID_COLUMN], data[SMILES_COLUMN]))\n",
    "\n",
    "# Get ChEMBL targets\n",
    "chembl_compound_ids = sorted(chembl_compound_id_to_smiles)\n",
    "chembl_compound_id_to_chembl_target_ids = defaultdict(set)\n",
    "\n",
    "for i in trange(0, len(chembl_compound_ids), args.chunk_size):\n",
    "    # Use activities to get target from compound\n",
    "    activities = new_client.activity.filter(\n",
    "        molecule_chembl_id__in=chembl_compound_ids[i:i + args.chunk_size]\n",
    "    ).only(['molecule_chembl_id', 'target_chembl_id'])\n",
    "\n",
    "    # Extract target ChEMBL IDs from activities:\n",
    "    for activity in tqdm(activities):\n",
    "        chembl_compound_id_to_chembl_target_ids[activity['molecule_chembl_id']].add(activity['target_chembl_id'])\n",
    "\n",
    "chembl_compound_id_to_chembl_target_ids = dict(chembl_compound_id_to_chembl_target_ids)\n",
    "\n",
    "# Create DataFrame with ChEMBL targets\n",
    "chembl_target_ids = sorted(\n",
    "    chembl_target_id\n",
    "    for chembl_target_ids in chembl_compound_id_to_chembl_target_ids.values()\n",
    "    for chembl_target_id in chembl_target_ids\n",
    ")\n",
    "chembl_target_data = pd.DataFrame(data={\n",
    "    SMILES_COLUMN: [chembl_compound_id_to_smiles[chembl_compound_id] for chembl_compound_id in chembl_compound_ids],\n",
    "    **{\n",
    "        chembl_target_id: [\n",
    "            1 if chembl_target_id in chembl_compound_id_to_chembl_target_ids[chembl_compound_id] else 0\n",
    "            for chembl_compound_id in chembl_compound_ids\n",
    "        ]\n",
    "        for chembl_target_id in chembl_target_ids\n",
    "    }\n",
    "})\n",
    "\n",
    "# Save ChEMBL target data\n",
    "chembl_target_data.to_csv(args.chembl_save_path, index=False)\n",
    "\n",
    "# Get UniProt targets\n",
    "chembl_compound_id_to_uniprot_target_ids = defaultdict(set)\n",
    "for chembl_compound_id, chembl_target_ids in tqdm(chembl_compound_id_to_chembl_target_ids.items()):\n",
    "    chembl_target_ids = sorted(chembl_target_ids)\n",
    "\n",
    "    for i in trange(0, len(chembl_target_ids), args.chunk_size):\n",
    "        targets = new_client.target.filter(\n",
    "            target_chembl_id__in=chembl_target_ids[i:i + args.chunk_size]\n",
    "        ).only(['target_components'])\n",
    "        chembl_compound_id_to_uniprot_target_ids[chembl_compound_id] |= {\n",
    "            component['accession'] for target in targets for component in target['target_components']\n",
    "        }\n",
    "\n",
    "chembl_compound_id_to_uniprot_target_ids = dict(chembl_compound_id_to_uniprot_target_ids)\n",
    "\n",
    "# Create DataFrame with UniProt targets\n",
    "uniprot_target_ids = sorted(\n",
    "    uniprot_target_id\n",
    "    for uniprot_target_ids in chembl_compound_id_to_uniprot_target_ids.values()\n",
    "    for uniprot_target_id in uniprot_target_ids)\n",
    "uniprot_target_data = pd.DataFrame(data={\n",
    "    SMILES_COLUMN: [chembl_compound_id_to_smiles[chembl_compound_id] for chembl_compound_id in chembl_compound_ids],\n",
    "    **{\n",
    "        uniprot_target_id: [\n",
    "            1 if uniprot_target_id in chembl_compound_id_to_uniprot_target_ids[chembl_compound_id] else 0\n",
    "            for chembl_compound_id in chembl_compound_ids\n",
    "        ]\n",
    "        for uniprot_target_id in uniprot_target_ids\n",
    "    }\n",
    "})\n",
    "\n",
    "# Save UniProt target data\n",
    "uniprot_target_data.to_csv(args.uniprot_save_path, index=False)"
   ]
  },
  {
   "cell_type": "code",
   "execution_count": null,
   "id": "a032ab26-2339-4e4e-b583-549556a6429c",
   "metadata": {},
   "outputs": [],
   "source": []
  },
  {
   "cell_type": "code",
   "execution_count": null,
   "id": "9c08c15b-e1e9-44fe-8654-580a898278ca",
   "metadata": {},
   "outputs": [],
   "source": []
  },
  {
   "cell_type": "code",
   "execution_count": null,
   "id": "8ddf1466-5995-4e59-8519-461af4d2564d",
   "metadata": {},
   "outputs": [],
   "source": []
  },
  {
   "cell_type": "code",
   "execution_count": null,
   "id": "8fff0e58-8a7b-4bc8-8a91-818db3d116ed",
   "metadata": {},
   "outputs": [],
   "source": []
  },
  {
   "cell_type": "markdown",
   "id": "70759ae2-d6c7-474d-9fde-7ea742c4f20f",
   "metadata": {},
   "source": [
    "## StringDB E coli model"
   ]
  },
  {
   "cell_type": "code",
   "execution_count": 27,
   "id": "bab2681d-0ef2-4478-9aaf-cfd292bafad4",
   "metadata": {},
   "outputs": [],
   "source": [
    "import pandas as pd\n",
    "import networkx as nx\n",
    "import numpy as np\n",
    "import pickle"
   ]
  },
  {
   "cell_type": "code",
   "execution_count": 2,
   "id": "a362219a-4a45-431f-869a-41966c6d6b12",
   "metadata": {},
   "outputs": [],
   "source": [
    "prots = pd.read_csv(\"/Mounts/rbg-storage1/datasets/STRING/e_coli/511145.protein.info.v11.5.txt\", sep = \"\\t\")"
   ]
  },
  {
   "cell_type": "code",
   "execution_count": 3,
   "id": "79ae7d15-a6db-4fad-bcf3-671279eed11a",
   "metadata": {},
   "outputs": [],
   "source": [
    "prots[\"#string_protein_id\"] = prots[\"#string_protein_id\"].str.replace(\"511145\\.\", \"\", regex=True)"
   ]
  },
  {
   "cell_type": "code",
   "execution_count": 6,
   "id": "2a27b5f0-6c4a-4ade-b12e-0b706d5b3e42",
   "metadata": {},
   "outputs": [],
   "source": [
    "links = pd.read_csv(\"/Mounts/rbg-storage1/datasets/STRING/e_coli/511145.protein.links.v11.5.txt\", sep = \" \")"
   ]
  },
  {
   "cell_type": "code",
   "execution_count": 7,
   "id": "13692858-d8eb-44aa-8cb3-764e3cdc83c7",
   "metadata": {},
   "outputs": [],
   "source": [
    "links[\"protein1\"] = links[\"protein1\"].str.replace(\"511145\\.\", \"\", regex=True)"
   ]
  },
  {
   "cell_type": "code",
   "execution_count": 8,
   "id": "92fc8157-ad24-47b8-abf3-2b333cff2451",
   "metadata": {},
   "outputs": [],
   "source": [
    "links[\"protein2\"] = links[\"protein2\"].str.replace(\"511145\\.\", \"\", regex=True)"
   ]
  },
  {
   "cell_type": "code",
   "execution_count": null,
   "id": "9decc7da-c779-4394-a847-74f4e700aad8",
   "metadata": {},
   "outputs": [],
   "source": [
    "# Makes a graph of the PPI network and runs Floyd-Warshall algorithm (All pairs shortest path)\n",
    "# Path weights are -log(weight) because we want the maximum multiplication along the paths\n",
    "# idx2prot = {prot_id: idx for idx, prot_id in \\\n",
    "#             zip(range(len(set(prots[\"#string_protein_id\"].values))), \\\n",
    "#                 set(prots[\"#string_protein_id\"].values))}\n",
    "edgelist = [i.tolist()[1:] for i in links.to_records()]\n",
    "edgelist = [(p1, p2, {\"weight\": -np.log(w / 1000)}) for (p1, p2, w) in edgelist]\n",
    "# edgelist = [(idx2prot[p1], idx2prot[p2], {\"weight\": w / 1000}) for (p1, p2, w) in edgelist]\n",
    "G = nx.Graph(edgelist)\n",
    "predecessor, shortest_paths = nx.floyd_warshall_predecessor_and_distance(G)\n",
    "clean_dict = {}\n",
    "for k1 in shortest_paths:\n",
    "    for k2 in shortest_paths[k1]:\n",
    "        clean_dict.setdefault(k1, {})\n",
    "        clean_dict[k1][k2] = shortest_paths[k1][k2]"
   ]
  },
  {
   "cell_type": "code",
   "execution_count": null,
   "id": "f19a30dc-5fb1-45de-9cce-85215395bd31",
   "metadata": {},
   "outputs": [],
   "source": [
    "x = 5"
   ]
  },
  {
   "cell_type": "code",
   "execution_count": null,
   "id": "5cf4b902-6a14-4531-a90e-d441b1fe8304",
   "metadata": {},
   "outputs": [],
   "source": []
  },
  {
   "cell_type": "code",
   "execution_count": 53,
   "id": "45b7d2f6-abc7-4e9c-9f04-fc7a34291d0d",
   "metadata": {},
   "outputs": [
    {
     "ename": "KeyboardInterrupt",
     "evalue": "",
     "output_type": "error",
     "traceback": [
      "\u001b[0;31m---------------------------------------------------------------------------\u001b[0m",
      "\u001b[0;31mKeyboardInterrupt\u001b[0m                         Traceback (most recent call last)",
      "Input \u001b[0;32mIn [53]\u001b[0m, in \u001b[0;36m<cell line: 10>\u001b[0;34m()\u001b[0m\n\u001b[1;32m      8\u001b[0m \u001b[38;5;66;03m# edgelist = [(idx2prot[p1], idx2prot[p2], {\"weight\": w / 1000}) for (p1, p2, w) in edgelist]\u001b[39;00m\n\u001b[1;32m      9\u001b[0m G \u001b[38;5;241m=\u001b[39m nx\u001b[38;5;241m.\u001b[39mGraph(edgelist)\n\u001b[0;32m---> 10\u001b[0m shortest_paths \u001b[38;5;241m=\u001b[39m \u001b[43mnx\u001b[49m\u001b[38;5;241;43m.\u001b[39;49m\u001b[43mfloyd_warshall\u001b[49m\u001b[43m(\u001b[49m\u001b[43mG\u001b[49m\u001b[43m)\u001b[49m\n\u001b[1;32m     11\u001b[0m clean_dict \u001b[38;5;241m=\u001b[39m {}\n\u001b[1;32m     12\u001b[0m \u001b[38;5;28;01mfor\u001b[39;00m k1 \u001b[38;5;129;01min\u001b[39;00m shortest_paths:\n",
      "File \u001b[0;32m/Mounts/rbg-storage1/users/itamarc/miniconda3/envs/playground/lib/python3.8/site-packages/networkx/algorithms/shortest_paths/dense.py:233\u001b[0m, in \u001b[0;36mfloyd_warshall\u001b[0;34m(G, weight)\u001b[0m\n\u001b[1;32m    202\u001b[0m \u001b[38;5;124;03m\"\"\"Find all-pairs shortest path lengths using Floyd's algorithm.\u001b[39;00m\n\u001b[1;32m    203\u001b[0m \n\u001b[1;32m    204\u001b[0m \u001b[38;5;124;03mParameters\u001b[39;00m\n\u001b[0;32m   (...)\u001b[0m\n\u001b[1;32m    230\u001b[0m \u001b[38;5;124;03mall_pairs_shortest_path_length\u001b[39;00m\n\u001b[1;32m    231\u001b[0m \u001b[38;5;124;03m\"\"\"\u001b[39;00m\n\u001b[1;32m    232\u001b[0m \u001b[38;5;66;03m# could make this its own function to reduce memory costs\u001b[39;00m\n\u001b[0;32m--> 233\u001b[0m \u001b[38;5;28;01mreturn\u001b[39;00m \u001b[43mfloyd_warshall_predecessor_and_distance\u001b[49m\u001b[43m(\u001b[49m\u001b[43mG\u001b[49m\u001b[43m,\u001b[49m\u001b[43m \u001b[49m\u001b[43mweight\u001b[49m\u001b[38;5;241;43m=\u001b[39;49m\u001b[43mweight\u001b[49m\u001b[43m)\u001b[49m[\u001b[38;5;241m1\u001b[39m]\n",
      "File \u001b[0;32m/Mounts/rbg-storage1/users/itamarc/miniconda3/envs/playground/lib/python3.8/site-packages/networkx/algorithms/shortest_paths/dense.py:152\u001b[0m, in \u001b[0;36mfloyd_warshall_predecessor_and_distance\u001b[0;34m(G, weight)\u001b[0m\n\u001b[1;32m    150\u001b[0m \u001b[38;5;28;01mfor\u001b[39;00m v \u001b[38;5;129;01min\u001b[39;00m G:\n\u001b[1;32m    151\u001b[0m     d \u001b[38;5;241m=\u001b[39m dist_u[w] \u001b[38;5;241m+\u001b[39m dist_w[v]\n\u001b[0;32m--> 152\u001b[0m     \u001b[38;5;28;01mif\u001b[39;00m \u001b[43mdist_u\u001b[49m\u001b[43m[\u001b[49m\u001b[43mv\u001b[49m\u001b[43m]\u001b[49m \u001b[38;5;241m>\u001b[39m d:\n\u001b[1;32m    153\u001b[0m         dist_u[v] \u001b[38;5;241m=\u001b[39m d\n\u001b[1;32m    154\u001b[0m         pred[u][v] \u001b[38;5;241m=\u001b[39m pred[w][v]\n",
      "\u001b[0;31mKeyboardInterrupt\u001b[0m: "
     ]
    }
   ],
   "source": [
    "pickle.dump(dict(clean_dict), open(\"updated_paths.pkl\", \"wb\"))"
   ]
  },
  {
   "cell_type": "code",
   "execution_count": 47,
   "id": "0bc63e62-dc55-40ae-8ff3-53602800c3ef",
   "metadata": {},
   "outputs": [],
   "source": [
    "shortest_paths_logs = pickle.load(open(\"updated_paths.pkl\", \"rb\"))"
   ]
  },
  {
   "cell_type": "code",
   "execution_count": null,
   "id": "1ee32e49-845f-4639-b30c-0f5dc8328787",
   "metadata": {},
   "outputs": [],
   "source": [
    "shortest_paths"
   ]
  },
  {
   "cell_type": "code",
   "execution_count": 44,
   "id": "88ec6233-f5eb-4ef9-b40d-73b29a750711",
   "metadata": {},
   "outputs": [],
   "source": [
    "max_paths = {}\n",
    "for k1 in shortest_paths_logs:\n",
    "    for k2 in shortest_paths_logs[k1]:\n",
    "        max_paths[k1] = {k2: np.exp(-1*shortest_paths_logs[k1][k2])}"
   ]
  },
  {
   "cell_type": "code",
   "execution_count": 46,
   "id": "f117f4c0-0a29-4db1-87a0-89e234e84a1e",
   "metadata": {},
   "outputs": [
    {
     "data": {
      "text/plain": [
       "{'b4706': 0.6296337599976092}"
      ]
     },
     "execution_count": 46,
     "metadata": {},
     "output_type": "execute_result"
    }
   ],
   "source": [
    "max_paths[\"b0001\"]"
   ]
  },
  {
   "cell_type": "code",
   "execution_count": null,
   "id": "d7cbd0db-f043-4e58-a886-fcf989cf3297",
   "metadata": {},
   "outputs": [],
   "source": []
  }
 ],
 "metadata": {
  "kernelspec": {
   "display_name": "Python [conda env:playground] *",
   "language": "python",
   "name": "conda-env-playground-py"
  },
  "language_info": {
   "codemirror_mode": {
    "name": "ipython",
    "version": 3
   },
   "file_extension": ".py",
   "mimetype": "text/x-python",
   "name": "python",
   "nbconvert_exporter": "python",
   "pygments_lexer": "ipython3",
   "version": "3.8.13"
  }
 },
 "nbformat": 4,
 "nbformat_minor": 5
}
