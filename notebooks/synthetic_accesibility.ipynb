{
 "cells": [
  {
   "cell_type": "code",
   "execution_count": 1,
   "id": "bf3f5342-b88f-47cc-b887-693d9e720259",
   "metadata": {},
   "outputs": [],
   "source": [
    "import sys\n",
    "sys.path.append('/Mounts/rbg-storage1/users/itamarc/nox')"
   ]
  },
  {
   "cell_type": "code",
   "execution_count": 4,
   "id": "84a91117-6fed-4db2-9bac-7505f8ad3bc8",
   "metadata": {},
   "outputs": [],
   "source": [
    "import nox.utils.loading as loaders"
   ]
  },
  {
   "cell_type": "code",
   "execution_count": 5,
   "id": "ae6ddf0c-6fd8-4673-9014-ce981e984f96",
   "metadata": {},
   "outputs": [
    {
     "ename": "ImportError",
     "evalue": "cannot import name 'GSMReactionEnzymesDataset' from 'nox.datasets.gsm_link' (/Mounts/rbg-storage1/users/itamarc/nox/nox/datasets/gsm_link.py)",
     "output_type": "error",
     "traceback": [
      "\u001b[0;31m---------------------------------------------------------------------------\u001b[0m",
      "\u001b[0;31mImportError\u001b[0m                               Traceback (most recent call last)",
      "Input \u001b[0;32mIn [5]\u001b[0m, in \u001b[0;36m<cell line: 1>\u001b[0;34m()\u001b[0m\n\u001b[0;32m----> 1\u001b[0m \u001b[38;5;28;01mfrom\u001b[39;00m \u001b[38;5;21;01mnox\u001b[39;00m\u001b[38;5;21;01m.\u001b[39;00m\u001b[38;5;21;01mdatasets\u001b[39;00m\u001b[38;5;21;01m.\u001b[39;00m\u001b[38;5;21;01mgsm_link\u001b[39;00m \u001b[38;5;28;01mimport\u001b[39;00m GSMReactionEnzymesDataset\n",
      "\u001b[0;31mImportError\u001b[0m: cannot import name 'GSMReactionEnzymesDataset' from 'nox.datasets.gsm_link' (/Mounts/rbg-storage1/users/itamarc/nox/nox/datasets/gsm_link.py)"
     ]
    }
   ],
   "source": [
    "from nox.datasets.gsm_link import GSMReactionEnzymesDataset"
   ]
  },
  {
   "cell_type": "code",
   "execution_count": null,
   "id": "de5432df-be08-4cc1-8763-8abd406d3f40",
   "metadata": {},
   "outputs": [],
   "source": [
    "train_dataset = loaders.get_train_dataset_loader(args)"
   ]
  }
 ],
 "metadata": {
  "kernelspec": {
   "display_name": "Python 3 (ipykernel)",
   "language": "python",
   "name": "python3"
  },
  "language_info": {
   "codemirror_mode": {
    "name": "ipython",
    "version": 3
   },
   "file_extension": ".py",
   "mimetype": "text/x-python",
   "name": "python",
   "nbconvert_exporter": "python",
   "pygments_lexer": "ipython3",
   "version": "3.8.13"
  }
 },
 "nbformat": 4,
 "nbformat_minor": 5
}
