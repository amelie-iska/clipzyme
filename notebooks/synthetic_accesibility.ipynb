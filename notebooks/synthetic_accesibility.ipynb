{
 "cells": [
  {
   "cell_type": "code",
   "execution_count": 1,
   "id": "bf3f5342-b88f-47cc-b887-693d9e720259",
   "metadata": {},
   "outputs": [
    {
     "ename": "IndentationError",
     "evalue": "expected an indented block (moleculenet.py, line 204)",
     "output_type": "error",
     "traceback": [
      "Traceback \u001b[0;36m(most recent call last)\u001b[0m:\n",
      "  File \u001b[1;32m/Mounts/rbg-storage1/users/itamarc/miniconda3/envs/nox/lib/python3.8/site-packages/IPython/core/interactiveshell.py:3398\u001b[0m in \u001b[1;35mrun_code\u001b[0m\n    exec(code_obj, self.user_global_ns, self.user_ns)\n",
      "  Input \u001b[1;32mIn [1]\u001b[0m in \u001b[1;35m<cell line: 3>\u001b[0m\n    import nox.utils.loading as loaders\n",
      "\u001b[0;36m  File \u001b[0;32m/Mounts/rbg-storage1/users/itamarc/nox/nox/__init__.py:25\u001b[0;36m in \u001b[0;35m<module>\u001b[0;36m\u001b[0m\n\u001b[0;31m    import nox.datasets.moleculenet\u001b[0m\n",
      "\u001b[0;36m  File \u001b[0;32m/Mounts/rbg-storage1/users/itamarc/nox/nox/datasets/moleculenet.py:204\u001b[0;36m\u001b[0m\n\u001b[0;31m    def lookup_pathway(self, smile):\u001b[0m\n\u001b[0m    ^\u001b[0m\n\u001b[0;31mIndentationError\u001b[0m\u001b[0;31m:\u001b[0m expected an indented block\n"
     ]
    }
   ],
   "source": [
    "import sys\n",
    "sys.path.append('/Mounts/rbg-storage1/users/itamarc/nox')\n",
    "import nox.utils.loading as loaders\n",
    "from nox.datasets.gsm_link import GSMReactionEnzymesDataset\n",
    "import matplotlib.pyplot as plt\n",
    "import networkx as nx\n",
    "from torch_geometric import utils"
   ]
  },
  {
   "cell_type": "code",
   "execution_count": 2,
   "id": "9a70a332-2b34-49da-96d1-d81109a3a0de",
   "metadata": {
    "tags": []
   },
   "outputs": [],
   "source": [
    "# a = \"\"\"--organism_name recon3d --data_dir /Mounts/rbg-storage1/datasets/Metabo/datasets --logger_name wandb --workspace peteranditamar --project_name metabolomics --accumulate_grad_batches 1 --dataset_name gsm_link --lightning_name linker --lr_decay 0.1 --limit_train_batches 1.0 --limit_val_batches 1.0 --model_name metabo_nbfnet --loss_names linkpredictionloss --metric_names ranking_metrics --monitor val_mean_reciprocal_rank --num_workers 8 --optimizer_name adam --patience 5 --train --test --num_sanity_val_steps 0 --val_check_interval 1.0 --gpus 4 --checkpoint_dir /Mounts/rbg-storage1/snapshots/metabolomics --hits_at_n hits@1 hits@3 hits@10 hits@10_50 --activation_func relu --message_func distmult --aggregate_func pna --short_cut --layer_norm --dependent --remove_one_hop --num_mlp_layer 2 --num_beam 10 --path_topk 10 --num_negative 32 --strict_negative --adversarial_temperature 0.5 --rdkit_fingerprint_name rdkit_fingerprint --gat_num_heads 1 --gat_node_dim 9 --gat_edge_dim 3 --gat_num_layers 6 --weight_decay 0 --max_epochs 20 --batch_size 16 --lr 1e-05 --dropout 0.0 --logger_tags recon3d precomputed_protein trained_metabos debug --metabolite_feature_type trained --metabolite_model gatv2 --metabolite_dim 2048 --protein_feature_type precomputed --protein_model linear --protein_dim 1280 --hidden_dims 32 32 32 32 32 32 --gat_hidden_dim 32 --input_dim 32 --strategy ddp_spawn  --results_path /Mounts/rbg-storage1/logs/metabo/7350d636c83b594edea2e5171be086b1 --experiment_name 7350d636c83b594edea2e5171be086b1\"\"\"\n",
    "# print(a.replace(\" --\", \"'\\nself.\").replace(\" \", \" = '\"))"
   ]
  },
  {
   "cell_type": "code",
   "execution_count": 24,
   "id": "62ea5fa2-f38a-405d-b8d7-59ca924ed8d8",
   "metadata": {},
   "outputs": [],
   "source": [
    "class Args:\n",
    "    def __init__(self):\n",
    "        self.organism_name = 'e_coli_core'\n",
    "        self.data_dir = '/Mounts/rbg-storage1/datasets/Metabo/datasets'\n",
    "        self.logger_name = 'wandb'\n",
    "        self.workspace = 'peteranditamar'\n",
    "        self.project_name = 'metabolomics'\n",
    "        self.accumulate_grad_batches = 1\n",
    "        self.dataset_name = 'gsm_link'\n",
    "        self.lightning_name = 'linker'\n",
    "        self.lr_decay = 0.1\n",
    "        self.limit_train_batches = 1.0\n",
    "        self.limit_val_batches = 1.0\n",
    "        self.model_name = 'metabo_nbfnet'\n",
    "        self.loss_names = 'linkpredictionloss'\n",
    "        self.metric_names = 'ranking_metrics'\n",
    "        self.monitor = 'val_mean_reciprocal_rank'\n",
    "        self.num_workers = 0\n",
    "        self.optimizer_name = 'adam'\n",
    "        self.patience = 5\n",
    "        self.train = True\n",
    "        self.test = True\n",
    "        self.num_sanity_val_steps = 0\n",
    "        self.val_check_interval = 1.0\n",
    "        self.gpus = 1\n",
    "        self.checkpoint_dir = '/Mounts/rbg-storage1/snapshots/metabolomics'\n",
    "        self.hits_at_n = ['hits@1', 'hits@3', 'hits@10','hits@10_50']\n",
    "        self.activation_func = 'relu'\n",
    "        self.message_func = 'distmult'\n",
    "        self.aggregate_func = 'pna'\n",
    "        self.short_cut = True\n",
    "        self.layer_norm = True\n",
    "        self.dependent = True\n",
    "        self.remove_one_hop = True\n",
    "        self.num_mlp_layer = 2\n",
    "        self.num_beam = 10\n",
    "        self.path_topk = 10\n",
    "        self.num_negative = 32\n",
    "        self.strict_negative = True\n",
    "        self.adversarial_temperature = 0.5\n",
    "        self.rdkit_fingerprint_name = 'rdkit_fingerprint'\n",
    "        self.gat_num_heads = 1\n",
    "        self.gat_node_dim = 9\n",
    "        self.gat_edge_dim = 3\n",
    "        self.gat_num_layers = 6\n",
    "        self.weight_decay = 0\n",
    "        self.max_epochs = 20\n",
    "        self.batch_size = 16\n",
    "        self.lr = 1e-05\n",
    "        self.dropout = 0.0\n",
    "        self.logger_tags = ['recon3d', 'precomputed_protein', 'trained_metabos', 'debug']\n",
    "        self.metabolite_feature_type = 'none'\n",
    "        self.metabolite_model = 'gatv2'\n",
    "        self.metabolite_dim = 2048\n",
    "        self.protein_feature_type = 'none'\n",
    "        self.protein_model = 'linear'\n",
    "        self.protein_dim = 1280\n",
    "        self.hidden_dims = [32, 32, 32, 32, 32, 32]\n",
    "        self.gat_hidden_dim = 32\n",
    "        self.input_dim = 32\n",
    "        self.strategy = 'ddp_spawn'\n",
    "        self.results_path = '/Mounts/rbg-storage1/logs/metabo/7350d636c83b594edea2e5171be086b1'\n",
    "        self.experiment_name = '7350d636c83b594edea2e5171be086b1'\n",
    "        self.protein_encoder_name = 'fair_esm'\n",
    "        self.pretrained_hub_dir = \"/Mounts/rbg-storage1/snapshots/metabolomics\"\n",
    "        self.train_encoder = False\n",
    "        self.class_bal = False\n",
    "        self.split_probs = [0.6, 0.2, 0.2]\n",
    "        self.split_seed = 0\n",
    "        self.simple_graph = True # this removes bidirections"
   ]
  },
  {
   "cell_type": "code",
   "execution_count": 25,
   "id": "97830d38-8f54-44e3-a06d-0833adff689f",
   "metadata": {},
   "outputs": [],
   "source": [
    "args = Args()"
   ]
  },
  {
   "cell_type": "code",
   "execution_count": 26,
   "id": "de5432df-be08-4cc1-8763-8abd406d3f40",
   "metadata": {},
   "outputs": [
    {
     "name": "stderr",
     "output_type": "stream",
     "text": [
      "Processing...\n",
      "100%|█████████████████████████████████████████████████████████████████████████████████████████████████████████████████████████████████████████████████████████████████████████████| 53/53 [00:00<00:00, 4746.71it/s]\n"
     ]
    },
    {
     "name": "stdout",
     "output_type": "stream",
     "text": [
      "Skipping reaction EX_akg_e, 1 reactants, 0 products and 0 proteins\n",
      "Skipping reaction EX_etoh_e, 1 reactants, 0 products and 0 proteins\n",
      "Skipping reaction EX_fum_e, 1 reactants, 0 products and 0 proteins\n",
      "Skipping reaction EX_glc__D_e, 1 reactants, 0 products and 0 proteins\n",
      "Skipping reaction EX_glu__L_e, 1 reactants, 0 products and 0 proteins\n",
      "Skipping reaction EX_mal__L_e, 1 reactants, 0 products and 0 proteins\n",
      "Skipping reaction EX_nh4_e, 1 reactants, 0 products and 0 proteins\n",
      "Skipping reaction EX_pyr_e, 1 reactants, 0 products and 0 proteins\n",
      "Skipping reaction EX_pi_e, 1 reactants, 0 products and 0 proteins\n",
      "Skipping reaction EX_fru_e, 1 reactants, 0 products and 0 proteins\n",
      "Skipping reaction EX_lac__D_e, 1 reactants, 0 products and 0 proteins\n"
     ]
    },
    {
     "name": "stderr",
     "output_type": "stream",
     "text": [
      "100%|█████████████████████████████████████████████████████████████████████████████████████████████████████████████████████████████████████████████████████████████████████████████| 23/23 [00:00<00:00, 8851.99it/s]\n"
     ]
    },
    {
     "name": "stdout",
     "output_type": "stream",
     "text": [
      "Skipping reaction EX_ac_e, 1 reactants, 0 products and 0 proteins\n",
      "Skipping reaction EX_co2_e, 1 reactants, 0 products and 0 proteins\n",
      "Skipping reaction EX_for_e, 1 reactants, 0 products and 0 proteins\n",
      "Skipping reaction EX_h_e, 1 reactants, 0 products and 0 proteins\n",
      "Skipping reaction EX_o2_e, 1 reactants, 0 products and 0 proteins\n"
     ]
    },
    {
     "name": "stderr",
     "output_type": "stream",
     "text": [
      "100%|█████████████████████████████████████████████████████████████████████████████████████████████████████████████████████████████████████████████████████████████████████████████| 19/19 [00:00<00:00, 9657.27it/s]\n"
     ]
    },
    {
     "name": "stdout",
     "output_type": "stream",
     "text": [
      "Skipping reaction EX_acald_e, 1 reactants, 0 products and 0 proteins\n",
      "Skipping reaction EX_gln__L_e, 1 reactants, 0 products and 0 proteins\n",
      "Skipping reaction EX_h2o_e, 1 reactants, 0 products and 0 proteins\n",
      "Skipping reaction EX_succ_e, 1 reactants, 0 products and 0 proteins\n"
     ]
    },
    {
     "name": "stderr",
     "output_type": "stream",
     "text": [
      "100%|██████████████████████████████████████████████████████████████████████████████████████████████████████████████████████████████████████████████████████████████████████████| 208/208 [00:00<00:00, 37594.38it/s]\n",
      "Done!\n"
     ]
    },
    {
     "name": "stdout",
     "output_type": "stream",
     "text": [
      "TRAIN DATASET CREATED FOR GSM_LINK\n",
      "Containing 2108 triplets and 208 number of nodes in the split graph\n"
     ]
    }
   ],
   "source": [
    "train_dataset = loaders.get_train_dataset_loader(args)"
   ]
  },
  {
   "cell_type": "code",
   "execution_count": 30,
   "id": "27b8cdb5-5bb3-4e6d-9981-aefc5cb3d97f",
   "metadata": {},
   "outputs": [],
   "source": [
    "G = utils.to_networkx(\n",
    "    train_dataset.dataset.split_graph,\n",
    "    node_attrs=None, \n",
    "    edge_attrs=None, \n",
    "    # graph_attrs=None, \n",
    "    to_undirected=False, \n",
    "    remove_self_loops=True)"
   ]
  },
  {
   "cell_type": "code",
   "execution_count": 36,
   "id": "e110c6b8-b713-4c5f-aa87-e61bc4bbc037",
   "metadata": {},
   "outputs": [
    {
     "data": {
      "image/png": "[encoded data removed]",
      "text/plain": [
       "<Figure size 864x576 with 1 Axes>"
      ]
     },
     "metadata": {},
     "output_type": "display_data"
    }
   ],
   "source": [
    "# too big to plot recon3d\n",
    "options = {\n",
    "    'node_color': 'orange',\n",
    "    'node_size': 100,\n",
    "    'width': 1,\n",
    "}\n",
    "fig=plt.figure(figsize=(12,8))\n",
    "nx.draw(G, **options)"
   ]
  },
  {
   "cell_type": "code",
   "execution_count": 37,
   "id": "926a6bd9-9cc9-4f0d-9780-d7cdce720353",
   "metadata": {},
   "outputs": [
    {
     "data": {
      "text/plain": [
       "208"
      ]
     },
     "execution_count": 37,
     "metadata": {},
     "output_type": "execute_result"
    }
   ],
   "source": [
    "len(G)"
   ]
  },
  {
   "cell_type": "code",
   "execution_count": 31,
   "id": "67616fdd-8907-4784-990d-739e249c7a04",
   "metadata": {},
   "outputs": [
    {
     "name": "stdout",
     "output_type": "stream",
     "text": [
      "(0, 1)\n",
      "(1, 0)\n",
      "(1, 35)\n",
      "(1, 37)\n",
      "(1, 38)\n",
      "(1, 14)\n",
      "(1, 8)\n",
      "(1, 34)\n",
      "(1, 111)\n",
      "(1, 1575)\n",
      "(35, 36)\n"
     ]
    }
   ],
   "source": [
    "x"
   ]
  },
  {
   "cell_type": "code",
   "execution_count": null,
   "id": "f9ffb857-8070-414c-80ed-e30d56fd3031",
   "metadata": {},
   "outputs": [],
   "source": []
  }
 ],
 "metadata": {
  "kernelspec": {
   "display_name": "Python 3",
   "language": "python",
   "name": "python3"
  },
  "language_info": {
   "codemirror_mode": {
    "name": "ipython",
    "version": 3
   },
   "file_extension": ".py",
   "mimetype": "text/x-python",
   "name": "python",
   "nbconvert_exporter": "python",
   "pygments_lexer": "ipython3",
   "version": "3.8.13"
  }
 },
 "nbformat": 4,
 "nbformat_minor": 5
}
