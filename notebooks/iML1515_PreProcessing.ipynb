{
 "cells": [
  {
   "cell_type": "code",
   "execution_count": 1,
   "id": "3868e2f8-7dee-4408-be85-ec9fa6328c32",
   "metadata": {},
   "outputs": [],
   "source": [
    "import json \n",
    "from cobra.io import load_matlab_model, save_matlab_model\n",
    "from collections import Counter\n",
    "import copy "
   ]
  },
  {
   "cell_type": "code",
   "execution_count": 2,
   "id": "5675c505-4592-46b9-99db-3f93fb9b4c96",
   "metadata": {},
   "outputs": [],
   "source": [
    "json_model = json.load(open(\"/Mounts/rbg-storage1/datasets/Metabo/datasets/iML1515_dataset.json\", \"r\"))"
   ]
  },
  {
   "cell_type": "code",
   "execution_count": 3,
   "id": "94759c04-c8c7-4068-a527-dfda48296672",
   "metadata": {},
   "outputs": [],
   "source": [
    "unknown_mets = []\n",
    "for rxn_dict in json_model:\n",
    "   \n",
    "    if rxn_dict.get(\"reactants\", False):\n",
    "        unk = [r['metabolite_id'] for r in rxn_dict[\"reactants\"] if r['smiles'] is None]\n",
    "        unknown_mets.extend(unk)\n",
    "    if rxn_dict.get(\"products\", False):\n",
    "        unk = [r['metabolite_id'] for r in rxn_dict[\"products\"] if r['smiles'] is None]\n",
    "        unknown_mets.extend(unk)"
   ]
  },
  {
   "cell_type": "code",
   "execution_count": 7,
   "id": "de45aaab-9672-4f08-9abd-129011f43d0a",
   "metadata": {},
   "outputs": [],
   "source": [
    "unknown_mets = set(unknown_mets)"
   ]
  },
  {
   "cell_type": "markdown",
   "id": "00b52541-f973-4c9e-bbbf-a99d9509ec48",
   "metadata": {},
   "source": [
    "### Remove unk metabolites"
   ]
  },
  {
   "cell_type": "code",
   "execution_count": 4,
   "id": "4270a806-49a8-429f-8c3a-a3a2052befd1",
   "metadata": {},
   "outputs": [
    {
     "name": "stderr",
     "output_type": "stream",
     "text": [
      "This model seems to have metCharge instead of metCharges field. Will use metCharge for what metCharges represents.\n",
      "No defined compartments in model iML1515. Compartments will be deduced heuristically using regular expressions.\n",
      "Using regular expression found the following compartments:c, e, p\n"
     ]
    },
    {
     "name": "stdout",
     "output_type": "stream",
     "text": [
      "Scaling...\n",
      " A: min|aij| =  1.000e+00  max|aij| =  1.000e+00  ratio =  1.000e+00\n",
      "Problem data seem to be well scaled\n",
      "1877 METABOLITES, 2712 REACTIONS\n"
     ]
    }
   ],
   "source": [
    "matlab_model = load_matlab_model(\"/Mounts/rbg-storage1/datasets/Metabo/BiGG/iML1515.mat\")\n",
    "print(f\"{len(matlab_model.metabolites)} METABOLITES, {len(matlab_model.reactions)} REACTIONS\")\n",
    "\n",
    "# metabolites without known smiles\n",
    "unknown_mets_mat = [j for j in matlab_model.metabolites if j.id in set(unknown_mets) ]"
   ]
  },
  {
   "cell_type": "code",
   "execution_count": 5,
   "id": "d16d7404-9a80-4b7f-8ed4-43bce3d59d10",
   "metadata": {},
   "outputs": [
    {
     "name": "stdout",
     "output_type": "stream",
     "text": [
      "Remove metabolites with unknown smiles\n",
      "1842 METABOLITES, 2712 REACTIONS\n"
     ]
    }
   ],
   "source": [
    "print(\"Remove metabolites with unknown smiles\")\n",
    "matlab_model.remove_metabolites(unknown_mets_mat, destructive = False)\n",
    "print(f\"{len(matlab_model.metabolites)} METABOLITES, {len(matlab_model.reactions)} REACTIONS\")"
   ]
  },
  {
   "cell_type": "code",
   "execution_count": 39,
   "id": "400fa94b-bf72-430c-9631-cec987d7834a",
   "metadata": {},
   "outputs": [],
   "source": [
    "save_matlab_model(matlab_model, \"/Mounts/rbg-storage1/datasets/Metabo/BiGG/iML1515_unk_mets_removed.mat\")"
   ]
  },
  {
   "cell_type": "code",
   "execution_count": 8,
   "id": "39987b48-2e9b-425a-aa9c-2b9cabdc29b5",
   "metadata": {},
   "outputs": [],
   "source": [
    "json_model_unk_mets_removed = copy.deepcopy(json_model)\n",
    "for rxn_dict in json_model_unk_mets_removed:\n",
    "    reactants = rxn_dict.get(\"reactants\", [])\n",
    "    rxn_dict['reactants'] = [r for r in reactants if r['metabolite_id'] not in unknown_mets]\n",
    "    \n",
    "    products = rxn_dict.get(\"products\", [])\n",
    "    rxn_dict['products'] = [r for r in products if r['metabolite_id'] not in unknown_mets]"
   ]
  },
  {
   "cell_type": "code",
   "execution_count": 13,
   "id": "a188588f-f56a-485d-a2ee-c2006e43d313",
   "metadata": {},
   "outputs": [
    {
     "name": "stdout",
     "output_type": "stream",
     "text": [
      "1842 METABOLITES, 2712 REACTIONS\n"
     ]
    }
   ],
   "source": [
    "known_mets_ids = []\n",
    "for rxn_dict in json_model_unk_mets_removed:\n",
    "    known_mets_ids.extend(r['metabolite_id'] for r in rxn_dict.get(\"reactants\", []))\n",
    "    known_mets_ids.extend(r['metabolite_id'] for r in rxn_dict.get(\"products\", []))\n",
    "print(f\"{len(set(known_mets_ids))} METABOLITES, {len(json_model_unk_mets_removed)} REACTIONS\")"
   ]
  },
  {
   "cell_type": "code",
   "execution_count": 14,
   "id": "d55dab36-df04-4175-b01f-d7c3bc0aabe5",
   "metadata": {},
   "outputs": [],
   "source": [
    "json.dump(json_model_unk_mets_removed, open(\"/Mounts/rbg-storage1/datasets/Metabo/datasets/iML1515_unk_mets_removed.json\", \"w\"))"
   ]
  },
  {
   "cell_type": "markdown",
   "id": "8787acae-4ad9-430d-955d-de1e5d91048b",
   "metadata": {},
   "source": [
    "### Remove reactions involving unk metabolites"
   ]
  },
  {
   "cell_type": "code",
   "execution_count": 40,
   "id": "17f34910-cb8a-4bbf-af1c-0a298e8558a7",
   "metadata": {},
   "outputs": [
    {
     "name": "stderr",
     "output_type": "stream",
     "text": [
      "This model seems to have metCharge instead of metCharges field. Will use metCharge for what metCharges represents.\n",
      "No defined compartments in model iML1515. Compartments will be deduced heuristically using regular expressions.\n",
      "Using regular expression found the following compartments:c, e, p\n"
     ]
    },
    {
     "name": "stdout",
     "output_type": "stream",
     "text": [
      "1877 METABOLITES, 2712 REACTIONS\n"
     ]
    }
   ],
   "source": [
    "matlab_model = load_matlab_model(\"/Mounts/rbg-storage1/datasets/Metabo/BiGG/iML1515.mat\")\n",
    "print(f\"{len(matlab_model.metabolites)} METABOLITES, {len(matlab_model.reactions)} REACTIONS\")\n",
    "\n",
    "# metabolites without known smiles\n",
    "unknown_mets_mat = [j for j in matlab_model.metabolites if j.id in set(unknown_mets) ]\n",
    "# reactions affected by metabolites missing smiles\n",
    "rxns_affected = list(set([r.id for u in unknown_mets_mat for r in u.reactions]))"
   ]
  },
  {
   "cell_type": "code",
   "execution_count": 41,
   "id": "7472b409-5203-4981-b94a-732126856a26",
   "metadata": {},
   "outputs": [
    {
     "name": "stdout",
     "output_type": "stream",
     "text": [
      "Remove reactions with metabolites missing smiles\n",
      "1842 METABOLITES, 2642 REACTIONS\n"
     ]
    }
   ],
   "source": [
    "print(\"Remove reactions with metabolites missing smiles\")\n",
    "matlab_model.remove_metabolites(unknown_mets_mat, destructive = True)\n",
    "print(f\"{len(matlab_model.metabolites)} METABOLITES, {len(matlab_model.reactions)} REACTIONS\")"
   ]
  },
  {
   "cell_type": "code",
   "execution_count": 42,
   "id": "34e7a266-327d-4cbe-8ab6-34683529b056",
   "metadata": {},
   "outputs": [],
   "source": [
    "save_matlab_model(matlab_model, \"/Mounts/rbg-storage1/datasets/Metabo/BiGG/iML1515_unk_mets_removed_destructive.mat\")"
   ]
  },
  {
   "cell_type": "code",
   "execution_count": 22,
   "id": "c7125d64-20ac-4283-95b7-e3019c072e65",
   "metadata": {},
   "outputs": [],
   "source": [
    "json_model_unk_mets_removed_destructive = []\n",
    "for rxn_dict in json_model:\n",
    "    metabolites = rxn_dict.get(\"reactants\", []) + rxn_dict.get(\"products\", [])\n",
    "    metabolite_ids = [r['metabolite_id'] for r in metabolites]\n",
    "    if len(unknown_mets.intersection(set(metabolite_ids))):\n",
    "        continue\n",
    "    json_model_unk_mets_removed_destructive.append(rxn_dict)"
   ]
  },
  {
   "cell_type": "code",
   "execution_count": 24,
   "id": "539c50c9-6b2a-4c6c-984c-3f4ec6314064",
   "metadata": {},
   "outputs": [
    {
     "name": "stdout",
     "output_type": "stream",
     "text": [
      "1840 METABOLITES, 2642 REACTIONS\n"
     ]
    }
   ],
   "source": [
    "known_mets_ids = []\n",
    "for rxn_dict in json_model_unk_mets_removed_destructive:\n",
    "    known_mets_ids.extend(r['metabolite_id'] for r in rxn_dict.get(\"reactants\", []))\n",
    "    known_mets_ids.extend(r['metabolite_id'] for r in rxn_dict.get(\"products\", []))\n",
    "print(f\"{len(set(known_mets_ids))} METABOLITES, {len(json_model_unk_mets_removed_destructive)} REACTIONS\")"
   ]
  },
  {
   "cell_type": "code",
   "execution_count": 25,
   "id": "f3715f5c-0bc0-4419-871b-4d2fdab33e9a",
   "metadata": {},
   "outputs": [],
   "source": [
    "json.dump(json_model_unk_mets_removed_destructive, \n",
    "          open(\"/Mounts/rbg-storage1/datasets/Metabo/datasets/iML1515_unk_mets_removed_destructive.json\", \"w\"))"
   ]
  }
 ],
 "metadata": {
  "kernelspec": {
   "display_name": "Python 3 (ipykernel)",
   "language": "python",
   "name": "python3"
  },
  "language_info": {
   "codemirror_mode": {
    "name": "ipython",
    "version": 3
   },
   "file_extension": ".py",
   "mimetype": "text/x-python",
   "name": "python",
   "nbconvert_exporter": "python",
   "pygments_lexer": "ipython3",
   "version": "3.8.13"
  }
 },
 "nbformat": 4,
 "nbformat_minor": 5
}
