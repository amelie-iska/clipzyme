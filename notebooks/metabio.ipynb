{
 "cells": [
  {
   "cell_type": "markdown",
   "id": "d602858a",
   "metadata": {
    "jp-MarkdownHeadingCollapsed": true,
    "tags": []
   },
   "source": [
    "# Metabolism Questions"
   ]
  },
  {
   "cell_type": "markdown",
   "id": "d9f6073e-3b80-4f3d-943c-d1f980ce6585",
   "metadata": {
    "tags": []
   },
   "source": [
    "## Debug"
   ]
  },
  {
   "cell_type": "code",
   "execution_count": 2,
   "id": "03f50d3e-1762-43da-8456-8a2b18e654f6",
   "metadata": {},
   "outputs": [],
   "source": [
    "from cobra.io import load_matlab_model\n",
    "import os\n"
   ]
  },
  {
   "cell_type": "code",
   "execution_count": 9,
   "id": "4c119141-fbf4-45af-8668-7028470607b0",
   "metadata": {},
   "outputs": [],
   "source": [
    "k12fam = [f for f in os.listdir(\"/Mounts/rbg-storage1/datasets/Metabo/BiGG\") if \"K-12\" in f]"
   ]
  },
  {
   "cell_type": "code",
   "execution_count": 10,
   "id": "847d714b-b641-4035-849c-bd94ff993b88",
   "metadata": {},
   "outputs": [
    {
     "data": {
      "text/plain": [
       "[]"
      ]
     },
     "execution_count": 10,
     "metadata": {},
     "output_type": "execute_result"
    }
   ],
   "source": [
    "k12fam"
   ]
  },
  {
   "cell_type": "code",
   "execution_count": 11,
   "id": "be400508-8246-42e9-ae64-c2a2900a3d1e",
   "metadata": {},
   "outputs": [
    {
     "name": "stderr",
     "output_type": "stream",
     "text": [
      "This model seems to have metCharge instead of metCharges field. Will use metCharge for what metCharges represents.\n",
      "No defined compartments in model iML1515. Compartments will be deduced heuristically using regular expressions.\n",
      "Using regular expression found the following compartments:c, e, p\n"
     ]
    },
    {
     "name": "stdout",
     "output_type": "stream",
     "text": [
      "Scaling...\n",
      " A: min|aij| =  1.000e+00  max|aij| =  1.000e+00  ratio =  1.000e+00\n",
      "Problem data seem to be well scaled\n"
     ]
    }
   ],
   "source": [
    "model = load_matlab_model(\"/Mounts/rbg-storage1/datasets/Metabo/BiGG/iML1515.mat\")"
   ]
  },
  {
   "cell_type": "code",
   "execution_count": 24,
   "id": "24f16cef-0528-4337-93b7-2013a7c49dec",
   "metadata": {},
   "outputs": [],
   "source": [
    "reactions = model.reactions"
   ]
  },
  {
   "cell_type": "code",
   "execution_count": 25,
   "id": "1ef511dc-6c66-4d78-b2f5-3a6964ba98d8",
   "metadata": {},
   "outputs": [
    {
     "data": {
      "text/html": [
       "\n",
       "        <table>\n",
       "            <tr>\n",
       "                <td><strong>Reaction identifier</strong></td><td>EDTXS3</td>\n",
       "            </tr><tr>\n",
       "                <td><strong>Name</strong></td><td>Endotoxin Synthesis (palmitoleoyl ACP)</td>\n",
       "            </tr><tr>\n",
       "                <td><strong>Memory address</strong></td>\n",
       "                <td>0x7efdbbb96dc0</td>\n",
       "            </tr><tr>\n",
       "                <td><strong>Stoichiometry</strong></td>\n",
       "                <td>\n",
       "                    <p style='text-align:right'>hdeACP_c + kdo2lipid4_c --> ACP_c + kdo2lipid4p_c</p>\n",
       "                    <p style='text-align:right'>Cis-hexadec-9-enoyl-[acyl-carrier protein] (n-C16:1) + KDO(2)-lipid IV(A) --> Acyl carrier protein + KDO(2)-lipid IV(A) with palmitoleoyl</p>\n",
       "                </td>\n",
       "            </tr><tr>\n",
       "                <td><strong>GPR</strong></td><td>b2378</td>\n",
       "            </tr><tr>\n",
       "                <td><strong>Lower bound</strong></td><td>0.0</td>\n",
       "            </tr><tr>\n",
       "                <td><strong>Upper bound</strong></td><td>1000.0</td>\n",
       "            </tr>\n",
       "        </table>\n",
       "        "
      ],
      "text/plain": [
       "<Reaction EDTXS3 at 0x7efdbbb96dc0>"
      ]
     },
     "execution_count": 25,
     "metadata": {},
     "output_type": "execute_result"
    }
   ],
   "source": [
    "reactions[271]"
   ]
  },
  {
   "cell_type": "code",
   "execution_count": null,
   "id": "e7f39376-868d-44d4-905b-4a6c32e117e5",
   "metadata": {},
   "outputs": [],
   "source": []
  },
  {
   "cell_type": "code",
   "execution_count": null,
   "id": "5c712734-8692-4b8c-8b51-d89b190f08bf",
   "metadata": {},
   "outputs": [],
   "source": [
    "biocyc = [f for f in db_meta.values[0].split(\";\") if \"biocyc\" in f]"
   ]
  },
  {
   "cell_type": "code",
   "execution_count": null,
   "id": "3f6c9e7b-26da-4977-864e-c37872c35eb1",
   "metadata": {},
   "outputs": [],
   "source": []
  },
  {
   "cell_type": "code",
   "execution_count": null,
   "id": "4ff6c7f3-8a42-4758-8203-aca5916e526d",
   "metadata": {},
   "outputs": [],
   "source": [
    "db_meta = BIGG_METABOLITES[BIGG_METABOLITES[\"bigg_id\"] == metabolite.id][\n",
    "        \"database_links\"\n",
    "    ]"
   ]
  },
  {
   "cell_type": "markdown",
   "id": "b0ae647c-3c56-42b2-9ecb-64281585d48d",
   "metadata": {
    "jp-MarkdownHeadingCollapsed": true,
    "tags": []
   },
   "source": [
    "# Datasets"
   ]
  },
  {
   "cell_type": "code",
   "execution_count": 40,
   "id": "9ce74ab4",
   "metadata": {},
   "outputs": [],
   "source": [
    "from collections import defaultdict\n",
    "import time\n",
    "import pandas as pd\n",
    "import numpy as np\n",
    "from scipy.io import loadmat\n",
    "# import escher\n",
    "# from escher import Builder\n",
    "import cobra\n",
    "from cobra.io import load_matlab_model, load_json_model, save_json_model, load_model\n",
    "# import cobramod\n",
    "import json, copy\n",
    "import os\n",
    "from xml.etree import cElementTree as ET\n",
    "from tqdm import tqdm\n",
    "import re\n",
    "import copy\n",
    "import requests\n",
    "from cobra.core.metabolite import Metabolite\n",
    "from bioservices import ChEBI\n",
    "import warnings"
   ]
  },
  {
   "cell_type": "code",
   "execution_count": 41,
   "id": "94ff461b-4878-4345-93ea-b4045e03f5aa",
   "metadata": {
    "tags": []
   },
   "outputs": [],
   "source": [
    "def xml2dict(t):\n",
    "    d = {}\n",
    "    children = list(t)\n",
    "    if children:\n",
    "        dd = defaultdict(list)\n",
    "        for dc in map(xml2dict, children):\n",
    "            for k, v in dc.items():\n",
    "                if (not k == \"\") and not (\"reference\" in k):\n",
    "                    dd[k.split(\"}\")[-1]].append(v)\n",
    "        d = {\n",
    "            t.tag.split(\"}\")[-1]: {\n",
    "                k.split(\"}\")[-1]: v[0] if len(v) == 1 else v for k, v in dd.items()\n",
    "            }\n",
    "        }\n",
    "\n",
    "    if t.text:\n",
    "        text = t.text.strip()\n",
    "        if (not text == \"\") and not (\"reference\" in text):\n",
    "            d[t.tag] = text\n",
    "    return d"
   ]
  },
  {
   "cell_type": "markdown",
   "id": "bbc1d257-9287-4687-96fd-3a42b98045bd",
   "metadata": {
    "tags": []
   },
   "source": [
    "Outstanding questions:\n",
    "- Experimental val\n",
    "- Link to drug: drugbank to target id\n",
    "- Link to disease (kg): Get disease ids from json; API to download individual diseases; biopython kgml to parse\n",
    "- Link to drug screen db (depmap, cmap): "
   ]
  },
  {
   "cell_type": "markdown",
   "id": "4b912943-3c1a-463f-be0f-3d4d5721f56f",
   "metadata": {
    "tags": []
   },
   "source": [
    "\n",
    "for masking:\n",
    "    data is: mini-pathways \n",
    "for gap filling: \n",
    "    network -> growth/no growth\n",
    "for flux:\n",
    "    network -> edge labels\n",
    "\n",
    "validate reaction? \n",
    "\n",
    "```\n",
    "Data Structure:\n",
    "    {\n",
    "        \"metabolites\": {},  # id to metadata\n",
    "        \"drugs\": {},        # id to metadata\n",
    "        \"proteins\": {},     # id to metadata\n",
    "        \"reactions\": {}, \n",
    "        \"pathways/groups\" ?\n",
    "        \"network\" ? \n",
    "    }\n",
    "```\n",
    "\n",
    "\n",
    "- Use cobrapy with BiGG models \n",
    "- Use cobramod to get KEGG if need be\n",
    "- BioPython integrate other databases\n",
    "\n",
    "------------\n",
    "TODO:\n",
    "\n",
    "- [ ] Get list of pathways per organism\n",
    "- [ ] Programmatically make pathways and add to model\n",
    "- [ ] Save as mat files\n",
    "- [ ] Make drugbank and hmdb metadata files\n"
   ]
  },
  {
   "cell_type": "markdown",
   "id": "e9bcec60-bb02-4f95-a197-cfd35be40e4d",
   "metadata": {
    "jp-MarkdownHeadingCollapsed": true,
    "tags": []
   },
   "source": [
    "# KEGG"
   ]
  },
  {
   "cell_type": "markdown",
   "id": "7b2c25ab-7565-4b29-aec5-8ce8495e2700",
   "metadata": {},
   "source": [
    "\n",
    "- KEGG NETWORK represents a renewed attempt by KEGG to capture knowledge of diseases and drugs in terms of perturbed molecular networks\n",
    "\n",
    ": Metabolic pathways -> individual pathways and reactions\n",
    "\n",
    "```\n",
    "pathway\n",
    "|\n",
    "|-- module\n",
    "|    |\n",
    "|    |-- reactions\n",
    "```"
   ]
  },
  {
   "cell_type": "code",
   "execution_count": 4,
   "id": "ac7a70aa-46b1-4a96-9762-f37e6c94da73",
   "metadata": {},
   "outputs": [],
   "source": [
    "from cobramod import create_object\n",
    "from pathlib import Path\n",
    "from cobramod.parsing.kegg import retrieve_data\n",
    "from cobramod import get_data\n",
    "import cobramod\n",
    "from cobra import Model"
   ]
  },
  {
   "cell_type": "code",
   "execution_count": 13,
   "id": "7e778c03-cdd3-46c1-9ce7-7198c03ee6ac",
   "metadata": {},
   "outputs": [],
   "source": [
    "# Using copy of test model\n",
    "test_model = Model('test_model')"
   ]
  },
  {
   "cell_type": "code",
   "execution_count": 48,
   "id": "82cccc70-6195-4d51-be56-df3655a83b34",
   "metadata": {},
   "outputs": [],
   "source": [
    "newobj= retrieve_data(\n",
    "    directory = Path.cwd().resolve().joinpath(\"tempdir\"),\n",
    "    identifier=\"hsa05210\")  # M00051"
   ]
  },
  {
   "cell_type": "code",
   "execution_count": 49,
   "id": "a80f982c-d1a6-4648-8667-7433f084a42d",
   "metadata": {
    "collapsed": true,
    "jupyter": {
     "outputs_hidden": true
    },
    "tags": []
   },
   "outputs": [
    {
     "data": {
      "text/plain": [
       "{'ENTRY': ['hsa05210                    Pathway'],\n",
       " 'NAME': ['Colorectal cancer - Homo sapiens (human)'],\n",
       " 'DESCRIPTION': ['Colorectal cancer (CRC) is the second largest cause of cancer-related deaths in Western countries. CRC arises from the colorectal epithelium as a result of the accumulation of genetic alterations in defined oncogenes and tumour suppressor genes (TSG). Two major mechanisms of genomic instability have been identified in sporadic CRC progression. The first, known as chromosomal instability (CIN), results from a series of genetic changes that involve the activation of oncogenes such as K-ras and inactivation of TSG such as p53, DCC/Smad4, and APC. The second, known as microsatellite instability (MSI), results from inactivation of the DNA mismatch repair genes MLH1 and/or MSH2 by hypermethylation of their promoter, and secondary mutation of genes with coding microsatellites, such as transforming growth factor receptor II (TGF-RII) and BAX. Hereditary syndromes have germline mutations in specific genes (mutation in the tumour suppressor gene APC on chromosome 5q in FAP, mutated DNA mismatch repair genes in HNPCC).'],\n",
       " 'CLASS': ['Human Diseases; Cancer: specific types'],\n",
       " 'PATHWAY_MAP': ['hsa05210  Colorectal cancer'],\n",
       " 'NETWORK': ['nt06210  ERK signaling',\n",
       "  'nt06213  Other RAS signaling',\n",
       "  'nt06214  PI3K signaling',\n",
       "  'nt06215  WNT signaling',\n",
       "  'nt06218  TGFB signaling',\n",
       "  'nt06231  Apoptosis',\n",
       "  'nt06240  Transcription',\n",
       "  'nt06260  Colorectal cancer',\n",
       "  'nt06261  Gastric cancer',\n",
       "  'nt06262  Pancreatic cancer',\n",
       "  'nt06263  Hepatocellular carcinoma',\n",
       "  'nt06265  Bladder cancer',\n",
       "  'nt06266  Non-small cell lung cancer',\n",
       "  'nt06267  Small cell lung cancer',\n",
       "  'nt06268  Melanoma',\n",
       "  'nt06269  Basal cell carcinoma',\n",
       "  'nt06270  Breast cancer',\n",
       "  'nt06271  Endometrial cancer',\n",
       "  'nt06273  Glioma',\n",
       "  'nt06274  Thyroid cancer',\n",
       "  'nt06275  Acute myeloid leukemia',\n",
       "  'nt06276  Chronic myeloid leukemia',\n",
       "  'ELEMENT   N00012  Mutation-activated KRAS/NRAS to ERK signaling pathway',\n",
       "  'N00032  Mutation-activated KRAS/NRAS to PI3K signaling pathway',\n",
       "  'N00041  EGFR-overexpression to RAS-ERK signaling pathway',\n",
       "  'N00042  EGFR-overexpression to PI3K signaling pathway',\n",
       "  'N00057  Mutation-inactivated APC to Wnt signaling pathway',\n",
       "  'N00058  Mutation-activated CTNNB1 to Wnt signaling pathway',\n",
       "  'N00064  Mutation-inactivated TGFBR2 to TGF-beta signaling pathway',\n",
       "  'N00065  Mutation-inactivated SMAD2 to TGF-beta signaling pathway',\n",
       "  'N00099  Mutation-inactivated BAX to apoptotic pathway',\n",
       "  'N00102  Loss of DCC to DCC-apoptotic pathway',\n",
       "  'N00104  Mutation-activated KRAS to RalGDS signaling pathway',\n",
       "  'N00115  Mutation-inactivated TP53 to transcription',\n",
       "  'N00230  TGFA-overexpression to RAS-ERK signaling pathway',\n",
       "  'N00232  TGFA-overexpression to PI3K signaling pathway',\n",
       "  'N00276  EGF-overexpression to RAS-ERK signaling pathway',\n",
       "  'N00278  EREG-overexpression to RAS-ERK signaling pathway',\n",
       "  'N00280  AREG-overexpression to RAS-ERK signaling pathway',\n",
       "  'N00281  EGF-overexpression to PI3K signaling pathway',\n",
       "  'N00283  EREG-overexpression to PI3K signaling pathway',\n",
       "  'N00285  AREG-overexpression to PI3K signaling pathway'],\n",
       " 'DISEASE': ['H00020  Colorectal cancer'],\n",
       " 'DRUG': ['D10137  Regorafenib hydrate (JAN)',\n",
       "  'D10138  Regorafenib (USAN/INN)'],\n",
       " 'ORGANISM': ['Homo sapiens (human) [GN:hsa]'],\n",
       " 'GENE': ['2932  GSK3B; glycogen synthase kinase 3 beta [KO:K03083] [EC:2.7.11.26]',\n",
       "  '8312  AXIN1; axin 1 [KO:K02157]',\n",
       "  '8313  AXIN2; axin 2 [KO:K04385]',\n",
       "  '1499  CTNNB1; catenin beta 1 [KO:K02105]',\n",
       "  '324  APC; APC regulator of WNT signaling pathway [KO:K02085]',\n",
       "  '10297  APC2; APC regulator of WNT signaling pathway 2 [KO:K02085]',\n",
       "  '6932  TCF7; transcription factor 7 [KO:K02620]',\n",
       "  '83439  TCF7L1; transcription factor 7 like 1 [KO:K04490]',\n",
       "  '6934  TCF7L2; transcription factor 7 like 2 [KO:K04491]',\n",
       "  '51176  LEF1; lymphoid enhancer binding factor 1 [KO:K04492]',\n",
       "  '332  BIRC5; baculoviral IAP repeat containing 5 [KO:K08731]',\n",
       "  '4609  MYC; MYC proto-oncogene, bHLH transcription factor [KO:K04377]',\n",
       "  '595  CCND1; cyclin D1 [KO:K04503]',\n",
       "  '3845  KRAS; KRAS proto-oncogene, GTPase [KO:K07827]',\n",
       "  '5290  PIK3CA; phosphatidylinositol-4,5-bisphosphate 3-kinase catalytic subunit alpha [KO:K00922] [EC:2.7.1.153]',\n",
       "  '5293  PIK3CD; phosphatidylinositol-4,5-bisphosphate 3-kinase catalytic subunit delta [KO:K00922] [EC:2.7.1.153]',\n",
       "  '5291  PIK3CB; phosphatidylinositol-4,5-bisphosphate 3-kinase catalytic subunit beta [KO:K00922] [EC:2.7.1.153]',\n",
       "  '5295  PIK3R1; phosphoinositide-3-kinase regulatory subunit 1 [KO:K02649]',\n",
       "  '5296  PIK3R2; phosphoinositide-3-kinase regulatory subunit 2 [KO:K02649]',\n",
       "  '8503  PIK3R3; phosphoinositide-3-kinase regulatory subunit 3 [KO:K02649]',\n",
       "  '207  AKT1; AKT serine/threonine kinase 1 [KO:K04456] [EC:2.7.11.1]',\n",
       "  '208  AKT2; AKT serine/threonine kinase 2 [KO:K04456] [EC:2.7.11.1]',\n",
       "  '10000  AKT3; AKT serine/threonine kinase 3 [KO:K04456] [EC:2.7.11.1]',\n",
       "  '572  BAD; BCL2 associated agonist of cell death [KO:K02158]',\n",
       "  '842  CASP9; caspase 9 [KO:K04399] [EC:3.4.22.62]',\n",
       "  '369  ARAF; A-Raf proto-oncogene, serine/threonine kinase [KO:K08845] [EC:2.7.11.1]',\n",
       "  '673  BRAF; B-Raf proto-oncogene, serine/threonine kinase [KO:K04365] [EC:2.7.11.1]',\n",
       "  '5894  RAF1; Raf-1 proto-oncogene, serine/threonine kinase [KO:K04366] [EC:2.7.11.1]',\n",
       "  '5604  MAP2K1; mitogen-activated protein kinase kinase 1 [KO:K04368] [EC:2.7.12.2]',\n",
       "  '5605  MAP2K2; mitogen-activated protein kinase kinase 2 [KO:K04369] [EC:2.7.12.2]',\n",
       "  '5594  MAPK1; mitogen-activated protein kinase 1 [KO:K04371] [EC:2.7.11.24]',\n",
       "  '5595  MAPK3; mitogen-activated protein kinase 3 [KO:K04371] [EC:2.7.11.24]',\n",
       "  '3725  JUN; Jun proto-oncogene, AP-1 transcription factor subunit [KO:K04448]',\n",
       "  '2353  FOS; Fos proto-oncogene, AP-1 transcription factor subunit [KO:K04379]',\n",
       "  '5900  RALGDS; ral guanine nucleotide dissociation stimulator [KO:K08732]',\n",
       "  '5898  RALA; RAS like proto-oncogene A [KO:K07834]',\n",
       "  '5899  RALB; RAS like proto-oncogene B [KO:K07835]',\n",
       "  '5879  RAC1; Rac family small GTPase 1 [KO:K04392]',\n",
       "  '5880  RAC2; Rac family small GTPase 2 [KO:K07860]',\n",
       "  '5881  RAC3; Rac family small GTPase 3 [KO:K07861]',\n",
       "  '387  RHOA; ras homolog family member A [KO:K04513]',\n",
       "  '5599  MAPK8; mitogen-activated protein kinase 8 [KO:K04440] [EC:2.7.11.24]',\n",
       "  '5602  MAPK10; mitogen-activated protein kinase 10 [KO:K04440] [EC:2.7.11.24]',\n",
       "  '5601  MAPK9; mitogen-activated protein kinase 9 [KO:K04440] [EC:2.7.11.24]',\n",
       "  '1630  DCC; DCC netrin 1 receptor [KO:K06765]',\n",
       "  '836  CASP3; caspase 3 [KO:K02187] [EC:3.4.22.56]',\n",
       "  '26060  APPL1; adaptor protein, phosphotyrosine interacting with PH domain and leucine zipper 1 [KO:K08733]',\n",
       "  '7040  TGFB1; transforming growth factor beta 1 [KO:K13375]',\n",
       "  '7042  TGFB2; transforming growth factor beta 2 [KO:K13376]',\n",
       "  '7043  TGFB3; transforming growth factor beta 3 [KO:K13377]',\n",
       "  '7046  TGFBR1; transforming growth factor beta receptor 1 [KO:K04674] [EC:2.7.11.30]',\n",
       "  '7048  TGFBR2; transforming growth factor beta receptor 2 [KO:K04388] [EC:2.7.11.30]',\n",
       "  '4087  SMAD2; SMAD family member 2 [KO:K04500]',\n",
       "  '4088  SMAD3; SMAD family member 3 [KO:K23605]',\n",
       "  '4089  SMAD4; SMAD family member 4 [KO:K04501]',\n",
       "  '4292  MLH1; mutL homolog 1 [KO:K08734]',\n",
       "  '4436  MSH2; mutS homolog 2 [KO:K08735]',\n",
       "  '4437  MSH3; mutS homolog 3 [KO:K08736]',\n",
       "  '2956  MSH6; mutS homolog 6 [KO:K08737]',\n",
       "  '581  BAX; BCL2 associated X, apoptosis regulator [KO:K02159]',\n",
       "  '5366  PMAIP1; phorbol-12-myristate-13-acetate-induced protein 1 [KO:K10131]',\n",
       "  '10018  BCL2L11; BCL2 like 11 [KO:K16341]',\n",
       "  '27113  BBC3; BCL2 binding component 3 [KO:K10132]',\n",
       "  '596  BCL2; BCL2 apoptosis regulator [KO:K02161]',\n",
       "  '54205  CYCS; cytochrome c, somatic [KO:K08738]',\n",
       "  '7157  TP53; tumor protein p53 [KO:K04451]',\n",
       "  '1026  CDKN1A; cyclin dependent kinase inhibitor 1A [KO:K06625]',\n",
       "  '1647  GADD45A; growth arrest and DNA damage inducible alpha [KO:K04402]',\n",
       "  '4616  GADD45B; growth arrest and DNA damage inducible beta [KO:K04402]',\n",
       "  '10912  GADD45G; growth arrest and DNA damage inducible gamma [KO:K04402]',\n",
       "  '578  BAK1; BCL2 antagonist/killer 1 [KO:K14021]',\n",
       "  '1643  DDB2; damage specific DNA binding protein 2 [KO:K10140]',\n",
       "  '51426  POLK; DNA polymerase kappa [KO:K03511] [EC:2.7.7.7]',\n",
       "  '1950  EGF; epidermal growth factor [KO:K04357]',\n",
       "  '7039  TGFA; transforming growth factor alpha [KO:K08774]',\n",
       "  '2069  EREG; epiregulin [KO:K09784]',\n",
       "  '374  AREG; amphiregulin [KO:K09782]',\n",
       "  '1956  EGFR; epidermal growth factor receptor [KO:K04361] [EC:2.7.10.1]',\n",
       "  '2885  GRB2; growth factor receptor bound protein 2 [KO:K04364]',\n",
       "  '6654  SOS1; SOS Ras/Rac guanine nucleotide exchange factor 1 [KO:K03099]',\n",
       "  '6655  SOS2; SOS Ras/Rho guanine nucleotide exchange factor 2 [KO:K03099]',\n",
       "  '3265  HRAS; HRas proto-oncogene, GTPase [KO:K02833]',\n",
       "  '4893  NRAS; NRAS proto-oncogene, GTPase [KO:K07828]',\n",
       "  '2475  MTOR; mechanistic target of rapamycin kinase [KO:K07203] [EC:2.7.11.1]',\n",
       "  '6198  RPS6KB1; ribosomal protein S6 kinase B1 [KO:K04688] [EC:2.7.11.1]',\n",
       "  '6199  RPS6KB2; ribosomal protein S6 kinase B2 [KO:K04688] [EC:2.7.11.1]'],\n",
       " 'COMPOUND': ['C05981  Phosphatidylinositol-3,4,5-trisphosphate'],\n",
       " 'REFERENCE': ['PMID:26149458',\n",
       "  'AUTHORS   Hutchinson RA, Adams RA, McArt DG, Salto-Tellez M, Jasani B, Hamilton PW',\n",
       "  'TITLE     Epidermal growth factor receptor immunohistochemistry: new opportunities in metastatic colorectal cancer.',\n",
       "  'JOURNAL   J Transl Med 13:217 (2015)',\n",
       "  'DOI:10.1186/s12967-015-0531-z'],\n",
       " 'REL_PATHWAY': ['hsa04010  MAPK signaling pathway',\n",
       "  'hsa04012  ErbB signaling pathway',\n",
       "  'hsa04110  Cell cycle',\n",
       "  'hsa04115  p53 signaling pathway',\n",
       "  'hsa04150  mTOR signaling pathway',\n",
       "  'hsa04151  PI3K-Akt signaling pathway',\n",
       "  'hsa04210  Apoptosis',\n",
       "  'hsa04310  Wnt signaling pathway',\n",
       "  'hsa04350  TGF-beta signaling pathway'],\n",
       " 'KO_PATHWAY': ['ko05210']}"
      ]
     },
     "execution_count": 49,
     "metadata": {},
     "output_type": "execute_result"
    }
   ],
   "source": [
    "newobj"
   ]
  },
  {
   "cell_type": "code",
   "execution_count": null,
   "id": "80fb4869-091c-4b71-b57f-ee526ffc7633",
   "metadata": {},
   "outputs": [],
   "source": []
  },
  {
   "cell_type": "markdown",
   "id": "55ee9426-b522-418b-91b4-79f36c1f0d72",
   "metadata": {
    "jp-MarkdownHeadingCollapsed": true,
    "tags": []
   },
   "source": [
    "# Escher"
   ]
  },
  {
   "cell_type": "code",
   "execution_count": null,
   "id": "e8f990a2-9197-4fb5-8c4b-2a546609cc17",
   "metadata": {
    "tags": []
   },
   "outputs": [],
   "source": [
    "\n",
    "\"\"\"\n",
    "gen_map() passing the Cobra model, a list of\n",
    "the reactions you wish to include and a list of metabolites you do\n",
    "not wish to be used to create links between reactions (e.g. ATP). This\n",
    "returns an EscherMap object. Use map_obj.dump_json() to get a JSON that\n",
    "can be passed to escher.Builder()\n",
    "\"\"\"\n",
    "import sys\n",
    "sys.path.append(\"escher_helper\")\n",
    "from escher_helper.generate_escher_map import gen_map\n",
    "\n",
    "recon3 = load_matlab_model('/Mounts/rbg-storage1/datasets/Metabo/Recon3D/Recon3D_301/Recon3D_301.mat')\n",
    "\n",
    "reactions_of_interest = list(recon3.groups[0].members)\n",
    "metabolites_of_interest = list(set([l.id for m in recon3.groups[0].members for l in list(m.metabolites.keys())]))\n",
    "bldr = gen_map(recon3,  reactions_of_interest, metabolites_of_interest)"
   ]
  },
  {
   "cell_type": "markdown",
   "id": "dc848a42-f6a4-45a6-b7a9-b973ee106fbb",
   "metadata": {
    "jp-MarkdownHeadingCollapsed": true,
    "tags": []
   },
   "source": [
    "---------------------------\n",
    "# HMDB (Done)"
   ]
  },
  {
   "cell_type": "code",
   "execution_count": 11,
   "id": "1b3c7b84-5434-4871-b7be-f30f0b88bb61",
   "metadata": {},
   "outputs": [],
   "source": [
    "metabolites_db = json.load(open(\"/Mounts/rbg-storage1/datasets/Metabo/HMDB/metabolites.json\", 'r'))"
   ]
  },
  {
   "cell_type": "code",
   "execution_count": 6,
   "id": "66a54f1b-0f63-4ca7-be6e-1d72ec728bd2",
   "metadata": {},
   "outputs": [],
   "source": [
    "protein_db = json.load(open(\"/Mounts/rbg-storage1/datasets/Metabo/HMDB/proteins.json\", 'r'))"
   ]
  },
  {
   "cell_type": "code",
   "execution_count": null,
   "id": "a522d308-d2b4-484d-afbf-dd31850398cb",
   "metadata": {},
   "outputs": [],
   "source": []
  },
  {
   "cell_type": "markdown",
   "id": "c2d7e422-3d49-44e5-b517-6df09c7b6973",
   "metadata": {
    "jp-MarkdownHeadingCollapsed": true,
    "tags": []
   },
   "source": [
    "# Drug Bank (To Parse)"
   ]
  },
  {
   "cell_type": "code",
   "execution_count": 5,
   "id": "1f5e7f8b-17ec-4733-9e39-fd136d0d1a6e",
   "metadata": {},
   "outputs": [],
   "source": [
    "import pandas as pd\n",
    "import json"
   ]
  },
  {
   "cell_type": "code",
   "execution_count": null,
   "id": "bf7c318c-eed3-4f29-9be8-b3fbafef5ebb",
   "metadata": {},
   "outputs": [],
   "source": [
    "protein_db = json.load(open(\"/Mounts/rbg-storage1/datasets/Metabo/HMDB/proteins.json\", 'r'))"
   ]
  },
  {
   "cell_type": "code",
   "execution_count": 9,
   "id": "fef7d8ad-9d36-435b-8a5a-90f7bb7d8500",
   "metadata": {},
   "outputs": [
    {
     "data": {
      "text/plain": [
       "'HMDBP00473'"
      ]
     },
     "execution_count": 9,
     "metadata": {},
     "output_type": "execute_result"
    }
   ],
   "source": [
    "protein_db['HMDBP00473']"
   ]
  },
  {
   "cell_type": "code",
   "execution_count": 10,
   "id": "877331b4",
   "metadata": {},
   "outputs": [],
   "source": [
    "# enzymes that are targets\n",
    "targets = pd.read_csv(\"/Mounts/rbg-storage1/users/pgmikhael/DrugBank/drugbank_all_target_polypeptide_ids/all.csv\")\n",
    "enzymes = pd.read_csv(\"/Mounts/rbg-storage1/users/pgmikhael/DrugBank/drugbank_all_enzyme_polypeptide_ids/all.csv\")\n",
    "approved = pd.read_csv(\"/Mounts/rbg-storage1/users/pgmikhael/DrugBank/drugbank_approved_target_polypeptide_ids/all.csv\")\n",
    "\n",
    "targets_as_enzymes = [ t for t in set(targets['UniProt ID']) if t in set(enzymes['UniProt ID'])]\n",
    "approved_targets_as_enzymes = [ t for t in targets_as_enzymes if t in set(approved['UniProt ID'])]\n",
    "\n",
    "summary = \"Targets that are enzymes: {}, Found in HMDB: {} \\\n",
    "\\nTargets that are enzymes for approved drugs: {}, Found in HMDB: {}\"\n",
    "\n",
    "# print( \n",
    "#     summary.format(\n",
    "#     len(targets_as_enzymes), len([t for t in targets_as_enzymes if hmdb_to_uniprot.get(t, False) ]),\n",
    "#     len(approved_targets_as_enzymes), len([t for t in approved_targets_as_enzymes if hmdb_to_uniprot.get(t, False) ]))\n",
    "# )"
   ]
  },
  {
   "cell_type": "code",
   "execution_count": 42,
   "id": "a613961d-2507-4c67-9210-ca099a81d118",
   "metadata": {},
   "outputs": [
    {
     "data": {
      "text/html": [
       "<div>\n",
       "<style scoped>\n",
       "    .dataframe tbody tr th:only-of-type {\n",
       "        vertical-align: middle;\n",
       "    }\n",
       "\n",
       "    .dataframe tbody tr th {\n",
       "        vertical-align: top;\n",
       "    }\n",
       "\n",
       "    .dataframe thead th {\n",
       "        text-align: right;\n",
       "    }\n",
       "</style>\n",
       "<table border=\"1\" class=\"dataframe\">\n",
       "  <thead>\n",
       "    <tr style=\"text-align: right;\">\n",
       "      <th></th>\n",
       "      <th>ID</th>\n",
       "      <th>Name</th>\n",
       "      <th>Gene Name</th>\n",
       "      <th>GenBank Protein ID</th>\n",
       "      <th>GenBank Gene ID</th>\n",
       "      <th>UniProt ID</th>\n",
       "      <th>Uniprot Title</th>\n",
       "      <th>PDB ID</th>\n",
       "      <th>GeneCard ID</th>\n",
       "      <th>GenAtlas ID</th>\n",
       "      <th>HGNC ID</th>\n",
       "      <th>Species</th>\n",
       "      <th>Drug IDs</th>\n",
       "    </tr>\n",
       "  </thead>\n",
       "  <tbody>\n",
       "    <tr>\n",
       "      <th>209</th>\n",
       "      <td>1542</td>\n",
       "      <td>Chloramphenicol acetyltransferase 3</td>\n",
       "      <td>cat3</td>\n",
       "      <td>47025.0</td>\n",
       "      <td>X07848</td>\n",
       "      <td>P00484</td>\n",
       "      <td>CAT3_ECOLX</td>\n",
       "      <td>1CIA; 1CLA; 1QCA; 2CLA; 3CLA; 4CLA</td>\n",
       "      <td>NaN</td>\n",
       "      <td>NaN</td>\n",
       "      <td>NaN</td>\n",
       "      <td>Escherichia coli</td>\n",
       "      <td>DB00446; DB07565</td>\n",
       "    </tr>\n",
       "    <tr>\n",
       "      <th>215</th>\n",
       "      <td>2015</td>\n",
       "      <td>Beta-lactamase SHV-1</td>\n",
       "      <td>bla</td>\n",
       "      <td>5002312.0</td>\n",
       "      <td>AF148850</td>\n",
       "      <td>P0AD63</td>\n",
       "      <td>BLA1_ECOLX</td>\n",
       "      <td>NaN</td>\n",
       "      <td>NaN</td>\n",
       "      <td>NaN</td>\n",
       "      <td>NaN</td>\n",
       "      <td>Escherichia coli</td>\n",
       "      <td>DB01598</td>\n",
       "    </tr>\n",
       "    <tr>\n",
       "      <th>287</th>\n",
       "      <td>9851</td>\n",
       "      <td>Beta-lactamase</td>\n",
       "      <td>NaN</td>\n",
       "      <td>NaN</td>\n",
       "      <td>NaN</td>\n",
       "      <td>Q939N4</td>\n",
       "      <td>Q939N4_ECOLX</td>\n",
       "      <td>1YLW</td>\n",
       "      <td>NaN</td>\n",
       "      <td>NaN</td>\n",
       "      <td>NaN</td>\n",
       "      <td>Escherichia coli</td>\n",
       "      <td>DB01598</td>\n",
       "    </tr>\n",
       "    <tr>\n",
       "      <th>288</th>\n",
       "      <td>9854</td>\n",
       "      <td>Beta-lactamase</td>\n",
       "      <td>blaCTX-M-14</td>\n",
       "      <td>NaN</td>\n",
       "      <td>NaN</td>\n",
       "      <td>Q9L5C7</td>\n",
       "      <td>Q9L5C7_ECOLX</td>\n",
       "      <td>1YLT; 1YLY; 1YLZ; 4XXR; 5TW6; 5TWD; 5TWE; 5VTH...</td>\n",
       "      <td>NaN</td>\n",
       "      <td>NaN</td>\n",
       "      <td>NaN</td>\n",
       "      <td>Escherichia coli</td>\n",
       "      <td>DB01598</td>\n",
       "    </tr>\n",
       "    <tr>\n",
       "      <th>289</th>\n",
       "      <td>9857</td>\n",
       "      <td>Beta-lactamase</td>\n",
       "      <td>blaCTX-M-27</td>\n",
       "      <td>NaN</td>\n",
       "      <td>NaN</td>\n",
       "      <td>Q840M4</td>\n",
       "      <td>Q840M4_ECOLX</td>\n",
       "      <td>1YLP</td>\n",
       "      <td>NaN</td>\n",
       "      <td>NaN</td>\n",
       "      <td>NaN</td>\n",
       "      <td>Escherichia coli</td>\n",
       "      <td>DB01598</td>\n",
       "    </tr>\n",
       "    <tr>\n",
       "      <th>312</th>\n",
       "      <td>3548</td>\n",
       "      <td>Aminoglycoside 3'-phosphotransferase</td>\n",
       "      <td>aphA1</td>\n",
       "      <td>43026.0</td>\n",
       "      <td>V00359</td>\n",
       "      <td>P00551</td>\n",
       "      <td>KKA1_ECOLX</td>\n",
       "      <td>NaN</td>\n",
       "      <td>NaN</td>\n",
       "      <td>NaN</td>\n",
       "      <td>NaN</td>\n",
       "      <td>Escherichia coli</td>\n",
       "      <td>DB01172</td>\n",
       "    </tr>\n",
       "    <tr>\n",
       "      <th>341</th>\n",
       "      <td>3894</td>\n",
       "      <td>Beta-lactamase TEM</td>\n",
       "      <td>bla</td>\n",
       "      <td>208959.0</td>\n",
       "      <td>J01749</td>\n",
       "      <td>P62593</td>\n",
       "      <td>BLAT_ECOLX</td>\n",
       "      <td>1AXB; 1BT5; 1BTL; 1CK3; 1ERM; 1ERO; 1ERQ; 1ESU...</td>\n",
       "      <td>NaN</td>\n",
       "      <td>NaN</td>\n",
       "      <td>NaN</td>\n",
       "      <td>Escherichia coli</td>\n",
       "      <td>DB01053; DB01598</td>\n",
       "    </tr>\n",
       "  </tbody>\n",
       "</table>\n",
       "</div>"
      ],
      "text/plain": [
       "       ID                                  Name    Gene Name  \\\n",
       "209  1542   Chloramphenicol acetyltransferase 3         cat3   \n",
       "215  2015                  Beta-lactamase SHV-1          bla   \n",
       "287  9851                        Beta-lactamase          NaN   \n",
       "288  9854                        Beta-lactamase  blaCTX-M-14   \n",
       "289  9857                        Beta-lactamase  blaCTX-M-27   \n",
       "312  3548  Aminoglycoside 3'-phosphotransferase        aphA1   \n",
       "341  3894                    Beta-lactamase TEM          bla   \n",
       "\n",
       "     GenBank Protein ID GenBank Gene ID UniProt ID Uniprot Title  \\\n",
       "209             47025.0          X07848     P00484    CAT3_ECOLX   \n",
       "215           5002312.0        AF148850     P0AD63    BLA1_ECOLX   \n",
       "287                 NaN             NaN     Q939N4  Q939N4_ECOLX   \n",
       "288                 NaN             NaN     Q9L5C7  Q9L5C7_ECOLX   \n",
       "289                 NaN             NaN     Q840M4  Q840M4_ECOLX   \n",
       "312             43026.0          V00359     P00551    KKA1_ECOLX   \n",
       "341            208959.0          J01749     P62593    BLAT_ECOLX   \n",
       "\n",
       "                                                PDB ID  GeneCard ID  \\\n",
       "209                 1CIA; 1CLA; 1QCA; 2CLA; 3CLA; 4CLA          NaN   \n",
       "215                                                NaN          NaN   \n",
       "287                                               1YLW          NaN   \n",
       "288  1YLT; 1YLY; 1YLZ; 4XXR; 5TW6; 5TWD; 5TWE; 5VTH...          NaN   \n",
       "289                                               1YLP          NaN   \n",
       "312                                                NaN          NaN   \n",
       "341  1AXB; 1BT5; 1BTL; 1CK3; 1ERM; 1ERO; 1ERQ; 1ESU...          NaN   \n",
       "\n",
       "    GenAtlas ID HGNC ID           Species          Drug IDs  \n",
       "209         NaN     NaN  Escherichia coli  DB00446; DB07565  \n",
       "215         NaN     NaN  Escherichia coli           DB01598  \n",
       "287         NaN     NaN  Escherichia coli           DB01598  \n",
       "288         NaN     NaN  Escherichia coli           DB01598  \n",
       "289         NaN     NaN  Escherichia coli           DB01598  \n",
       "312         NaN     NaN  Escherichia coli           DB01172  \n",
       "341         NaN     NaN  Escherichia coli  DB01053; DB01598  "
      ]
     },
     "execution_count": 42,
     "metadata": {},
     "output_type": "execute_result"
    }
   ],
   "source": [
    "enzymes[enzymes['Species'] == \"Escherichia coli\"]"
   ]
  },
  {
   "cell_type": "code",
   "execution_count": null,
   "id": "fd90c83b-5199-409c-bb46-1601f8f5968d",
   "metadata": {},
   "outputs": [],
   "source": []
  },
  {
   "cell_type": "code",
   "execution_count": 94,
   "id": "18f96c03-6e3b-473e-adca-3fff4a92eb44",
   "metadata": {},
   "outputs": [],
   "source": [
    "import json"
   ]
  },
  {
   "cell_type": "code",
   "execution_count": 95,
   "id": "a1d1e694-6e6a-431a-886d-e0d0f3476f58",
   "metadata": {},
   "outputs": [],
   "source": [
    "ecoli_model = json.load(open(\"/Mounts/rbg-storage1/datasets/Metabo/datasets/iML1515_dataset.json\", \"r\"))"
   ]
  },
  {
   "cell_type": "code",
   "execution_count": 34,
   "id": "3b151add-b0f9-4bc3-8412-555b36c583eb",
   "metadata": {},
   "outputs": [
    {
     "data": {
      "text/plain": [
       "'MTDQSHQCVIIGIAGASASGKSLIASTLYRELREQVGDEHIGVIPEDCYYKDQSHLSMEERVKTNYDHPSAMDHSLLLEHLQALKRGSAIDLPVYSYVEHTRMKETVTVEPKKVIILEGILLLTDARLRDELNFSIFVDTPLDICLMRRIKRDVNERGRSMDSVMAQYQKTVRPMFLQFIEPSKQYADIIVPRGGKNRIAIDILKAKISQFFE'"
      ]
     },
     "execution_count": 34,
     "metadata": {},
     "output_type": "execute_result"
    }
   ],
   "source": [
    "ecoli_model[0]['proteins'][0]['protein_sequence']"
   ]
  },
  {
   "cell_type": "code",
   "execution_count": 26,
   "id": "38d5d523-3cd4-48ec-835d-b369d3b58a37",
   "metadata": {},
   "outputs": [],
   "source": [
    "ecoli_proteins = [ \n",
    "    uniprot['id'] \n",
    "    for rxn_dict in ecoli_model for protein_dict in rxn_dict['proteins'] for uniprot in protein_dict['database_links'].get('UniProt', [{'id':None}])\n",
    "]\n",
    "ecoli_proteins = list(set(ecoli_proteins))"
   ]
  },
  {
   "cell_type": "code",
   "execution_count": 35,
   "id": "f969de0e-2ce6-47f0-a216-91e766d3477b",
   "metadata": {},
   "outputs": [],
   "source": [
    "ecoli_protein_seqs = [ \n",
    "    protein_dict['protein_sequence']\n",
    "    for rxn_dict in ecoli_model for protein_dict in rxn_dict['proteins'] \n",
    "]\n",
    "ecoli_protein_seqs = list(set(ecoli_protein_seqs))"
   ]
  },
  {
   "cell_type": "code",
   "execution_count": 36,
   "id": "8b8d86f8-2cdd-48b5-85c7-702fe76f8ceb",
   "metadata": {},
   "outputs": [
    {
     "data": {
      "text/plain": [
       "1514"
      ]
     },
     "execution_count": 36,
     "metadata": {},
     "output_type": "execute_result"
    }
   ],
   "source": [
    "len(ecoli_protein_seqs)"
   ]
  },
  {
   "cell_type": "code",
   "execution_count": null,
   "id": "9955d422-785a-479d-9251-50c021ad5805",
   "metadata": {},
   "outputs": [],
   "source": [
    "ecoli_proteins = [ \n",
    "    uniprot['id'] \n",
    "    for rxn_dict in ecoli_model for protein_dict in rxn_dict['proteins'] for uniprot in protein_dict['database_links'].get('UniProt', [{'id':None}])\n",
    "]\n",
    "ecoli_proteins = list(set(ecoli_proteins))"
   ]
  },
  {
   "cell_type": "code",
   "execution_count": 31,
   "id": "aff0fdfa-f3f1-49d0-9f5b-6bb6a3764ae0",
   "metadata": {},
   "outputs": [],
   "source": [
    "seq = \"MSIQHFRVALIPFFAAFCLPVFAHPETLVKVKDAEDQLGARVGYIELDLNSGKILESFRPEERFPMMSTFKVLLCGAVLSRVDAGQEQLGRRIHYSQNDLVEYSPVTEKHLTDGMTVRELCSAAITMSDNTAANLLLTTIGGPKELTAFLHNMGDHVTRLDRWEPELNEAIPNDERDTTMPAAMATTLRKLLTGELLTLASRQQLIDWMEADKVAGPLLRSALPAGWFIADKSGAGERGSRGIIAALGPDGKPSRIVVIYTTGSQATMDERNRQIAEIGASLIKHW\""
   ]
  },
  {
   "cell_type": "code",
   "execution_count": 39,
   "id": "4ca1aab5-33eb-462d-afaf-ec1edb44328d",
   "metadata": {},
   "outputs": [
    {
     "data": {
      "text/plain": [
       "{'P46883'}"
      ]
     },
     "execution_count": 39,
     "metadata": {},
     "output_type": "execute_result"
    }
   ],
   "source": [
    "set(ecoli_proteins).intersection(set(targets_as_enzymes))"
   ]
  },
  {
   "cell_type": "code",
   "execution_count": 47,
   "id": "0588dc54-b565-487b-bb83-6cd7b9b0c847",
   "metadata": {},
   "outputs": [],
   "source": [
    "chembl_targets = pd.read_csv(\"chembl_ecoli_targets.csv\", delimiter = \";\")"
   ]
  },
  {
   "cell_type": "code",
   "execution_count": 61,
   "id": "3825e31b-e13b-4c4f-ae26-84d87402f6a4",
   "metadata": {
    "collapsed": true,
    "jupyter": {
     "outputs_hidden": true
    },
    "tags": []
   },
   "outputs": [
    {
     "data": {
      "text/plain": [
       "{'P00946',\n",
       " 'P04036',\n",
       " 'P05793',\n",
       " 'P05804',\n",
       " 'P06988',\n",
       " 'P08192',\n",
       " 'P0A6F3',\n",
       " 'P0A6I6',\n",
       " 'P0A6X1',\n",
       " 'P0A720',\n",
       " 'P0A752',\n",
       " 'P0A7E9',\n",
       " 'P0A8F0',\n",
       " 'P0A955',\n",
       " 'P0A9M5',\n",
       " 'P0A9P4',\n",
       " 'P0ABF8',\n",
       " 'P0ACB2',\n",
       " 'P0ACC7',\n",
       " 'P0AD57',\n",
       " 'P17443',\n",
       " 'P22188',\n",
       " 'P24173',\n",
       " 'P26281',\n",
       " 'P26616',\n",
       " 'P26647',\n",
       " 'P41052',\n",
       " 'P60472',\n",
       " 'P60546',\n",
       " 'P60932',\n",
       " 'P62615',\n",
       " 'P62617',\n",
       " 'P76558',\n",
       " 'P77364',\n",
       " 'P77488',\n",
       " 'Q6BF16'}"
      ]
     },
     "execution_count": 61,
     "metadata": {},
     "output_type": "execute_result"
    }
   ],
   "source": [
    "set(ecoli_proteins).intersection(set(list(chembl_targets['UniProt Accessions'])))"
   ]
  },
  {
   "cell_type": "code",
   "execution_count": 58,
   "id": "2be5218e-d91d-4810-aa91-509cef6c7fd0",
   "metadata": {},
   "outputs": [],
   "source": [
    "chembl_all_targets = pd.read_csv(\"chembl_targets.csv\", delimiter = \";\")"
   ]
  },
  {
   "cell_type": "code",
   "execution_count": 59,
   "id": "0d163e33-f290-438a-a042-7dfd29951dd3",
   "metadata": {},
   "outputs": [
    {
     "data": {
      "text/plain": [
       "92"
      ]
     },
     "execution_count": 59,
     "metadata": {},
     "output_type": "execute_result"
    }
   ],
   "source": [
    "len(set(ecoli_proteins).intersection(set(list(chembl_all_targets['UniProt Accessions']))))"
   ]
  },
  {
   "cell_type": "code",
   "execution_count": 60,
   "id": "3e46b3b1-4bd3-4c2d-b430-bf1b93eaa039",
   "metadata": {
    "collapsed": true,
    "jupyter": {
     "outputs_hidden": true
    },
    "tags": []
   },
   "outputs": [
    {
     "data": {
      "text/plain": [
       "{'P00634',\n",
       " 'P00722',\n",
       " 'P00946',\n",
       " 'P02918',\n",
       " 'P02919',\n",
       " 'P02930',\n",
       " 'P04036',\n",
       " 'P04825',\n",
       " 'P05194',\n",
       " 'P05793',\n",
       " 'P05804',\n",
       " 'P06720',\n",
       " 'P06721',\n",
       " 'P06987',\n",
       " 'P06988',\n",
       " 'P07003',\n",
       " 'P07639',\n",
       " 'P07650',\n",
       " 'P07862',\n",
       " 'P08192',\n",
       " 'P08373',\n",
       " 'P0A6A8',\n",
       " 'P0A6B4',\n",
       " 'P0A6D3',\n",
       " 'P0A6F3',\n",
       " 'P0A6I3',\n",
       " 'P0A6I6',\n",
       " 'P0A6L2',\n",
       " 'P0A6R0',\n",
       " 'P0A6W3',\n",
       " 'P0A6X1',\n",
       " 'P0A720',\n",
       " 'P0A722',\n",
       " 'P0A725',\n",
       " 'P0A749',\n",
       " 'P0A752',\n",
       " 'P0A7E9',\n",
       " 'P0A884',\n",
       " 'P0A8F0',\n",
       " 'P0A953',\n",
       " 'P0A955',\n",
       " 'P0A9C5',\n",
       " 'P0A9J4',\n",
       " 'P0A9J6',\n",
       " 'P0A9J8',\n",
       " 'P0A9M5',\n",
       " 'P0A9P4',\n",
       " 'P0AB71',\n",
       " 'P0AB98',\n",
       " 'P0ABF8',\n",
       " 'P0ABQ4',\n",
       " 'P0AC13',\n",
       " 'P0ACB2',\n",
       " 'P0ACC7',\n",
       " 'P0AD57',\n",
       " 'P0AD65',\n",
       " 'P0ADG7',\n",
       " 'P0AEG4',\n",
       " 'P0AEJ2',\n",
       " 'P0AEK4',\n",
       " 'P0AEX9',\n",
       " 'P0AEY8',\n",
       " 'P0AG20',\n",
       " 'P10378',\n",
       " 'P10384',\n",
       " 'P11880',\n",
       " 'P13738',\n",
       " 'P14900',\n",
       " 'P17443',\n",
       " 'P17952',\n",
       " 'P22188',\n",
       " 'P22939',\n",
       " 'P24173',\n",
       " 'P26281',\n",
       " 'P26616',\n",
       " 'P26647',\n",
       " 'P28305',\n",
       " 'P31224',\n",
       " 'P37747',\n",
       " 'P38489',\n",
       " 'P41052',\n",
       " 'P45568',\n",
       " 'P45578',\n",
       " 'P60472',\n",
       " 'P60546',\n",
       " 'P60932',\n",
       " 'P62615',\n",
       " 'P62617',\n",
       " 'P76558',\n",
       " 'P77364',\n",
       " 'P77488',\n",
       " 'Q6BF16'}"
      ]
     },
     "execution_count": 60,
     "metadata": {},
     "output_type": "execute_result"
    }
   ],
   "source": [
    "set(ecoli_proteins).intersection(set(list(chembl_all_targets['UniProt Accessions'])))"
   ]
  },
  {
   "cell_type": "code",
   "execution_count": null,
   "id": "bb9b7aa3-b33b-44cc-946d-a9c15c402a99",
   "metadata": {},
   "outputs": [],
   "source": []
  },
  {
   "cell_type": "code",
   "execution_count": null,
   "id": "11933bda-e204-4f77-81d7-e1314037212c",
   "metadata": {},
   "outputs": [],
   "source": []
  },
  {
   "cell_type": "code",
   "execution_count": 62,
   "id": "e215b7bb-5af1-46ff-9bad-b9ca5420ab45",
   "metadata": {},
   "outputs": [
    {
     "data": {
      "text/plain": [
       "'P77268'"
      ]
     },
     "execution_count": 62,
     "metadata": {},
     "output_type": "execute_result"
    }
   ],
   "source": [
    "ecoli_proteins[0]"
   ]
  },
  {
   "cell_type": "code",
   "execution_count": 65,
   "id": "82085e1b-f459-4421-b6e3-3d62be312b72",
   "metadata": {},
   "outputs": [],
   "source": []
  },
  {
   "cell_type": "code",
   "execution_count": null,
   "id": "64378bd9-9963-4d68-b165-ed60444ba951",
   "metadata": {},
   "outputs": [],
   "source": [
    "page = requests.get(\n",
    "    f\"https://websvc.biocyc.org/getxml?id={biocycid}&detail=full\"\n",
    ")"
   ]
  },
  {
   "cell_type": "code",
   "execution_count": null,
   "id": "54eb7514-3b45-42fa-b8a5-c8e234618914",
   "metadata": {},
   "outputs": [],
   "source": [
    "https://pubchem.ncbi.nlm.nih.gov/rest/pug/assay/aid/490/targets/PP77268/XML"
   ]
  },
  {
   "cell_type": "code",
   "execution_count": null,
   "id": "11c8b60c-ec43-46d0-baed-e846c33d8308",
   "metadata": {},
   "outputs": [],
   "source": [
    "# BioAssay:\n",
    "prolog = \"https://pubchem.ncbi.nlm.nih.gov/rest/pug\"\n",
    "input = \"assay/aid/{id}\"\n",
    "operation = \"/description\"\n",
    "output = \"/XML\""
   ]
  },
  {
   "cell_type": "markdown",
   "id": "ac656e1c-f32e-4d38-97ad-ee5554fda2c3",
   "metadata": {
    "tags": []
   },
   "source": [
    "#### pubchem"
   ]
  },
  {
   "cell_type": "code",
   "execution_count": null,
   "id": "f304f5ca-0402-4074-a03f-5ea01719790c",
   "metadata": {},
   "outputs": [],
   "source": [
    "import pubchempy\n",
    "import requests\n",
    "# https://pubchemdocs.ncbi.nlm.nih.gov/pug-rest-tutorial"
   ]
  },
  {
   "cell_type": "code",
   "execution_count": 66,
   "id": "435bdc15-4e17-4f00-83c4-12c7aec3f97a",
   "metadata": {},
   "outputs": [],
   "source": [
    "# get protein information\n",
    "protein_id = \"P77268\"\n",
    "pg = requests.get(f\"https://pubchem.ncbi.nlm.nih.gov/rest/pug/protein/accession/{protein_id}/summary/JSON\").json()"
   ]
  },
  {
   "cell_type": "code",
   "execution_count": 67,
   "id": "a233b194-0de4-4089-a997-0687beaa6ecb",
   "metadata": {},
   "outputs": [
    {
     "data": {
      "text/plain": [
       "{'ProteinSummaries': {'ProteinSummary': [{'ProteinAccession': 'P77268',\n",
       "    'Name': 'Probable D,D-dipeptide transport ATP-binding protein DdpD',\n",
       "    'TaxonomyID': 83333,\n",
       "    'Taxonomy': 'Escherichia coli K-12'}]}}"
      ]
     },
     "execution_count": 67,
     "metadata": {},
     "output_type": "execute_result"
    }
   ],
   "source": [
    "pg"
   ]
  },
  {
   "cell_type": "code",
   "execution_count": 84,
   "id": "7293a1df-c6e7-42ab-aba4-79c18e0963a5",
   "metadata": {},
   "outputs": [],
   "source": [
    "# get assay information\n",
    "aid = \"1146827\"\n",
    "rs = requests.get(f\"https://pubchem.ncbi.nlm.nih.gov/rest/pug/assay/aid/{aid}/concise/JSON\").json()"
   ]
  },
  {
   "cell_type": "code",
   "execution_count": 85,
   "id": "81c0914b-c62c-481a-b18a-184750c80077",
   "metadata": {
    "collapsed": true,
    "jupyter": {
     "outputs_hidden": true
    },
    "tags": []
   },
   "outputs": [
    {
     "data": {
      "text/plain": [
       "{'Table': {'Columns': {'Column': ['AID',\n",
       "    'SID',\n",
       "    'CID',\n",
       "    'Activity Outcome',\n",
       "    'Target Accession',\n",
       "    'Target GeneID',\n",
       "    'Activity Value [uM]',\n",
       "    'Activity Name',\n",
       "    'Assay Name',\n",
       "    'Assay Type',\n",
       "    'PubMed ID',\n",
       "    'RNAi']},\n",
       "  'Row': [{'Cell': ['1146827',\n",
       "     '242644934',\n",
       "     '12376153',\n",
       "     'Inactive',\n",
       "     'P00634',\n",
       "     '',\n",
       "     '',\n",
       "     '',\n",
       "     'Inhibition of Escherichia coli alkaline phosphatase assessed as p-nitrophenol formation using p-nitrophenyl phosphate as substrate up to 100 uM treated 15 mins prior to substrate addition by spectrophotometric analysis',\n",
       "     'Other',\n",
       "     '333114',\n",
       "     '']},\n",
       "   {'Cell': ['1146827',\n",
       "     '242644935',\n",
       "     '12376152',\n",
       "     'Inactive',\n",
       "     'P00634',\n",
       "     '',\n",
       "     '',\n",
       "     '',\n",
       "     'Inhibition of Escherichia coli alkaline phosphatase assessed as p-nitrophenol formation using p-nitrophenyl phosphate as substrate up to 100 uM treated 15 mins prior to substrate addition by spectrophotometric analysis',\n",
       "     'Other',\n",
       "     '333114',\n",
       "     '']},\n",
       "   {'Cell': ['1146827',\n",
       "     '242644936',\n",
       "     '12376155',\n",
       "     'Inactive',\n",
       "     'P00634',\n",
       "     '',\n",
       "     '',\n",
       "     '',\n",
       "     'Inhibition of Escherichia coli alkaline phosphatase assessed as p-nitrophenol formation using p-nitrophenyl phosphate as substrate up to 100 uM treated 15 mins prior to substrate addition by spectrophotometric analysis',\n",
       "     'Other',\n",
       "     '333114',\n",
       "     '']},\n",
       "   {'Cell': ['1146827',\n",
       "     '242644937',\n",
       "     '12376154',\n",
       "     'Inactive',\n",
       "     'P00634',\n",
       "     '',\n",
       "     '',\n",
       "     '',\n",
       "     'Inhibition of Escherichia coli alkaline phosphatase assessed as p-nitrophenol formation using p-nitrophenyl phosphate as substrate up to 100 uM treated 15 mins prior to substrate addition by spectrophotometric analysis',\n",
       "     'Other',\n",
       "     '333114',\n",
       "     '']},\n",
       "   {'Cell': ['1146827',\n",
       "     '242644938',\n",
       "     '12376157',\n",
       "     'Inactive',\n",
       "     'P00634',\n",
       "     '',\n",
       "     '',\n",
       "     '',\n",
       "     'Inhibition of Escherichia coli alkaline phosphatase assessed as p-nitrophenol formation using p-nitrophenyl phosphate as substrate up to 100 uM treated 15 mins prior to substrate addition by spectrophotometric analysis',\n",
       "     'Other',\n",
       "     '333114',\n",
       "     '']},\n",
       "   {'Cell': ['1146827',\n",
       "     '242644939',\n",
       "     '12376156',\n",
       "     'Inactive',\n",
       "     'P00634',\n",
       "     '',\n",
       "     '',\n",
       "     '',\n",
       "     'Inhibition of Escherichia coli alkaline phosphatase assessed as p-nitrophenol formation using p-nitrophenyl phosphate as substrate up to 100 uM treated 15 mins prior to substrate addition by spectrophotometric analysis',\n",
       "     'Other',\n",
       "     '333114',\n",
       "     '']}]}}"
      ]
     },
     "execution_count": 85,
     "metadata": {},
     "output_type": "execute_result"
    }
   ],
   "source": [
    "rs"
   ]
  },
  {
   "cell_type": "code",
   "execution_count": null,
   "id": "80eee901-c63a-4953-822a-9439ed284a01",
   "metadata": {},
   "outputs": [],
   "source": []
  },
  {
   "cell_type": "markdown",
   "id": "7b5d8082-5add-4bda-a287-6329569e05ad",
   "metadata": {},
   "source": [
    "#### chembl"
   ]
  },
  {
   "cell_type": "code",
   "execution_count": 1,
   "id": "6f25e48a-6161-40c8-9657-b6c12a014315",
   "metadata": {},
   "outputs": [],
   "source": [
    "import sqlite3"
   ]
  },
  {
   "cell_type": "code",
   "execution_count": 2,
   "id": "9600d214-096c-430a-b702-5afe200f9fa2",
   "metadata": {},
   "outputs": [],
   "source": [
    "chembl_path = \"/Mounts/rbg-storage1/datasets/ChEMBL/chembl_31/chembl_31_sqlite/chembl_31.db\""
   ]
  },
  {
   "cell_type": "code",
   "execution_count": 3,
   "id": "410244eb-8945-4150-a6a1-d55fc05de5a1",
   "metadata": {},
   "outputs": [],
   "source": [
    "conn = sqlite3.connect(chembl_path)"
   ]
  },
  {
   "cell_type": "code",
   "execution_count": 6,
   "id": "96e21e1f-95fe-4e2e-a5dd-e705e0971ca7",
   "metadata": {},
   "outputs": [],
   "source": [
    "cursor = conn.cursor()"
   ]
  },
  {
   "cell_type": "code",
   "execution_count": 95,
   "id": "6e5201e7-5fe2-42bf-b4df-1ba1da5cffd6",
   "metadata": {},
   "outputs": [
    {
     "data": {
      "text/plain": [
       "<sqlite3.Cursor at 0x7f8d3a4ad030>"
      ]
     },
     "execution_count": 95,
     "metadata": {},
     "output_type": "execute_result"
    }
   ],
   "source": [
    "cursor.execute(\"\"\"SELECT name FROM sqlite_master WHERE type='table';\"\"\")"
   ]
  },
  {
   "cell_type": "code",
   "execution_count": 96,
   "id": "4bf46d66-74a9-4f38-b60b-2b5dec2ae602",
   "metadata": {},
   "outputs": [
    {
     "name": "stdout",
     "output_type": "stream",
     "text": [
      "[('action_type',), ('assay_type',), ('chembl_id_lookup',), ('confidence_score_lookup',), ('curation_lookup',), ('source',), ('relationship_type',), ('target_type',), ('variant_sequences',), ('bioassay_ontology',), ('data_validity_lookup',), ('activity_smid',), ('activity_stds_lookup',), ('assay_classification',), ('atc_classification',), ('bio_component_sequences',), ('component_sequences',), ('protein_classification',), ('domains',), ('go_classification',), ('structural_alert_sets',), ('products',), ('frac_classification',), ('hrac_classification',), ('irac_classification',), ('research_stem',), ('organism_class',), ('patent_use_codes',), ('protein_family_classification',), ('usan_stems',), ('version',), ('cell_dictionary',), ('docs',), ('target_dictionary',), ('tissue_dictionary',), ('molecule_dictionary',), ('activity_supp',), ('component_class',), ('component_domains',), ('component_go',), ('component_synonyms',), ('structural_alerts',), ('defined_daily_dose',), ('product_patents',), ('protein_class_synonyms',), ('research_companies',), ('assays',), ('compound_records',), ('binding_sites',), ('biotherapeutics',), ('compound_properties',), ('compound_structural_alerts',), ('compound_structures',), ('molecule_atc_classification',), ('molecule_frac_classification',), ('molecule_hierarchy',), ('molecule_hrac_classification',), ('molecule_irac_classification',), ('molecule_synonyms',), ('target_components',), ('target_relations',), ('activities',), ('assay_class_map',), ('assay_parameters',), ('biotherapeutic_components',), ('drug_indication',), ('drug_mechanism',), ('drug_warning',), ('formulations',), ('metabolism',), ('site_components',), ('activity_properties',), ('activity_supp_map',), ('indication_refs',), ('ligand_eff',), ('mechanism_refs',), ('metabolism_refs',), ('predicted_binding_domains',), ('warning_refs',), ('sqlite_stat1',)]\n"
     ]
    }
   ],
   "source": [
    "print(cursor.fetchall())"
   ]
  },
  {
   "cell_type": "code",
   "execution_count": null,
   "id": "5180a174-9b64-4def-949a-76b4a4d50428",
   "metadata": {},
   "outputs": [],
   "source": []
  },
  {
   "cell_type": "code",
   "execution_count": 79,
   "id": "60c669c6-2d02-46c4-b053-4707fa5182f8",
   "metadata": {},
   "outputs": [
    {
     "data": {
      "text/plain": [
       "<sqlite3.Cursor at 0x7f4f77fe8c00>"
      ]
     },
     "execution_count": 79,
     "metadata": {},
     "output_type": "execute_result"
    }
   ],
   "source": [
    "cursor.execute(\"\"\"SELECT * from component_synonyms\"\"\")"
   ]
  },
  {
   "cell_type": "code",
   "execution_count": 80,
   "id": "38d44587-ec3f-4e72-a44b-e1d783ba01db",
   "metadata": {},
   "outputs": [
    {
     "data": {
      "text/plain": [
       "['compsyn_id', 'component_id', 'component_synonym', 'syn_type']"
      ]
     },
     "execution_count": 80,
     "metadata": {},
     "output_type": "execute_result"
    }
   ],
   "source": [
    "list(map(lambda x: x[0], cursor.description))"
   ]
  },
  {
   "cell_type": "code",
   "execution_count": null,
   "id": "23602f52-8189-4cc2-992e-c8faf3eec1a1",
   "metadata": {},
   "outputs": [],
   "source": []
  },
  {
   "cell_type": "code",
   "execution_count": null,
   "id": "41c2cb45-8e15-4753-9937-72e36e225f9b",
   "metadata": {},
   "outputs": [],
   "source": [
    "# get chemblid from uniprot\n",
    "cursor.execute(\"\"\"SELECT * FROM target_dictionary td\n",
    "INNER JOIN  target_components tc on td.tid=tc.tid\n",
    "INNER JOIN component_sequences cseq on tc.component_id=cseq.component_id\n",
    "AND cseq.accession='P0A7Y4';\"\"\")\n",
    "cursor.fetchall()"
   ]
  },
  {
   "cell_type": "code",
   "execution_count": null,
   "id": "c822d443-4979-4d2e-9d4a-bd5c0f0015de",
   "metadata": {},
   "outputs": [],
   "source": []
  },
  {
   "cell_type": "code",
   "execution_count": 130,
   "id": "c6fcbe06-a03a-4c2c-bb2f-75f90a0f610e",
   "metadata": {},
   "outputs": [
    {
     "data": {
      "text/plain": [
       "[('CHEMBL1770039',), ('CHEMBL3259513',)]"
      ]
     },
     "execution_count": 130,
     "metadata": {},
     "output_type": "execute_result"
    }
   ],
   "source": [
    "# get chemblid from uniprot\n",
    "uniprots = ('P0A7Y4','P06612')\n",
    "cursor.execute(f\"\"\"SELECT chembl_id FROM target_dictionary td\n",
    "INNER JOIN  target_components tc on td.tid=tc.tid\n",
    "INNER JOIN component_sequences cseq on tc.component_id=cseq.component_id\n",
    "AND cseq.accession IN {uniprots};\"\"\")\n",
    "cursor.fetchall()"
   ]
  },
  {
   "cell_type": "code",
   "execution_count": null,
   "id": "7d4497df-11e5-4fa5-837a-3649f61303f9",
   "metadata": {},
   "outputs": [],
   "source": []
  },
  {
   "cell_type": "code",
   "execution_count": 47,
   "id": "5dca0cda-c1cb-4baf-92ce-bb646ae3a139",
   "metadata": {},
   "outputs": [],
   "source": [
    "chmbl_targets = ('CHEMBL1827', 'CHEMBL1827')\n",
    "cmd = f\"\"\"SELECT m.chembl_id AS compound_chembl_id,\n",
    "s.canonical_smiles,\n",
    "r.compound_key,\n",
    "a.description                   AS assay_description,\n",
    "act.standard_type,\n",
    "act.standard_relation,\n",
    "act.standard_value,\n",
    "act.standard_units,\n",
    "act.activity_comment,\n",
    "t.chembl_id                    AS target_chembl_id,\n",
    "t.pref_name                    AS target_name,\n",
    "t.organism                     AS target_organism\n",
    "FROM compound_structures s\n",
    "  JOIN molecule_dictionary m ON s.molregno = m.molregno\n",
    "  JOIN compound_records r ON m.molregno = r.molregno\n",
    "  JOIN docs d ON r.doc_id = d.doc_id\n",
    "  JOIN activities act ON r.record_id = act.record_id\n",
    "  JOIN assays a ON act.assay_id = a.assay_id\n",
    "  JOIN target_dictionary t ON a.tid = t.tid\n",
    "    AND t.chembl_id IN {chmbl_targets}\n",
    "    AND act.standard_type = 'IC50'\n",
    "    AND act.standard_units = 'nM';\"\"\""
   ]
  },
  {
   "cell_type": "code",
   "execution_count": 48,
   "id": "805816d9-fe3c-4a9f-a605-ac4a6eb7f8c5",
   "metadata": {},
   "outputs": [
    {
     "data": {
      "text/plain": [
       "<sqlite3.Cursor at 0x7fa584288490>"
      ]
     },
     "execution_count": 48,
     "metadata": {},
     "output_type": "execute_result"
    }
   ],
   "source": [
    "cursor.execute(cmd)"
   ]
  },
  {
   "cell_type": "code",
   "execution_count": 49,
   "id": "fe3b40df-6647-4714-9fe5-6319229d2baa",
   "metadata": {},
   "outputs": [],
   "source": [
    "comps = cursor.fetchall()"
   ]
  },
  {
   "cell_type": "code",
   "execution_count": 50,
   "id": "b918feae-f5ff-495b-a4d2-8d84aec4a8f2",
   "metadata": {},
   "outputs": [
    {
     "data": {
      "text/plain": [
       "2322"
      ]
     },
     "execution_count": 50,
     "metadata": {},
     "output_type": "execute_result"
    }
   ],
   "source": [
    "len(comps)"
   ]
  },
  {
   "cell_type": "code",
   "execution_count": 27,
   "id": "2f5e5beb-5c4f-4566-be73-d7923a482b03",
   "metadata": {},
   "outputs": [
    {
     "data": {
      "text/plain": [
       "[('CHEMBL1770692',\n",
       "  'CC(C)(O)[C@H]1CC[C@@](C)(O[C@H]2O[C@@H](CO)[C@H](O)[C@@H](O)[C@@H]2O)[C@H](O)C1',\n",
       "  '1, distyloside A',\n",
       "  'Inhibition of Escherichia coli recombinant ribonuclease H after 30 mins by FRET quenching assay',\n",
       "  'IC50',\n",
       "  '>',\n",
       "  20000,\n",
       "  'nM',\n",
       "  None,\n",
       "  'CHEMBL1770039',\n",
       "  'Ribonuclease HI',\n",
       "  'Escherichia coli (strain K12)'),\n",
       " ('CHEMBL1770693',\n",
       "  'CC(C)(O)[C@H]1CC=C(CO[C@H]2O[C@@H](CO[C@H]3OC[C@H](O)[C@@H](O)[C@@H]3O)[C@H](O)[C@@H](O)[C@@H]2O)CC1',\n",
       "  '2, distyloside B',\n",
       "  'Inhibition of Escherichia coli recombinant ribonuclease H after 30 mins by FRET quenching assay',\n",
       "  'IC50',\n",
       "  '>',\n",
       "  20000,\n",
       "  'nM',\n",
       "  None,\n",
       "  'CHEMBL1770039',\n",
       "  'Ribonuclease HI',\n",
       "  'Escherichia coli (strain K12)'),\n",
       " ('CHEMBL1770694',\n",
       "  'C[C@H](O)CC[C@@]1(O)[C@@H](C)C[C@H](O[C@H]2O[C@@H](CO)[C@H](O)[C@@H](O)[C@@H]2O)CC1(C)C',\n",
       "  '3',\n",
       "  'Inhibition of Escherichia coli recombinant ribonuclease H after 30 mins by FRET quenching assay',\n",
       "  'IC50',\n",
       "  '>',\n",
       "  20000,\n",
       "  'nM',\n",
       "  None,\n",
       "  'CHEMBL1770039',\n",
       "  'Ribonuclease HI',\n",
       "  'Escherichia coli (strain K12)'),\n",
       " ('CHEMBL47386',\n",
       "  'Oc1cc(O)c2c(c1)O[C@H](c1cc(O)c(O)c(O)c1)[C@H](O)C2',\n",
       "  '4',\n",
       "  'Inhibition of Escherichia coli recombinant ribonuclease H after 30 mins by FRET quenching assay',\n",
       "  'IC50',\n",
       "  '>',\n",
       "  20000,\n",
       "  'nM',\n",
       "  None,\n",
       "  'CHEMBL1770039',\n",
       "  'Ribonuclease HI',\n",
       "  'Escherichia coli (strain K12)'),\n",
       " ('CHEMBL465208',\n",
       "  'OC[C@H]1O[C@@H](OCCc2ccc(O)cc2)[C@H](O)[C@@H](O)[C@@H]1O',\n",
       "  '5',\n",
       "  'Inhibition of Escherichia coli recombinant ribonuclease H after 30 mins by FRET quenching assay',\n",
       "  'IC50',\n",
       "  '>',\n",
       "  20000,\n",
       "  'nM',\n",
       "  None,\n",
       "  'CHEMBL1770039',\n",
       "  'Ribonuclease HI',\n",
       "  'Escherichia coli (strain K12)'),\n",
       " ('CHEMBL1770695',\n",
       "  'O=C(OC[C@H]1O[C@@H](OCCc2ccc(O)cc2)[C@H](O)[C@@H](O)[C@@H]1O)c1cc(O)c(O)c(O)c1',\n",
       "  '6',\n",
       "  'Inhibition of Escherichia coli recombinant ribonuclease H after 30 mins by FRET quenching assay',\n",
       "  'IC50',\n",
       "  '>',\n",
       "  20000,\n",
       "  'nM',\n",
       "  None,\n",
       "  'CHEMBL1770039',\n",
       "  'Ribonuclease HI',\n",
       "  'Escherichia coli (strain K12)'),\n",
       " ('CHEMBL416955',\n",
       "  'COC(=O)[C@]1(O)C[C@@H](O)[C@@H](O)[C@H](OC(=O)/C=C/c2ccc(O)c(O)c2)C1',\n",
       "  '7',\n",
       "  'Inhibition of Escherichia coli recombinant ribonuclease H after 30 mins by FRET quenching assay',\n",
       "  'IC50',\n",
       "  '>',\n",
       "  20000,\n",
       "  'nM',\n",
       "  None,\n",
       "  'CHEMBL1770039',\n",
       "  'Ribonuclease HI',\n",
       "  'Escherichia coli (strain K12)'),\n",
       " ('CHEMBL250872',\n",
       "  'COc1cc(/C=C/CO)cc(OC)c1O[C@@H]1O[C@H](CO)[C@@H](O)[C@H](O)[C@H]1O',\n",
       "  '8',\n",
       "  'Inhibition of Escherichia coli recombinant ribonuclease H after 30 mins by FRET quenching assay',\n",
       "  'IC50',\n",
       "  '>',\n",
       "  20000,\n",
       "  'nM',\n",
       "  None,\n",
       "  'CHEMBL1770039',\n",
       "  'Ribonuclease HI',\n",
       "  'Escherichia coli (strain K12)'),\n",
       " ('CHEMBL1770692',\n",
       "  'CC(C)(O)[C@H]1CC[C@@](C)(O[C@H]2O[C@@H](CO)[C@H](O)[C@@H](O)[C@@H]2O)[C@H](O)C1',\n",
       "  '1, distyloside A',\n",
       "  'Inhibition of Escherichia coli recombinant ribonuclease H after 30 mins by FRET quenching assay',\n",
       "  'IC50',\n",
       "  '>',\n",
       "  20000,\n",
       "  'nM',\n",
       "  None,\n",
       "  'CHEMBL1770039',\n",
       "  'Ribonuclease HI',\n",
       "  'Escherichia coli (strain K12)'),\n",
       " ('CHEMBL1770693',\n",
       "  'CC(C)(O)[C@H]1CC=C(CO[C@H]2O[C@@H](CO[C@H]3OC[C@H](O)[C@@H](O)[C@@H]3O)[C@H](O)[C@@H](O)[C@@H]2O)CC1',\n",
       "  '2, distyloside B',\n",
       "  'Inhibition of Escherichia coli recombinant ribonuclease H after 30 mins by FRET quenching assay',\n",
       "  'IC50',\n",
       "  '>',\n",
       "  20000,\n",
       "  'nM',\n",
       "  None,\n",
       "  'CHEMBL1770039',\n",
       "  'Ribonuclease HI',\n",
       "  'Escherichia coli (strain K12)'),\n",
       " ('CHEMBL1770694',\n",
       "  'C[C@H](O)CC[C@@]1(O)[C@@H](C)C[C@H](O[C@H]2O[C@@H](CO)[C@H](O)[C@@H](O)[C@@H]2O)CC1(C)C',\n",
       "  '3',\n",
       "  'Inhibition of Escherichia coli recombinant ribonuclease H after 30 mins by FRET quenching assay',\n",
       "  'IC50',\n",
       "  '>',\n",
       "  20000,\n",
       "  'nM',\n",
       "  None,\n",
       "  'CHEMBL1770039',\n",
       "  'Ribonuclease HI',\n",
       "  'Escherichia coli (strain K12)'),\n",
       " ('CHEMBL47386',\n",
       "  'Oc1cc(O)c2c(c1)O[C@H](c1cc(O)c(O)c(O)c1)[C@H](O)C2',\n",
       "  '4',\n",
       "  'Inhibition of Escherichia coli recombinant ribonuclease H after 30 mins by FRET quenching assay',\n",
       "  'IC50',\n",
       "  '>',\n",
       "  20000,\n",
       "  'nM',\n",
       "  None,\n",
       "  'CHEMBL1770039',\n",
       "  'Ribonuclease HI',\n",
       "  'Escherichia coli (strain K12)'),\n",
       " ('CHEMBL465208',\n",
       "  'OC[C@H]1O[C@@H](OCCc2ccc(O)cc2)[C@H](O)[C@@H](O)[C@@H]1O',\n",
       "  '5',\n",
       "  'Inhibition of Escherichia coli recombinant ribonuclease H after 30 mins by FRET quenching assay',\n",
       "  'IC50',\n",
       "  '>',\n",
       "  20000,\n",
       "  'nM',\n",
       "  None,\n",
       "  'CHEMBL1770039',\n",
       "  'Ribonuclease HI',\n",
       "  'Escherichia coli (strain K12)'),\n",
       " ('CHEMBL1770695',\n",
       "  'O=C(OC[C@H]1O[C@@H](OCCc2ccc(O)cc2)[C@H](O)[C@@H](O)[C@@H]1O)c1cc(O)c(O)c(O)c1',\n",
       "  '6',\n",
       "  'Inhibition of Escherichia coli recombinant ribonuclease H after 30 mins by FRET quenching assay',\n",
       "  'IC50',\n",
       "  '>',\n",
       "  20000,\n",
       "  'nM',\n",
       "  None,\n",
       "  'CHEMBL1770039',\n",
       "  'Ribonuclease HI',\n",
       "  'Escherichia coli (strain K12)'),\n",
       " ('CHEMBL416955',\n",
       "  'COC(=O)[C@]1(O)C[C@@H](O)[C@@H](O)[C@H](OC(=O)/C=C/c2ccc(O)c(O)c2)C1',\n",
       "  '7',\n",
       "  'Inhibition of Escherichia coli recombinant ribonuclease H after 30 mins by FRET quenching assay',\n",
       "  'IC50',\n",
       "  '>',\n",
       "  20000,\n",
       "  'nM',\n",
       "  None,\n",
       "  'CHEMBL1770039',\n",
       "  'Ribonuclease HI',\n",
       "  'Escherichia coli (strain K12)'),\n",
       " ('CHEMBL250872',\n",
       "  'COc1cc(/C=C/CO)cc(OC)c1O[C@@H]1O[C@H](CO)[C@@H](O)[C@H](O)[C@H]1O',\n",
       "  '8',\n",
       "  'Inhibition of Escherichia coli recombinant ribonuclease H after 30 mins by FRET quenching assay',\n",
       "  'IC50',\n",
       "  '>',\n",
       "  20000,\n",
       "  'nM',\n",
       "  None,\n",
       "  'CHEMBL1770039',\n",
       "  'Ribonuclease HI',\n",
       "  'Escherichia coli (strain K12)')]"
      ]
     },
     "execution_count": 27,
     "metadata": {},
     "output_type": "execute_result"
    }
   ],
   "source": [
    "comps"
   ]
  },
  {
   "cell_type": "code",
   "execution_count": null,
   "id": "28501864-8da8-4040-9a7c-20632acfe555",
   "metadata": {},
   "outputs": [],
   "source": []
  },
  {
   "cell_type": "code",
   "execution_count": null,
   "id": "6b19a7e1-03fb-4140-a59e-1a905e392eb9",
   "metadata": {},
   "outputs": [],
   "source": []
  },
  {
   "cell_type": "code",
   "execution_count": null,
   "id": "f1a4dd0f-f35c-45e1-8564-a3a278e6f51f",
   "metadata": {},
   "outputs": [],
   "source": []
  },
  {
   "cell_type": "code",
   "execution_count": 2,
   "id": "7f6b4450",
   "metadata": {},
   "outputs": [],
   "source": [
    "proteins = []\n",
    "with open(\"protein.fasta\", \"r\") as f:\n",
    "    for line in f:\n",
    "        if line.startswith(\"HMDBP\"):\n",
    "            proteins.append(line.split(' ')[0])"
   ]
  },
  {
   "cell_type": "code",
   "execution_count": 3,
   "id": "dd73cfd0",
   "metadata": {},
   "outputs": [
    {
     "data": {
      "text/plain": [
       "5629"
      ]
     },
     "execution_count": 3,
     "metadata": {},
     "output_type": "execute_result"
    }
   ],
   "source": [
    "len(proteins)"
   ]
  },
  {
   "cell_type": "code",
   "execution_count": 46,
   "id": "75c12fef",
   "metadata": {},
   "outputs": [
    {
     "name": "stdout",
     "output_type": "stream",
     "text": [
      "Processed 0 entries in 0.0001 minutes\n",
      "Processed 528 entries in 0.391 minutes\n",
      "Processed 1024 entries in 0.757 minutes\n",
      "Processed 3929 entries in 1.1797 minutes\n",
      "Processed 8221 entries in 1.5274 minutes\n",
      "Processed 10415 entries in 1.8946 minutes\n"
     ]
    }
   ],
   "source": [
    "drugbank_levels = defaultdict(list)\n",
    "\n",
    "n = 0\n",
    "level = 0\n",
    "entries = 0\n",
    "start_time = time.time()\n",
    "for event, elem in ET.iterparse('../DrugBank/drugbank.xml', events=('start', 'end') ):\n",
    "    if event == 'start':\n",
    "        level += 1\n",
    "        if elem.tag.split('}')[-1] not in drugbank_levels[f\"l{level}\"]:\n",
    "            drugbank_levels[f\"l{level}\"].append(elem.tag.split('}')[-1])\n",
    "        if level == 2:\n",
    "            entries += 1\n",
    "    \n",
    "    if event == 'end':\n",
    "        level -= 1\n",
    "\n",
    "\n",
    "    if n % 10e6 == 0:\n",
    "        mins = round((time.time() - start_time)/60, 4)\n",
    "        print(\"Processed {} entries in {} minutes\".format(entries, mins))\n",
    "    \n",
    "    n+=1"
   ]
  },
  {
   "cell_type": "code",
   "execution_count": 48,
   "id": "031293f5",
   "metadata": {
    "collapsed": true,
    "jupyter": {
     "outputs_hidden": true
    },
    "tags": []
   },
   "outputs": [
    {
     "data": {
      "text/plain": [
       "defaultdict(list,\n",
       "            {'l1': ['drugbank'],\n",
       "             'l2': ['drug'],\n",
       "             'l3': ['drugbank-id',\n",
       "              'name',\n",
       "              'description',\n",
       "              'cas-number',\n",
       "              'unii',\n",
       "              'state',\n",
       "              'groups',\n",
       "              'general-references',\n",
       "              'synthesis-reference',\n",
       "              'indication',\n",
       "              'pharmacodynamics',\n",
       "              'mechanism-of-action',\n",
       "              'toxicity',\n",
       "              'metabolism',\n",
       "              'absorption',\n",
       "              'half-life',\n",
       "              'protein-binding',\n",
       "              'route-of-elimination',\n",
       "              'volume-of-distribution',\n",
       "              'clearance',\n",
       "              'classification',\n",
       "              'salts',\n",
       "              'synonyms',\n",
       "              'products',\n",
       "              'international-brands',\n",
       "              'mixtures',\n",
       "              'packagers',\n",
       "              'manufacturers',\n",
       "              'prices',\n",
       "              'categories',\n",
       "              'affected-organisms',\n",
       "              'dosages',\n",
       "              'atc-codes',\n",
       "              'ahfs-codes',\n",
       "              'pdb-entries',\n",
       "              'fda-label',\n",
       "              'msds',\n",
       "              'patents',\n",
       "              'food-interactions',\n",
       "              'drug-interactions',\n",
       "              'sequences',\n",
       "              'experimental-properties',\n",
       "              'external-identifiers',\n",
       "              'external-links',\n",
       "              'pathways',\n",
       "              'reactions',\n",
       "              'snp-effects',\n",
       "              'snp-adverse-drug-reactions',\n",
       "              'targets',\n",
       "              'enzymes',\n",
       "              'carriers',\n",
       "              'transporters',\n",
       "              'average-mass',\n",
       "              'monoisotopic-mass',\n",
       "              'calculated-properties'],\n",
       "             'l4': ['group',\n",
       "              'articles',\n",
       "              'textbooks',\n",
       "              'links',\n",
       "              'attachments',\n",
       "              'description',\n",
       "              'direct-parent',\n",
       "              'kingdom',\n",
       "              'superclass',\n",
       "              'class',\n",
       "              'subclass',\n",
       "              'synonym',\n",
       "              'product',\n",
       "              'mixture',\n",
       "              'packager',\n",
       "              'manufacturer',\n",
       "              'price',\n",
       "              'category',\n",
       "              'affected-organism',\n",
       "              'dosage',\n",
       "              'atc-code',\n",
       "              'patent',\n",
       "              'food-interaction',\n",
       "              'drug-interaction',\n",
       "              'sequence',\n",
       "              'property',\n",
       "              'external-identifier',\n",
       "              'external-link',\n",
       "              'pathway',\n",
       "              'target',\n",
       "              'effect',\n",
       "              'international-brand',\n",
       "              'alternative-parent',\n",
       "              'substituent',\n",
       "              'enzyme',\n",
       "              'salt',\n",
       "              'carrier',\n",
       "              'transporter',\n",
       "              'reaction',\n",
       "              'pdb-entry'],\n",
       "             'l5': ['article',\n",
       "              'link',\n",
       "              'name',\n",
       "              'labeller',\n",
       "              'ndc-id',\n",
       "              'ndc-product-code',\n",
       "              'dpd-id',\n",
       "              'ema-product-code',\n",
       "              'ema-ma-number',\n",
       "              'started-marketing-on',\n",
       "              'ended-marketing-on',\n",
       "              'dosage-form',\n",
       "              'strength',\n",
       "              'route',\n",
       "              'fda-application-number',\n",
       "              'generic',\n",
       "              'over-the-counter',\n",
       "              'approved',\n",
       "              'country',\n",
       "              'source',\n",
       "              'ingredients',\n",
       "              'url',\n",
       "              'description',\n",
       "              'cost',\n",
       "              'unit',\n",
       "              'category',\n",
       "              'mesh-id',\n",
       "              'form',\n",
       "              'level',\n",
       "              'number',\n",
       "              'expires',\n",
       "              'pediatric-extension',\n",
       "              'drugbank-id',\n",
       "              'kind',\n",
       "              'value',\n",
       "              'resource',\n",
       "              'identifier',\n",
       "              'smpdb-id',\n",
       "              'drugs',\n",
       "              'enzymes',\n",
       "              'id',\n",
       "              'organism',\n",
       "              'actions',\n",
       "              'references',\n",
       "              'known-action',\n",
       "              'polypeptide',\n",
       "              'protein-name',\n",
       "              'gene-symbol',\n",
       "              'uniprot-id',\n",
       "              'rs-id',\n",
       "              'allele',\n",
       "              'defining-change',\n",
       "              'pubmed-id',\n",
       "              'company',\n",
       "              'inhibition-strength',\n",
       "              'induction-strength',\n",
       "              'unii',\n",
       "              'cas-number',\n",
       "              'inchikey',\n",
       "              'average-mass',\n",
       "              'monoisotopic-mass',\n",
       "              'attachment',\n",
       "              'textbook',\n",
       "              'sequence',\n",
       "              'left-element',\n",
       "              'right-element',\n",
       "              'adverse-reaction'],\n",
       "             'l6': ['ref-id',\n",
       "              'pubmed-id',\n",
       "              'citation',\n",
       "              'title',\n",
       "              'url',\n",
       "              'drug',\n",
       "              'uniprot-id',\n",
       "              'action',\n",
       "              'articles',\n",
       "              'textbooks',\n",
       "              'links',\n",
       "              'attachments',\n",
       "              'name',\n",
       "              'general-function',\n",
       "              'specific-function',\n",
       "              'gene-name',\n",
       "              'locus',\n",
       "              'cellular-location',\n",
       "              'transmembrane-regions',\n",
       "              'signal-regions',\n",
       "              'theoretical-pi',\n",
       "              'molecular-weight',\n",
       "              'chromosome-location',\n",
       "              'organism',\n",
       "              'external-identifiers',\n",
       "              'synonyms',\n",
       "              'amino-acid-sequence',\n",
       "              'gene-sequence',\n",
       "              'pfams',\n",
       "              'go-classifiers',\n",
       "              'isbn',\n",
       "              'drugbank-id',\n",
       "              'enzyme'],\n",
       "             'l7': ['drugbank-id',\n",
       "              'name',\n",
       "              'article',\n",
       "              'external-identifier',\n",
       "              'synonym',\n",
       "              'pfam',\n",
       "              'go-classifier',\n",
       "              'link',\n",
       "              'attachment',\n",
       "              'uniprot-id',\n",
       "              'textbook'],\n",
       "             'l8': ['ref-id',\n",
       "              'pubmed-id',\n",
       "              'citation',\n",
       "              'resource',\n",
       "              'identifier',\n",
       "              'name',\n",
       "              'category',\n",
       "              'description',\n",
       "              'title',\n",
       "              'url',\n",
       "              'isbn']})"
      ]
     },
     "execution_count": 48,
     "metadata": {},
     "output_type": "execute_result"
    }
   ],
   "source": [
    "drugbank_levels"
   ]
  },
  {
   "cell_type": "code",
   "execution_count": null,
   "id": "8ed05389-20af-4c95-b793-940d340c2053",
   "metadata": {
    "tags": []
   },
   "outputs": [],
   "source": []
  },
  {
   "cell_type": "markdown",
   "id": "89d49826-c0f8-478a-ac21-6fe56a1da04b",
   "metadata": {
    "jp-MarkdownHeadingCollapsed": true,
    "tags": []
   },
   "source": [
    "# BiGG Models"
   ]
  },
  {
   "cell_type": "code",
   "execution_count": 49,
   "id": "8bd55236-b148-4a42-af42-5236c0d1376e",
   "metadata": {},
   "outputs": [
    {
     "name": "stderr",
     "output_type": "stream",
     "text": [
      "This model seems to have metCharge instead of metCharges field. Will use metCharge for what metCharges represents.\n",
      "No defined compartments in model e_coli_core. Compartments will be deduced heuristically using regular expressions.\n",
      "Using regular expression found the following compartments:c, e\n"
     ]
    }
   ],
   "source": [
    "model = load_matlab_model(f\"/Mounts/rbg-storage1/datasets/Metabo/BiGG/e_coli_core.mat\")"
   ]
  },
  {
   "cell_type": "code",
   "execution_count": 50,
   "id": "743d72c7-b471-4fde-91a0-08c72c3c2406",
   "metadata": {},
   "outputs": [
    {
     "data": {
      "text/html": [
       "\n",
       "        <table>\n",
       "            <tr>\n",
       "                <td><strong>Name</strong></td>\n",
       "                <td>e_coli_core</td>\n",
       "            </tr><tr>\n",
       "                <td><strong>Memory address</strong></td>\n",
       "                <td>0x07f11a09ebf70</td>\n",
       "            </tr><tr>\n",
       "                <td><strong>Number of metabolites</strong></td>\n",
       "                <td>72</td>\n",
       "            </tr><tr>\n",
       "                <td><strong>Number of reactions</strong></td>\n",
       "                <td>95</td>\n",
       "            </tr><tr>\n",
       "                <td><strong>Number of groups</strong></td>\n",
       "                <td>11</td>\n",
       "            </tr><tr>\n",
       "                <td><strong>Objective expression</strong></td>\n",
       "                <td>1.0*BIOMASS_Ecoli_core_w_GAM - 1.0*BIOMASS_Ecoli_core_w_GAM_reverse_712e5</td>\n",
       "            </tr><tr>\n",
       "                <td><strong>Compartments</strong></td>\n",
       "                <td>e, c</td>\n",
       "            </tr>\n",
       "          </table>"
      ],
      "text/plain": [
       "<Model e_coli_core at 0x7f11a09ebf70>"
      ]
     },
     "execution_count": 50,
     "metadata": {},
     "output_type": "execute_result"
    }
   ],
   "source": [
    "model"
   ]
  },
  {
   "cell_type": "code",
   "execution_count": 51,
   "id": "f59c14d4-046f-4dfa-b9b5-469e114fd0d7",
   "metadata": {},
   "outputs": [],
   "source": [
    "val, = model.groups[0].members[0].genes"
   ]
  },
  {
   "cell_type": "code",
   "execution_count": 52,
   "id": "6c4ee8a1-a8a2-4745-85bb-11a7f434d2a9",
   "metadata": {},
   "outputs": [
    {
     "data": {
      "text/html": [
       "\n",
       "        <table>\n",
       "            <tr>\n",
       "                <td><strong>Gene identifier</strong></td><td>b3956</td>\n",
       "            </tr><tr>\n",
       "                <td><strong>Name</strong></td><td></td>\n",
       "            </tr><tr>\n",
       "                <td><strong>Memory address</strong></td>\n",
       "                <td>0x7f11a0a006d0</td>\n",
       "            </tr><tr>\n",
       "                <td><strong>Functional</strong></td><td>True</td>\n",
       "            </tr><tr>\n",
       "                <td><strong>In 1 reaction(s)</strong></td><td>\n",
       "                    PPC\n",
       "                    </td>\n",
       "            </tr>\n",
       "        </table>"
      ],
      "text/plain": [
       "<Gene b3956 at 0x7f11a0a006d0>"
      ]
     },
     "execution_count": 52,
     "metadata": {},
     "output_type": "execute_result"
    }
   ],
   "source": [
    "val"
   ]
  },
  {
   "cell_type": "code",
   "execution_count": null,
   "id": "f2b5fc9c-c131-48d4-a324-46e2a6934bc4",
   "metadata": {},
   "outputs": [],
   "source": [
    "metabolite2pathway = {}\n",
    "for pathway in model.groups:\n",
    "    for reaction in pathway.members:\n",
    "        for metabolite in reaction.metabolites:\n",
    "            metabolite2pathway.setdefault(metabolite.id, set())\n",
    "            metabolite2pathway[metabolite.id].add(pathway.id)"
   ]
  },
  {
   "cell_type": "code",
   "execution_count": null,
   "id": "58652568-9f27-4148-812e-75d3fab93484",
   "metadata": {},
   "outputs": [
    {
     "data": {
      "text/plain": [
       "72"
      ]
     },
     "execution_count": 54,
     "metadata": {},
     "output_type": "execute_result"
    }
   ],
   "source": [
    "sorted({(k, len(v)) for k,v in metabolite2pathway.items()}, key=lambda x: x[1], reverse=True)"
   ]
  },
  {
   "cell_type": "code",
   "execution_count": null,
   "id": "957d2e4c-f270-4ac8-925a-4c489d77e874",
   "metadata": {},
   "outputs": [],
   "source": [
    "from bioservices import UniProt"
   ]
  },
  {
   "cell_type": "code",
   "execution_count": 6,
   "id": "03365319-31e0-4067-a243-f3e1654807cf",
   "metadata": {},
   "outputs": [],
   "source": [
    "u = UniProt()"
   ]
  },
  {
   "cell_type": "code",
   "execution_count": 14,
   "id": "89232165-26bb-44af-b6a5-bbebe6dad2cf",
   "metadata": {},
   "outputs": [
    {
     "data": {
      "text/plain": [
       "defaultdict(list, {'314': ['O75106']})"
      ]
     },
     "execution_count": 14,
     "metadata": {},
     "output_type": "execute_result"
    }
   ],
   "source": [
    "u.mapping(\"P_ENTREZGENEID\", \"ACC\", query='314')"
   ]
  },
  {
   "cell_type": "code",
   "execution_count": 15,
   "id": "dc01049f-b79b-4c01-9fb7-8f2cba0c7d1f",
   "metadata": {},
   "outputs": [
    {
     "name": "stderr",
     "output_type": "stream",
     "text": [
      "/Mounts/rbg-storage1/users/itamarc/miniconda3/envs/fba/lib/python3.10/site-packages/bioservices/uniprot.py:812: FutureWarning: The frame.append method is deprecated and will be removed from pandas in a future version. Use pandas.concat instead.\n",
      "  output = output.append(df, ignore_index=True)\n"
     ]
    }
   ],
   "source": [
    "df = u.get_df(['O75106'])"
   ]
  },
  {
   "cell_type": "code",
   "execution_count": 13,
   "id": "5df9babd-a837-4ed8-b178-de96648598ee",
   "metadata": {},
   "outputs": [
    {
     "data": {
      "text/html": [
       "<div>\n",
       "<style scoped>\n",
       "    .dataframe tbody tr th:only-of-type {\n",
       "        vertical-align: middle;\n",
       "    }\n",
       "\n",
       "    .dataframe tbody tr th {\n",
       "        vertical-align: top;\n",
       "    }\n",
       "\n",
       "    .dataframe thead th {\n",
       "        text-align: right;\n",
       "    }\n",
       "</style>\n",
       "<table border=\"1\" class=\"dataframe\">\n",
       "  <thead>\n",
       "    <tr style=\"text-align: right;\">\n",
       "      <th></th>\n",
       "      <th>Entry</th>\n",
       "      <th>Entry name</th>\n",
       "      <th>Gene names</th>\n",
       "      <th>Gene names  (primary )</th>\n",
       "      <th>Gene names  (synonym )</th>\n",
       "      <th>Gene names  (ordered locus )</th>\n",
       "      <th>Gene names  (ORF )</th>\n",
       "      <th>Organism</th>\n",
       "      <th>Organism ID</th>\n",
       "      <th>Protein names</th>\n",
       "      <th>Proteomes</th>\n",
       "      <th>Taxonomic lineage (ALL)</th>\n",
       "      <th>Taxonomic lineage IDs</th>\n",
       "      <th>Virus hosts</th>\n",
       "      <th>Fragment</th>\n",
       "      <th>Sequence</th>\n",
       "      <th>Length</th>\n",
       "      <th>Mass</th>\n",
       "      <th>Gene encoded by</th>\n",
       "      <th>Alternative products (isoforms)</th>\n",
       "      <th>Erroneous gene model prediction</th>\n",
       "      <th>Erroneous initiation</th>\n",
       "      <th>Erroneous termination</th>\n",
       "      <th>Erroneous translation</th>\n",
       "      <th>Frameshift</th>\n",
       "      <th>Mass spectrometry</th>\n",
       "      <th>Polymorphism</th>\n",
       "      <th>RNA editing</th>\n",
       "      <th>Sequence caution</th>\n",
       "      <th>Alternative sequence</th>\n",
       "      <th>Natural variant</th>\n",
       "      <th>Non-adjacent residues</th>\n",
       "      <th>Non-standard residue</th>\n",
       "      <th>Non-terminal residue</th>\n",
       "      <th>Sequence conflict</th>\n",
       "      <th>Sequence uncertainty</th>\n",
       "      <th>Version (sequence)</th>\n",
       "      <th>Domains</th>\n",
       "      <th>Domain count</th>\n",
       "      <th>Domain [CC]</th>\n",
       "      <th>Sequence similarities</th>\n",
       "      <th>Coiled coil</th>\n",
       "      <th>Compositional bias</th>\n",
       "      <th>Domain [FT]</th>\n",
       "      <th>Motif</th>\n",
       "      <th>Region</th>\n",
       "      <th>Repeat</th>\n",
       "      <th>Zinc finger</th>\n",
       "      <th>EC number</th>\n",
       "      <th>Absorption</th>\n",
       "      <th>Catalytic activity</th>\n",
       "      <th>Cofactor</th>\n",
       "      <th>Function [CC]</th>\n",
       "      <th>Kinetics</th>\n",
       "      <th>Pathway</th>\n",
       "      <th>Redox potential</th>\n",
       "      <th>Temperature dependence</th>\n",
       "      <th>pH dependence</th>\n",
       "      <th>Active site</th>\n",
       "      <th>Binding site</th>\n",
       "      <th>DNA binding</th>\n",
       "      <th>Metal binding</th>\n",
       "      <th>Nucleotide binding</th>\n",
       "      <th>Site</th>\n",
       "      <th>Gene ontology (GO)</th>\n",
       "      <th>Gene ontology (biological process)</th>\n",
       "      <th>Gene ontology (molecular function)</th>\n",
       "      <th>Gene ontology (cellular component)</th>\n",
       "      <th>Gene ontology IDs</th>\n",
       "      <th>InterPro</th>\n",
       "      <th>Interacts with</th>\n",
       "      <th>Subunit structure [CC]</th>\n",
       "      <th>PubMed ID</th>\n",
       "      <th>Mapped PubMed ID</th>\n",
       "      <th>Date of creation</th>\n",
       "      <th>Date of last modification</th>\n",
       "      <th>Date of last sequence modification</th>\n",
       "      <th>Version (entry)</th>\n",
       "      <th>3D</th>\n",
       "      <th>Beta strand</th>\n",
       "      <th>Helix</th>\n",
       "      <th>Turn</th>\n",
       "      <th>Subcellular location [CC]</th>\n",
       "      <th>Intramembrane</th>\n",
       "      <th>Topological domain</th>\n",
       "      <th>Transmembrane</th>\n",
       "      <th>Annotation</th>\n",
       "      <th>Features</th>\n",
       "      <th>Caution</th>\n",
       "      <th>Tissue specificity</th>\n",
       "      <th>Miscellaneous [CC]</th>\n",
       "      <th>Keywords</th>\n",
       "      <th>Protein existence</th>\n",
       "      <th>Status</th>\n",
       "      <th>Sequence annotation (Features)</th>\n",
       "      <th>Protein families</th>\n",
       "      <th>Version</th>\n",
       "      <th>Comments</th>\n",
       "      <th>Cross-reference (null)</th>\n",
       "      <th>Keyword ID</th>\n",
       "      <th>Pathway.1</th>\n",
       "      <th>Allergenic properties</th>\n",
       "      <th>Biotechnological use</th>\n",
       "      <th>Disruption phenotype</th>\n",
       "      <th>Involvement in disease</th>\n",
       "      <th>Pharmaceutical use</th>\n",
       "      <th>Toxic dose</th>\n",
       "      <th>Post-translational modification</th>\n",
       "      <th>Chain</th>\n",
       "      <th>Cross-link</th>\n",
       "      <th>Disulfide bond</th>\n",
       "      <th>Glycosylation</th>\n",
       "      <th>Initiator methionine</th>\n",
       "      <th>Lipidation</th>\n",
       "      <th>Modified residue</th>\n",
       "      <th>Peptide</th>\n",
       "      <th>Propeptide</th>\n",
       "      <th>Signal peptide</th>\n",
       "      <th>Transit peptide</th>\n",
       "      <th>Taxonomic lineage (all)</th>\n",
       "      <th>Taxonomic lineage (SUPERKINGDOM)</th>\n",
       "      <th>Taxonomic lineage (KINGDOM)</th>\n",
       "      <th>Taxonomic lineage (SUBKINGDOM)</th>\n",
       "      <th>Taxonomic lineage (SUPERPHYLUM)</th>\n",
       "      <th>Taxonomic lineage (PHYLUM)</th>\n",
       "      <th>Taxonomic lineage (SUBPHYLUM)</th>\n",
       "      <th>Taxonomic lineage (SUPERCLASS)</th>\n",
       "      <th>Taxonomic lineage (CLASS)</th>\n",
       "      <th>Taxonomic lineage (SUBCLASS)</th>\n",
       "      <th>Taxonomic lineage (INFRACLASS)</th>\n",
       "      <th>Taxonomic lineage (SUPERORDER)</th>\n",
       "      <th>Taxonomic lineage (ORDER)</th>\n",
       "      <th>Taxonomic lineage (SUBORDER)</th>\n",
       "      <th>Taxonomic lineage (INFRAORDER)</th>\n",
       "      <th>Taxonomic lineage (PARVORDER)</th>\n",
       "      <th>Taxonomic lineage (SUPERFAMILY)</th>\n",
       "      <th>Taxonomic lineage (FAMILY)</th>\n",
       "      <th>Taxonomic lineage (SUBFAMILY)</th>\n",
       "      <th>Taxonomic lineage (TRIBE)</th>\n",
       "      <th>Taxonomic lineage (SUBTRIBE)</th>\n",
       "      <th>Taxonomic lineage (GENUS)</th>\n",
       "      <th>Taxonomic lineage (SUBGENUS)</th>\n",
       "      <th>Taxonomic lineage (SPECIES GROUP)</th>\n",
       "      <th>Taxonomic lineage (SPECIES SUBGROUP)</th>\n",
       "      <th>Taxonomic lineage (SPECIES)</th>\n",
       "      <th>Taxonomic lineage (SUBSPECIES)</th>\n",
       "      <th>Taxonomic lineage (VARIETAS)</th>\n",
       "      <th>Taxonomic lineage (FORMA)</th>\n",
       "      <th>Taxonomic lineage IDs (all)</th>\n",
       "      <th>Taxonomic lineage IDs (SUPERKINGDOM)</th>\n",
       "      <th>Taxonomic lineage IDs (KINGDOM)</th>\n",
       "      <th>Taxonomic lineage IDs (SUBKINGDOM)</th>\n",
       "      <th>Taxonomic lineage IDs (SUPERPHYLUM)</th>\n",
       "      <th>Taxonomic lineage IDs (PHYLUM)</th>\n",
       "      <th>Taxonomic lineage IDs (SUBPHYLUM)</th>\n",
       "      <th>Taxonomic lineage IDs (SUPERCLASS)</th>\n",
       "      <th>Taxonomic lineage IDs (CLASS)</th>\n",
       "      <th>Taxonomic lineage IDs (SUBCLASS)</th>\n",
       "      <th>Taxonomic lineage IDs (INFRACLASS)</th>\n",
       "      <th>Taxonomic lineage IDs (SUPERORDER)</th>\n",
       "      <th>Taxonomic lineage IDs (ORDER)</th>\n",
       "      <th>Taxonomic lineage IDs (SUBORDER)</th>\n",
       "      <th>Taxonomic lineage IDs (INFRAORDER)</th>\n",
       "      <th>Taxonomic lineage IDs (PARVORDER)</th>\n",
       "      <th>Taxonomic lineage IDs (SUPERFAMILY)</th>\n",
       "      <th>Taxonomic lineage IDs (FAMILY)</th>\n",
       "      <th>Taxonomic lineage IDs (SUBFAMILY)</th>\n",
       "      <th>Taxonomic lineage IDs (TRIBE)</th>\n",
       "      <th>Taxonomic lineage IDs (SUBTRIBE)</th>\n",
       "      <th>Taxonomic lineage IDs (GENUS)</th>\n",
       "      <th>Taxonomic lineage IDs (SUBGENUS)</th>\n",
       "      <th>Taxonomic lineage IDs (SPECIES GROUP)</th>\n",
       "      <th>Taxonomic lineage IDs (SPECIES SUBGROUP)</th>\n",
       "      <th>Taxonomic lineage IDs (SPECIES)</th>\n",
       "      <th>Taxonomic lineage IDs (SUBSPECIES)</th>\n",
       "      <th>Taxonomic lineage IDs (VARIETAS)</th>\n",
       "      <th>Taxonomic lineage IDs (FORMA)</th>\n",
       "      <th>Cross-reference (db_abbrev)</th>\n",
       "      <th>Cross-reference (EMBL)</th>\n",
       "    </tr>\n",
       "  </thead>\n",
       "  <tbody>\n",
       "    <tr>\n",
       "      <th>0</th>\n",
       "      <td>Q9UJ70</td>\n",
       "      <td>NAGK_HUMAN</td>\n",
       "      <td>[NAGK]</td>\n",
       "      <td>NAGK</td>\n",
       "      <td>NaN</td>\n",
       "      <td>NaN</td>\n",
       "      <td>NaN</td>\n",
       "      <td>Homo sapiens (Human)</td>\n",
       "      <td>9606</td>\n",
       "      <td>N-acetyl-D-glucosamine kinase (N-acetylglucosa...</td>\n",
       "      <td>UP000005640: Chromosome 2</td>\n",
       "      <td>cellular organisms, Eukaryota, Opisthokonta, M...</td>\n",
       "      <td>9606</td>\n",
       "      <td>NaN</td>\n",
       "      <td>NaN</td>\n",
       "      <td>MAAIYGGVEGGGTRSEVLLVSEDGKILAEADGLSTNHWLIGTDKCV...</td>\n",
       "      <td>344</td>\n",
       "      <td>37,376</td>\n",
       "      <td>NaN</td>\n",
       "      <td>NaN</td>\n",
       "      <td>NaN</td>\n",
       "      <td>NaN</td>\n",
       "      <td>NaN</td>\n",
       "      <td>NaN</td>\n",
       "      <td>NaN</td>\n",
       "      <td>NaN</td>\n",
       "      <td>NaN</td>\n",
       "      <td>NaN</td>\n",
       "      <td>NaN</td>\n",
       "      <td>VAR_SEQ 1;  /note=\"M -&gt; MRTRTGSQLAAREVTGSGAVPR...</td>\n",
       "      <td>VARIANT 38;  /note=\"W -&gt; R (in dbSNP:rs1785614...</td>\n",
       "      <td>NaN</td>\n",
       "      <td>NaN</td>\n",
       "      <td>NaN</td>\n",
       "      <td>CONFLICT 70;  /note=\"S -&gt; I (in Ref. 1; CAB618...</td>\n",
       "      <td>NaN</td>\n",
       "      <td>4</td>\n",
       "      <td>[]</td>\n",
       "      <td>0</td>\n",
       "      <td>NaN</td>\n",
       "      <td>SIMILARITY: Belongs to the eukaryotic-type N-a...</td>\n",
       "      <td>NaN</td>\n",
       "      <td>NaN</td>\n",
       "      <td>NaN</td>\n",
       "      <td>NaN</td>\n",
       "      <td>REGION 129..130;  /note=\"Substrate binding\";  ...</td>\n",
       "      <td>NaN</td>\n",
       "      <td>NaN</td>\n",
       "      <td>2.7.1.59</td>\n",
       "      <td>NaN</td>\n",
       "      <td>CATALYTIC ACTIVITY: Reaction=ATP + N-acetyl-D-...</td>\n",
       "      <td>NaN</td>\n",
       "      <td>FUNCTION: Converts endogenous N-acetylglucosam...</td>\n",
       "      <td>NaN</td>\n",
       "      <td>PATHWAY: Amino-sugar metabolism; N-acetylneura...</td>\n",
       "      <td>NaN</td>\n",
       "      <td>NaN</td>\n",
       "      <td>NaN</td>\n",
       "      <td>NaN</td>\n",
       "      <td>BINDING 13;  /note=\"ATP; via amide nitrogen\"; ...</td>\n",
       "      <td>NaN</td>\n",
       "      <td>NaN</td>\n",
       "      <td>NaN</td>\n",
       "      <td>NaN</td>\n",
       "      <td>[cytosol [GO:0005829], extracellular exosome [...</td>\n",
       "      <td>N-acetylglucosamine metabolic process [GO:0006...</td>\n",
       "      <td>ATP binding [GO:0005524]; N-acetylglucosamine ...</td>\n",
       "      <td>cytosol [GO:0005829]; extracellular exosome [G...</td>\n",
       "      <td>[GO:0005524, GO:0005829, GO:0006044, GO:000605...</td>\n",
       "      <td>[IPR002731, IPR043129, IPR039758, ]</td>\n",
       "      <td>[Q9NZ32, P42773, Q9UI36, Q9UI36-2, Q8TBB1, P50...</td>\n",
       "      <td>SUBUNIT: Homodimer. {ECO:0000269|PubMed:170103...</td>\n",
       "      <td>[10824116, 14702039, 15815621, 15489334, 12665...</td>\n",
       "      <td>15231747; 15231748; 15987957; 16189514; 182348...</td>\n",
       "      <td>2002-11-01</td>\n",
       "      <td>2022-05-25</td>\n",
       "      <td>2007-01-23</td>\n",
       "      <td>186</td>\n",
       "      <td>X-ray crystallography (2)</td>\n",
       "      <td>STRAND 4..10;  /evidence=\"ECO:0007829|PDB:2CH5...</td>\n",
       "      <td>HELIX 37..40;  /evidence=\"ECO:0007829|PDB:2CH5...</td>\n",
       "      <td>TURN 76..79;  /evidence=\"ECO:0007829|PDB:2CH5\"...</td>\n",
       "      <td>NaN</td>\n",
       "      <td>NaN</td>\n",
       "      <td>NaN</td>\n",
       "      <td>NaN</td>\n",
       "      <td>5 out of 5</td>\n",
       "      <td>Alternative sequence (1); Beta strand (14); Bi...</td>\n",
       "      <td>NaN</td>\n",
       "      <td>TISSUE SPECIFICITY: Ubiquitous. {ECO:0000269|P...</td>\n",
       "      <td>NaN</td>\n",
       "      <td>[3D-structure, ATP-binding, Acetylation, Alter...</td>\n",
       "      <td>Evidence at protein level</td>\n",
       "      <td>reviewed</td>\n",
       "      <td>NaN</td>\n",
       "      <td>[Eukaryotic-type N-acetylglucosamine kinase fa...</td>\n",
       "      <td>186</td>\n",
       "      <td>[Alternative products (1), Catalytic activity ...</td>\n",
       "      <td>NaN</td>\n",
       "      <td>KW-0002; KW-0007; KW-0025; KW-0067; KW-0418; K...</td>\n",
       "      <td>Amino-sugar metabolism; N-acetylneuraminate de...</td>\n",
       "      <td>NaN</td>\n",
       "      <td>NaN</td>\n",
       "      <td>NaN</td>\n",
       "      <td>NaN</td>\n",
       "      <td>NaN</td>\n",
       "      <td>NaN</td>\n",
       "      <td>NaN</td>\n",
       "      <td>CHAIN 2..344;  /note=\"N-acetyl-D-glucosamine k...</td>\n",
       "      <td>NaN</td>\n",
       "      <td>NaN</td>\n",
       "      <td>NaN</td>\n",
       "      <td>INIT_MET 1;  /note=\"Removed\";  /evidence=\"ECO:...</td>\n",
       "      <td>NaN</td>\n",
       "      <td>MOD_RES 2;  /note=\"N-acetylalanine\";  /evidenc...</td>\n",
       "      <td>NaN</td>\n",
       "      <td>NaN</td>\n",
       "      <td>NaN</td>\n",
       "      <td>NaN</td>\n",
       "      <td>cellular organisms, Eukaryota, Opisthokonta, M...</td>\n",
       "      <td>Eukaryota</td>\n",
       "      <td>Metazoa</td>\n",
       "      <td>NaN</td>\n",
       "      <td>NaN</td>\n",
       "      <td>Chordata</td>\n",
       "      <td>Craniata</td>\n",
       "      <td>Sarcopterygii</td>\n",
       "      <td>Mammalia</td>\n",
       "      <td>NaN</td>\n",
       "      <td>NaN</td>\n",
       "      <td>Euarchontoglires</td>\n",
       "      <td>Primates</td>\n",
       "      <td>Haplorrhini</td>\n",
       "      <td>Simiiformes</td>\n",
       "      <td>Catarrhini</td>\n",
       "      <td>Hominoidea (apes)</td>\n",
       "      <td>Hominidae (great apes)</td>\n",
       "      <td>Homininae</td>\n",
       "      <td>NaN</td>\n",
       "      <td>NaN</td>\n",
       "      <td>Homo</td>\n",
       "      <td>NaN</td>\n",
       "      <td>NaN</td>\n",
       "      <td>NaN</td>\n",
       "      <td>Homo sapiens (Human)</td>\n",
       "      <td>NaN</td>\n",
       "      <td>NaN</td>\n",
       "      <td>NaN</td>\n",
       "      <td>131567, 2759, 33154, 33208, 6072, 33213, 33511...</td>\n",
       "      <td>2759</td>\n",
       "      <td>33208</td>\n",
       "      <td>NaN</td>\n",
       "      <td>NaN</td>\n",
       "      <td>7711</td>\n",
       "      <td>89593</td>\n",
       "      <td>8287</td>\n",
       "      <td>40674</td>\n",
       "      <td>NaN</td>\n",
       "      <td>NaN</td>\n",
       "      <td>314146</td>\n",
       "      <td>9443</td>\n",
       "      <td>376913</td>\n",
       "      <td>314293</td>\n",
       "      <td>9526</td>\n",
       "      <td>314295</td>\n",
       "      <td>9604</td>\n",
       "      <td>207598</td>\n",
       "      <td>NaN</td>\n",
       "      <td>NaN</td>\n",
       "      <td>9605</td>\n",
       "      <td>NaN</td>\n",
       "      <td>NaN</td>\n",
       "      <td>NaN</td>\n",
       "      <td>NaN</td>\n",
       "      <td>NaN</td>\n",
       "      <td>NaN</td>\n",
       "      <td>NaN</td>\n",
       "      <td>NaN</td>\n",
       "      <td>AJ242910;AK001812;AK297224;CR457271;AK222645;A...</td>\n",
       "    </tr>\n",
       "    <tr>\n",
       "      <th>9</th>\n",
       "      <td>C9JEV6</td>\n",
       "      <td>C9JEV6_HUMAN</td>\n",
       "      <td>[NAGK]</td>\n",
       "      <td>NAGK</td>\n",
       "      <td>NaN</td>\n",
       "      <td>NaN</td>\n",
       "      <td>NaN</td>\n",
       "      <td>Homo sapiens (Human)</td>\n",
       "      <td>9606</td>\n",
       "      <td>N-acetyl-D-glucosamine kinase (EC 2.7.1.59) (G...</td>\n",
       "      <td>UP000005640: Chromosome 2</td>\n",
       "      <td>cellular organisms, Eukaryota, Opisthokonta, M...</td>\n",
       "      <td>9606</td>\n",
       "      <td>NaN</td>\n",
       "      <td>NaN</td>\n",
       "      <td>MVNRAKRKAGVDPLVPLRSLGLSLSGGDQEDAGRILIEELRDRFPY...</td>\n",
       "      <td>293</td>\n",
       "      <td>32,018</td>\n",
       "      <td>NaN</td>\n",
       "      <td>NaN</td>\n",
       "      <td>NaN</td>\n",
       "      <td>NaN</td>\n",
       "      <td>NaN</td>\n",
       "      <td>NaN</td>\n",
       "      <td>NaN</td>\n",
       "      <td>NaN</td>\n",
       "      <td>NaN</td>\n",
       "      <td>NaN</td>\n",
       "      <td>NaN</td>\n",
       "      <td>NaN</td>\n",
       "      <td>NaN</td>\n",
       "      <td>NaN</td>\n",
       "      <td>NaN</td>\n",
       "      <td>NaN</td>\n",
       "      <td>NaN</td>\n",
       "      <td>NaN</td>\n",
       "      <td>3</td>\n",
       "      <td>[]</td>\n",
       "      <td>0</td>\n",
       "      <td>NaN</td>\n",
       "      <td>SIMILARITY: Belongs to the eukaryotic-type N-a...</td>\n",
       "      <td>NaN</td>\n",
       "      <td>NaN</td>\n",
       "      <td>DOMAIN 50..224;  /note=\"BcrAD_BadFG\";  /eviden...</td>\n",
       "      <td>NaN</td>\n",
       "      <td>NaN</td>\n",
       "      <td>NaN</td>\n",
       "      <td>NaN</td>\n",
       "      <td>2.7.1.59</td>\n",
       "      <td>NaN</td>\n",
       "      <td>NaN</td>\n",
       "      <td>NaN</td>\n",
       "      <td>NaN</td>\n",
       "      <td>NaN</td>\n",
       "      <td>NaN</td>\n",
       "      <td>NaN</td>\n",
       "      <td>NaN</td>\n",
       "      <td>NaN</td>\n",
       "      <td>NaN</td>\n",
       "      <td>NaN</td>\n",
       "      <td>NaN</td>\n",
       "      <td>NaN</td>\n",
       "      <td>NaN</td>\n",
       "      <td>NaN</td>\n",
       "      <td>[N-acetylglucosamine kinase activity [GO:00451...</td>\n",
       "      <td>NaN</td>\n",
       "      <td>N-acetylglucosamine kinase activity [GO:0045127]</td>\n",
       "      <td>NaN</td>\n",
       "      <td>[GO:0045127]</td>\n",
       "      <td>[IPR002731, IPR043129, IPR039758, ]</td>\n",
       "      <td>[]</td>\n",
       "      <td>NaN</td>\n",
       "      <td>[15815621, 18669648, 19690332, 20068231, 21269...</td>\n",
       "      <td>15987957; 17010375; 22507750; 25921606; 276466...</td>\n",
       "      <td>2009-11-03</td>\n",
       "      <td>2022-05-25</td>\n",
       "      <td>2011-06-28</td>\n",
       "      <td>83</td>\n",
       "      <td>NaN</td>\n",
       "      <td>NaN</td>\n",
       "      <td>NaN</td>\n",
       "      <td>NaN</td>\n",
       "      <td>NaN</td>\n",
       "      <td>NaN</td>\n",
       "      <td>NaN</td>\n",
       "      <td>NaN</td>\n",
       "      <td>2 out of 5</td>\n",
       "      <td>Domain (1)</td>\n",
       "      <td>NaN</td>\n",
       "      <td>NaN</td>\n",
       "      <td>NaN</td>\n",
       "      <td>[Proteomics identification, Reference proteome]</td>\n",
       "      <td>Evidence at protein level</td>\n",
       "      <td>unreviewed</td>\n",
       "      <td>NaN</td>\n",
       "      <td>[Eukaryotic-type N-acetylglucosamine kinase fa...</td>\n",
       "      <td>83</td>\n",
       "      <td>[Sequence similarities (1)]</td>\n",
       "      <td>NaN</td>\n",
       "      <td>KW-1185; KW-1267</td>\n",
       "      <td>NaN</td>\n",
       "      <td>NaN</td>\n",
       "      <td>NaN</td>\n",
       "      <td>NaN</td>\n",
       "      <td>NaN</td>\n",
       "      <td>NaN</td>\n",
       "      <td>NaN</td>\n",
       "      <td>NaN</td>\n",
       "      <td>NaN</td>\n",
       "      <td>NaN</td>\n",
       "      <td>NaN</td>\n",
       "      <td>NaN</td>\n",
       "      <td>NaN</td>\n",
       "      <td>NaN</td>\n",
       "      <td>NaN</td>\n",
       "      <td>NaN</td>\n",
       "      <td>NaN</td>\n",
       "      <td>NaN</td>\n",
       "      <td>NaN</td>\n",
       "      <td>cellular organisms, Eukaryota, Opisthokonta, M...</td>\n",
       "      <td>Eukaryota</td>\n",
       "      <td>Metazoa</td>\n",
       "      <td>NaN</td>\n",
       "      <td>NaN</td>\n",
       "      <td>Chordata</td>\n",
       "      <td>Craniata</td>\n",
       "      <td>Sarcopterygii</td>\n",
       "      <td>Mammalia</td>\n",
       "      <td>NaN</td>\n",
       "      <td>NaN</td>\n",
       "      <td>Euarchontoglires</td>\n",
       "      <td>Primates</td>\n",
       "      <td>Haplorrhini</td>\n",
       "      <td>Simiiformes</td>\n",
       "      <td>Catarrhini</td>\n",
       "      <td>Hominoidea (apes)</td>\n",
       "      <td>Hominidae (great apes)</td>\n",
       "      <td>Homininae</td>\n",
       "      <td>NaN</td>\n",
       "      <td>NaN</td>\n",
       "      <td>Homo</td>\n",
       "      <td>NaN</td>\n",
       "      <td>NaN</td>\n",
       "      <td>NaN</td>\n",
       "      <td>Homo sapiens (Human)</td>\n",
       "      <td>NaN</td>\n",
       "      <td>NaN</td>\n",
       "      <td>NaN</td>\n",
       "      <td>131567, 2759, 33154, 33208, 6072, 33213, 33511...</td>\n",
       "      <td>2759</td>\n",
       "      <td>33208</td>\n",
       "      <td>NaN</td>\n",
       "      <td>NaN</td>\n",
       "      <td>7711</td>\n",
       "      <td>89593</td>\n",
       "      <td>8287</td>\n",
       "      <td>40674</td>\n",
       "      <td>NaN</td>\n",
       "      <td>NaN</td>\n",
       "      <td>314146</td>\n",
       "      <td>9443</td>\n",
       "      <td>376913</td>\n",
       "      <td>314293</td>\n",
       "      <td>9526</td>\n",
       "      <td>314295</td>\n",
       "      <td>9604</td>\n",
       "      <td>207598</td>\n",
       "      <td>NaN</td>\n",
       "      <td>NaN</td>\n",
       "      <td>9605</td>\n",
       "      <td>NaN</td>\n",
       "      <td>NaN</td>\n",
       "      <td>NaN</td>\n",
       "      <td>NaN</td>\n",
       "      <td>NaN</td>\n",
       "      <td>NaN</td>\n",
       "      <td>NaN</td>\n",
       "      <td>NaN</td>\n",
       "      <td>NaN</td>\n",
       "    </tr>\n",
       "  </tbody>\n",
       "</table>\n",
       "</div>"
      ],
      "text/plain": [
       "    Entry    Entry name Gene names Gene names  (primary )  \\\n",
       "0  Q9UJ70    NAGK_HUMAN     [NAGK]                   NAGK   \n",
       "9  C9JEV6  C9JEV6_HUMAN     [NAGK]                   NAGK   \n",
       "\n",
       "  Gene names  (synonym )  Gene names  (ordered locus ) Gene names  (ORF )  \\\n",
       "0                    NaN                           NaN                NaN   \n",
       "9                    NaN                           NaN                NaN   \n",
       "\n",
       "               Organism  Organism ID  \\\n",
       "0  Homo sapiens (Human)         9606   \n",
       "9  Homo sapiens (Human)         9606   \n",
       "\n",
       "                                       Protein names  \\\n",
       "0  N-acetyl-D-glucosamine kinase (N-acetylglucosa...   \n",
       "9  N-acetyl-D-glucosamine kinase (EC 2.7.1.59) (G...   \n",
       "\n",
       "                   Proteomes  \\\n",
       "0  UP000005640: Chromosome 2   \n",
       "9  UP000005640: Chromosome 2   \n",
       "\n",
       "                             Taxonomic lineage (ALL)  Taxonomic lineage IDs  \\\n",
       "0  cellular organisms, Eukaryota, Opisthokonta, M...                   9606   \n",
       "9  cellular organisms, Eukaryota, Opisthokonta, M...                   9606   \n",
       "\n",
       "   Virus hosts  Fragment                                           Sequence  \\\n",
       "0          NaN       NaN  MAAIYGGVEGGGTRSEVLLVSEDGKILAEADGLSTNHWLIGTDKCV...   \n",
       "9          NaN       NaN  MVNRAKRKAGVDPLVPLRSLGLSLSGGDQEDAGRILIEELRDRFPY...   \n",
       "\n",
       "   Length    Mass  Gene encoded by  Alternative products (isoforms)  \\\n",
       "0     344  37,376              NaN                              NaN   \n",
       "9     293  32,018              NaN                              NaN   \n",
       "\n",
       "   Erroneous gene model prediction Erroneous initiation  \\\n",
       "0                              NaN                  NaN   \n",
       "9                              NaN                  NaN   \n",
       "\n",
       "   Erroneous termination  Erroneous translation  Frameshift  \\\n",
       "0                    NaN                    NaN         NaN   \n",
       "9                    NaN                    NaN         NaN   \n",
       "\n",
       "   Mass spectrometry  Polymorphism  RNA editing Sequence caution  \\\n",
       "0                NaN           NaN          NaN              NaN   \n",
       "9                NaN           NaN          NaN              NaN   \n",
       "\n",
       "                                Alternative sequence  \\\n",
       "0  VAR_SEQ 1;  /note=\"M -> MRTRTGSQLAAREVTGSGAVPR...   \n",
       "9                                                NaN   \n",
       "\n",
       "                                     Natural variant  Non-adjacent residues  \\\n",
       "0  VARIANT 38;  /note=\"W -> R (in dbSNP:rs1785614...                    NaN   \n",
       "9                                                NaN                    NaN   \n",
       "\n",
       "   Non-standard residue  Non-terminal residue  \\\n",
       "0                   NaN                   NaN   \n",
       "9                   NaN                   NaN   \n",
       "\n",
       "                                   Sequence conflict  Sequence uncertainty  \\\n",
       "0  CONFLICT 70;  /note=\"S -> I (in Ref. 1; CAB618...                   NaN   \n",
       "9                                                NaN                   NaN   \n",
       "\n",
       "   Version (sequence) Domains  Domain count Domain [CC]  \\\n",
       "0                   4      []             0         NaN   \n",
       "9                   3      []             0         NaN   \n",
       "\n",
       "                               Sequence similarities Coiled coil  \\\n",
       "0  SIMILARITY: Belongs to the eukaryotic-type N-a...         NaN   \n",
       "9  SIMILARITY: Belongs to the eukaryotic-type N-a...         NaN   \n",
       "\n",
       "  Compositional bias                                        Domain [FT] Motif  \\\n",
       "0                NaN                                                NaN   NaN   \n",
       "9                NaN  DOMAIN 50..224;  /note=\"BcrAD_BadFG\";  /eviden...   NaN   \n",
       "\n",
       "                                              Region Repeat Zinc finger  \\\n",
       "0  REGION 129..130;  /note=\"Substrate binding\";  ...    NaN         NaN   \n",
       "9                                                NaN    NaN         NaN   \n",
       "\n",
       "  EC number  Absorption                                 Catalytic activity  \\\n",
       "0  2.7.1.59         NaN  CATALYTIC ACTIVITY: Reaction=ATP + N-acetyl-D-...   \n",
       "9  2.7.1.59         NaN                                                NaN   \n",
       "\n",
       "   Cofactor                                      Function [CC]  Kinetics  \\\n",
       "0       NaN  FUNCTION: Converts endogenous N-acetylglucosam...       NaN   \n",
       "9       NaN                                                NaN       NaN   \n",
       "\n",
       "                                             Pathway  Redox potential  \\\n",
       "0  PATHWAY: Amino-sugar metabolism; N-acetylneura...              NaN   \n",
       "9                                                NaN              NaN   \n",
       "\n",
       "   Temperature dependence  pH dependence  Active site  \\\n",
       "0                     NaN            NaN          NaN   \n",
       "9                     NaN            NaN          NaN   \n",
       "\n",
       "                                        Binding site DNA binding  \\\n",
       "0  BINDING 13;  /note=\"ATP; via amide nitrogen\"; ...         NaN   \n",
       "9                                                NaN         NaN   \n",
       "\n",
       "   Metal binding  Nucleotide binding  Site  \\\n",
       "0            NaN                 NaN   NaN   \n",
       "9            NaN                 NaN   NaN   \n",
       "\n",
       "                                  Gene ontology (GO)  \\\n",
       "0  [cytosol [GO:0005829], extracellular exosome [...   \n",
       "9  [N-acetylglucosamine kinase activity [GO:00451...   \n",
       "\n",
       "                  Gene ontology (biological process)  \\\n",
       "0  N-acetylglucosamine metabolic process [GO:0006...   \n",
       "9                                                NaN   \n",
       "\n",
       "                  Gene ontology (molecular function)  \\\n",
       "0  ATP binding [GO:0005524]; N-acetylglucosamine ...   \n",
       "9   N-acetylglucosamine kinase activity [GO:0045127]   \n",
       "\n",
       "                  Gene ontology (cellular component)  \\\n",
       "0  cytosol [GO:0005829]; extracellular exosome [G...   \n",
       "9                                                NaN   \n",
       "\n",
       "                                   Gene ontology IDs  \\\n",
       "0  [GO:0005524, GO:0005829, GO:0006044, GO:000605...   \n",
       "9                                       [GO:0045127]   \n",
       "\n",
       "                              InterPro  \\\n",
       "0  [IPR002731, IPR043129, IPR039758, ]   \n",
       "9  [IPR002731, IPR043129, IPR039758, ]   \n",
       "\n",
       "                                      Interacts with  \\\n",
       "0  [Q9NZ32, P42773, Q9UI36, Q9UI36-2, Q8TBB1, P50...   \n",
       "9                                                 []   \n",
       "\n",
       "                              Subunit structure [CC]  \\\n",
       "0  SUBUNIT: Homodimer. {ECO:0000269|PubMed:170103...   \n",
       "9                                                NaN   \n",
       "\n",
       "                                           PubMed ID  \\\n",
       "0  [10824116, 14702039, 15815621, 15489334, 12665...   \n",
       "9  [15815621, 18669648, 19690332, 20068231, 21269...   \n",
       "\n",
       "                                    Mapped PubMed ID Date of creation  \\\n",
       "0  15231747; 15231748; 15987957; 16189514; 182348...       2002-11-01   \n",
       "9  15987957; 17010375; 22507750; 25921606; 276466...       2009-11-03   \n",
       "\n",
       "  Date of last modification Date of last sequence modification  \\\n",
       "0                2022-05-25                         2007-01-23   \n",
       "9                2022-05-25                         2011-06-28   \n",
       "\n",
       "   Version (entry)                         3D  \\\n",
       "0              186  X-ray crystallography (2)   \n",
       "9               83                        NaN   \n",
       "\n",
       "                                         Beta strand  \\\n",
       "0  STRAND 4..10;  /evidence=\"ECO:0007829|PDB:2CH5...   \n",
       "9                                                NaN   \n",
       "\n",
       "                                               Helix  \\\n",
       "0  HELIX 37..40;  /evidence=\"ECO:0007829|PDB:2CH5...   \n",
       "9                                                NaN   \n",
       "\n",
       "                                                Turn  \\\n",
       "0  TURN 76..79;  /evidence=\"ECO:0007829|PDB:2CH5\"...   \n",
       "9                                                NaN   \n",
       "\n",
       "  Subcellular location [CC]  Intramembrane  Topological domain  Transmembrane  \\\n",
       "0                       NaN            NaN                 NaN            NaN   \n",
       "9                       NaN            NaN                 NaN            NaN   \n",
       "\n",
       "   Annotation                                           Features  Caution  \\\n",
       "0  5 out of 5  Alternative sequence (1); Beta strand (14); Bi...      NaN   \n",
       "9  2 out of 5                                         Domain (1)      NaN   \n",
       "\n",
       "                                  Tissue specificity Miscellaneous [CC]  \\\n",
       "0  TISSUE SPECIFICITY: Ubiquitous. {ECO:0000269|P...                NaN   \n",
       "9                                                NaN                NaN   \n",
       "\n",
       "                                            Keywords  \\\n",
       "0  [3D-structure, ATP-binding, Acetylation, Alter...   \n",
       "9    [Proteomics identification, Reference proteome]   \n",
       "\n",
       "           Protein existence      Status  Sequence annotation (Features)  \\\n",
       "0  Evidence at protein level    reviewed                             NaN   \n",
       "9  Evidence at protein level  unreviewed                             NaN   \n",
       "\n",
       "                                    Protein families  Version  \\\n",
       "0  [Eukaryotic-type N-acetylglucosamine kinase fa...      186   \n",
       "9  [Eukaryotic-type N-acetylglucosamine kinase fa...       83   \n",
       "\n",
       "                                            Comments  Cross-reference (null)  \\\n",
       "0  [Alternative products (1), Catalytic activity ...                     NaN   \n",
       "9                        [Sequence similarities (1)]                     NaN   \n",
       "\n",
       "                                          Keyword ID  \\\n",
       "0  KW-0002; KW-0007; KW-0025; KW-0067; KW-0418; K...   \n",
       "9                                   KW-1185; KW-1267   \n",
       "\n",
       "                                           Pathway.1  Allergenic properties  \\\n",
       "0  Amino-sugar metabolism; N-acetylneuraminate de...                    NaN   \n",
       "9                                                NaN                    NaN   \n",
       "\n",
       "   Biotechnological use  Disruption phenotype Involvement in disease  \\\n",
       "0                   NaN                   NaN                    NaN   \n",
       "9                   NaN                   NaN                    NaN   \n",
       "\n",
       "   Pharmaceutical use  Toxic dose Post-translational modification  \\\n",
       "0                 NaN         NaN                             NaN   \n",
       "9                 NaN         NaN                             NaN   \n",
       "\n",
       "                                               Chain Cross-link  \\\n",
       "0  CHAIN 2..344;  /note=\"N-acetyl-D-glucosamine k...        NaN   \n",
       "9                                                NaN        NaN   \n",
       "\n",
       "   Disulfide bond  Glycosylation  \\\n",
       "0             NaN            NaN   \n",
       "9             NaN            NaN   \n",
       "\n",
       "                                Initiator methionine  Lipidation  \\\n",
       "0  INIT_MET 1;  /note=\"Removed\";  /evidence=\"ECO:...         NaN   \n",
       "9                                                NaN         NaN   \n",
       "\n",
       "                                    Modified residue  Peptide  Propeptide  \\\n",
       "0  MOD_RES 2;  /note=\"N-acetylalanine\";  /evidenc...      NaN         NaN   \n",
       "9                                                NaN      NaN         NaN   \n",
       "\n",
       "   Signal peptide  Transit peptide  \\\n",
       "0             NaN              NaN   \n",
       "9             NaN              NaN   \n",
       "\n",
       "                             Taxonomic lineage (all)  \\\n",
       "0  cellular organisms, Eukaryota, Opisthokonta, M...   \n",
       "9  cellular organisms, Eukaryota, Opisthokonta, M...   \n",
       "\n",
       "  Taxonomic lineage (SUPERKINGDOM) Taxonomic lineage (KINGDOM)  \\\n",
       "0                        Eukaryota                     Metazoa   \n",
       "9                        Eukaryota                     Metazoa   \n",
       "\n",
       "   Taxonomic lineage (SUBKINGDOM)  Taxonomic lineage (SUPERPHYLUM)  \\\n",
       "0                             NaN                              NaN   \n",
       "9                             NaN                              NaN   \n",
       "\n",
       "  Taxonomic lineage (PHYLUM) Taxonomic lineage (SUBPHYLUM)  \\\n",
       "0                   Chordata                      Craniata   \n",
       "9                   Chordata                      Craniata   \n",
       "\n",
       "  Taxonomic lineage (SUPERCLASS) Taxonomic lineage (CLASS)  \\\n",
       "0                  Sarcopterygii                  Mammalia   \n",
       "9                  Sarcopterygii                  Mammalia   \n",
       "\n",
       "   Taxonomic lineage (SUBCLASS)  Taxonomic lineage (INFRACLASS)  \\\n",
       "0                           NaN                             NaN   \n",
       "9                           NaN                             NaN   \n",
       "\n",
       "  Taxonomic lineage (SUPERORDER) Taxonomic lineage (ORDER)  \\\n",
       "0               Euarchontoglires                  Primates   \n",
       "9               Euarchontoglires                  Primates   \n",
       "\n",
       "  Taxonomic lineage (SUBORDER) Taxonomic lineage (INFRAORDER)  \\\n",
       "0                  Haplorrhini                    Simiiformes   \n",
       "9                  Haplorrhini                    Simiiformes   \n",
       "\n",
       "  Taxonomic lineage (PARVORDER) Taxonomic lineage (SUPERFAMILY)  \\\n",
       "0                    Catarrhini               Hominoidea (apes)   \n",
       "9                    Catarrhini               Hominoidea (apes)   \n",
       "\n",
       "  Taxonomic lineage (FAMILY) Taxonomic lineage (SUBFAMILY)  \\\n",
       "0     Hominidae (great apes)                     Homininae   \n",
       "9     Hominidae (great apes)                     Homininae   \n",
       "\n",
       "   Taxonomic lineage (TRIBE)  Taxonomic lineage (SUBTRIBE)  \\\n",
       "0                        NaN                           NaN   \n",
       "9                        NaN                           NaN   \n",
       "\n",
       "  Taxonomic lineage (GENUS)  Taxonomic lineage (SUBGENUS)  \\\n",
       "0                      Homo                           NaN   \n",
       "9                      Homo                           NaN   \n",
       "\n",
       "   Taxonomic lineage (SPECIES GROUP)  Taxonomic lineage (SPECIES SUBGROUP)  \\\n",
       "0                                NaN                                   NaN   \n",
       "9                                NaN                                   NaN   \n",
       "\n",
       "  Taxonomic lineage (SPECIES)  Taxonomic lineage (SUBSPECIES)  \\\n",
       "0        Homo sapiens (Human)                             NaN   \n",
       "9        Homo sapiens (Human)                             NaN   \n",
       "\n",
       "   Taxonomic lineage (VARIETAS)  Taxonomic lineage (FORMA)  \\\n",
       "0                           NaN                        NaN   \n",
       "9                           NaN                        NaN   \n",
       "\n",
       "                         Taxonomic lineage IDs (all)  \\\n",
       "0  131567, 2759, 33154, 33208, 6072, 33213, 33511...   \n",
       "9  131567, 2759, 33154, 33208, 6072, 33213, 33511...   \n",
       "\n",
       "   Taxonomic lineage IDs (SUPERKINGDOM)  Taxonomic lineage IDs (KINGDOM)  \\\n",
       "0                                  2759                            33208   \n",
       "9                                  2759                            33208   \n",
       "\n",
       "   Taxonomic lineage IDs (SUBKINGDOM)  Taxonomic lineage IDs (SUPERPHYLUM)  \\\n",
       "0                                 NaN                                  NaN   \n",
       "9                                 NaN                                  NaN   \n",
       "\n",
       "   Taxonomic lineage IDs (PHYLUM)  Taxonomic lineage IDs (SUBPHYLUM)  \\\n",
       "0                            7711                              89593   \n",
       "9                            7711                              89593   \n",
       "\n",
       "   Taxonomic lineage IDs (SUPERCLASS)  Taxonomic lineage IDs (CLASS)  \\\n",
       "0                                8287                          40674   \n",
       "9                                8287                          40674   \n",
       "\n",
       "   Taxonomic lineage IDs (SUBCLASS)  Taxonomic lineage IDs (INFRACLASS)  \\\n",
       "0                               NaN                                 NaN   \n",
       "9                               NaN                                 NaN   \n",
       "\n",
       "   Taxonomic lineage IDs (SUPERORDER)  Taxonomic lineage IDs (ORDER)  \\\n",
       "0                              314146                           9443   \n",
       "9                              314146                           9443   \n",
       "\n",
       "   Taxonomic lineage IDs (SUBORDER)  Taxonomic lineage IDs (INFRAORDER)  \\\n",
       "0                            376913                              314293   \n",
       "9                            376913                              314293   \n",
       "\n",
       "   Taxonomic lineage IDs (PARVORDER)  Taxonomic lineage IDs (SUPERFAMILY)  \\\n",
       "0                               9526                               314295   \n",
       "9                               9526                               314295   \n",
       "\n",
       "   Taxonomic lineage IDs (FAMILY)  Taxonomic lineage IDs (SUBFAMILY)  \\\n",
       "0                            9604                             207598   \n",
       "9                            9604                             207598   \n",
       "\n",
       "   Taxonomic lineage IDs (TRIBE)  Taxonomic lineage IDs (SUBTRIBE)  \\\n",
       "0                            NaN                               NaN   \n",
       "9                            NaN                               NaN   \n",
       "\n",
       "   Taxonomic lineage IDs (GENUS)  Taxonomic lineage IDs (SUBGENUS)  \\\n",
       "0                           9605                               NaN   \n",
       "9                           9605                               NaN   \n",
       "\n",
       "   Taxonomic lineage IDs (SPECIES GROUP)  \\\n",
       "0                                    NaN   \n",
       "9                                    NaN   \n",
       "\n",
       "   Taxonomic lineage IDs (SPECIES SUBGROUP)  Taxonomic lineage IDs (SPECIES)  \\\n",
       "0                                       NaN                              NaN   \n",
       "9                                       NaN                              NaN   \n",
       "\n",
       "   Taxonomic lineage IDs (SUBSPECIES)  Taxonomic lineage IDs (VARIETAS)  \\\n",
       "0                                 NaN                               NaN   \n",
       "9                                 NaN                               NaN   \n",
       "\n",
       "   Taxonomic lineage IDs (FORMA)  Cross-reference (db_abbrev)  \\\n",
       "0                            NaN                          NaN   \n",
       "9                            NaN                          NaN   \n",
       "\n",
       "                              Cross-reference (EMBL)  \n",
       "0  AJ242910;AK001812;AK297224;CR457271;AK222645;A...  \n",
       "9                                                NaN  "
      ]
     },
     "execution_count": 13,
     "metadata": {},
     "output_type": "execute_result"
    }
   ],
   "source": [
    "pd.set_option('display.max_columns', None)\n",
    "df[(df['Entry'] == 'Q9UJ70') | (df['Entry'] == 'A0A384N6G7') | (df['Entry'] ==  'C9JEV6')]"
   ]
  },
  {
   "cell_type": "code",
   "execution_count": 398,
   "id": "5301780e-6a99-45d2-8140-ae85bd317fdc",
   "metadata": {},
   "outputs": [
    {
     "data": {
      "text/plain": [
       "'MAAIYGGVEGGGTRSEVLLVSEDGKILAEADGLSTNHWLIGTDKCVERINEMVNRAKRKAGVDPLVPLRSLGLSLSGGDQEDAGRILIEELRDRFPYLSESYLITTDAAGSIATATPDGGVVLISGTGSNCRLINPDGSESGCGGWGHMMGDEGSAYWIAHQAVKIVFDSIDNLEAAPHDIGYVKQAMFHYFQVPDRLGILTHLYRDFDKCRFAGFCRKIAEGAQQGDPLSRYIFRKAGEMLGRHIVAVLPEIDPVLFQGKIGLPILCVGSVWKSWELLKEGFLLALTQGREIQAQNFFSSFTLMKLRHSSALGGASLGARHIGHLLPMDYSANAIAFYSYTFS'"
      ]
     },
     "execution_count": 398,
     "metadata": {},
     "output_type": "execute_result"
    }
   ],
   "source": [
    "u.get_fasta_sequence('Q9UJ70')"
   ]
  },
  {
   "cell_type": "code",
   "execution_count": null,
   "id": "77f77d86-6588-4859-b45f-e08009d33dc7",
   "metadata": {},
   "outputs": [],
   "source": []
  },
  {
   "cell_type": "code",
   "execution_count": null,
   "id": "6fe5aaec-277d-4dc6-8262-b70c8d39eff3",
   "metadata": {},
   "outputs": [],
   "source": []
  },
  {
   "cell_type": "code",
   "execution_count": null,
   "id": "72d4e01d-a3ee-4073-812f-4f3a0011e1bb",
   "metadata": {},
   "outputs": [],
   "source": []
  },
  {
   "cell_type": "code",
   "execution_count": 3,
   "id": "d210cf49-6581-4a39-90ac-619f64947093",
   "metadata": {},
   "outputs": [],
   "source": [
    "models_json = json.load(\n",
    "    open(\"/Mounts/rbg-storage1/datasets/Metabo/BiGG/bigg_models.json\", \"rb\")\n",
    ")\n",
    "models = [v[\"bigg_id\"] for v in models_json[\"results\"]]"
   ]
  },
  {
   "cell_type": "code",
   "execution_count": 4,
   "id": "ff47273f-41d7-46e7-a141-040650daa94c",
   "metadata": {
    "tags": []
   },
   "outputs": [
    {
     "name": "stderr",
     "output_type": "stream",
     "text": [
      "  0%|                                                                                                   | 0/108 [00:00<?, ?it/s]This model seems to have metCharge instead of metCharges field. Will use metCharge for what metCharges represents.\n",
      "No defined compartments in model e_coli_core. Compartments will be deduced heuristically using regular expressions.\n",
      "Using regular expression found the following compartments:c, e\n"
     ]
    },
    {
     "name": "stdout",
     "output_type": "stream",
     "text": [
      "Scaling...\n",
      " A: min|aij| =  1.000e+00  max|aij| =  1.000e+00  ratio =  1.000e+00\n",
      "Problem data seem to be well scaled\n"
     ]
    },
    {
     "name": "stderr",
     "output_type": "stream",
     "text": [
      "  1%|▊                                                                                          | 1/108 [00:08<15:56,  8.93s/it]No defined compartments in model iAB_RBC_283. Compartments will be deduced heuristically using regular expressions.\n",
      "Using regular expression found the following compartments:c, e\n",
      "  2%|█▋                                                                                         | 2/108 [00:37<36:21, 20.58s/it]This model seems to have metCharge instead of metCharges field. Will use metCharge for what metCharges represents.\n",
      "No defined compartments in model iAF1260. Compartments will be deduced heuristically using regular expressions.\n",
      "Using regular expression found the following compartments:c, e, p\n",
      "  3%|██▍                                                                                      | 3/108 [03:36<2:42:40, 92.96s/it]This model seems to have metCharge instead of metCharges field. Will use metCharge for what metCharges represents.\n",
      "No defined compartments in model iAF1260b. Compartments will be deduced heuristically using regular expressions.\n",
      "Using regular expression found the following compartments:c, e, p\n",
      "  4%|███▎                                                                                    | 4/108 [06:26<3:33:23, 123.11s/it]No defined compartments in model iAF692. Compartments will be deduced heuristically using regular expressions.\n",
      "Using regular expression found the following compartments:c, e\n",
      "  5%|████                                                                                    | 5/108 [07:48<3:06:13, 108.48s/it]No defined compartments in model iAF987. Compartments will be deduced heuristically using regular expressions.\n",
      "Using regular expression found the following compartments:c, e, p\n",
      "  6%|████▉                                                                                   | 6/108 [09:54<3:14:15, 114.27s/it]This model seems to have metCharge instead of metCharges field. Will use metCharge for what metCharges represents.\n",
      "No defined compartments in model iAM_Pb448. Compartments will be deduced heuristically using regular expressions.\n",
      "Using regular expression found the following compartments:c, e, g, h, l, m, r\n",
      "  6%|█████▊                                                                                   | 7/108 [11:01<2:46:46, 99.08s/it]This model seems to have metCharge instead of metCharges field. Will use metCharge for what metCharges represents.\n",
      "No defined compartments in model iAM_Pc455. Compartments will be deduced heuristically using regular expressions.\n",
      "Using regular expression found the following compartments:c, e, g, h, l, m, r\n",
      "  7%|██████▌                                                                                  | 8/108 [12:28<2:38:16, 94.96s/it]This model seems to have metCharge instead of metCharges field. Will use metCharge for what metCharges represents.\n",
      "No defined compartments in model iAM_Pf480. Compartments will be deduced heuristically using regular expressions.\n",
      "Using regular expression found the following compartments:c, e, g, h, l, m, r\n",
      "  8%|███████▍                                                                                 | 9/108 [13:40<2:24:53, 87.81s/it]This model seems to have metCharge instead of metCharges field. Will use metCharge for what metCharges represents.\n",
      "No defined compartments in model iAM_Pk459. Compartments will be deduced heuristically using regular expressions.\n",
      "Using regular expression found the following compartments:c, e, g, h, l, m, r\n",
      "  9%|████████▏                                                                               | 10/108 [15:00<2:19:51, 85.63s/it]This model seems to have metCharge instead of metCharges field. Will use metCharge for what metCharges represents.\n",
      "No defined compartments in model iAM_Pv461. Compartments will be deduced heuristically using regular expressions.\n",
      "Using regular expression found the following compartments:c, e, g, h, l, m, r\n",
      " 10%|████████▉                                                                               | 11/108 [16:13<2:11:54, 81.59s/it]No defined compartments in model iAPECO1_1312. Compartments will be deduced heuristically using regular expressions.\n",
      "Using regular expression found the following compartments:c, e, p\n",
      " 11%|█████████▋                                                                             | 12/108 [19:55<3:18:53, 124.31s/it]No defined compartments in model iAT_PLT_636. Compartments will be deduced heuristically using regular expressions.\n",
      "Using regular expression found the following compartments:c, e, l, m, r, x\n",
      " 12%|██████████▍                                                                            | 13/108 [21:32<3:03:44, 116.04s/it]This model seems to have metCharge instead of metCharges field. Will use metCharge for what metCharges represents.\n",
      "No defined compartments in model iB21_1397. Compartments will be deduced heuristically using regular expressions.\n",
      "Using regular expression found the following compartments:c, e, p\n",
      " 13%|███████████▎                                                                           | 14/108 [25:24<3:56:52, 151.20s/it]This model seems to have metCharge instead of metCharges field. Will use metCharge for what metCharges represents.\n",
      "No defined compartments in model iBWG_1329. Compartments will be deduced heuristically using regular expressions.\n",
      "Using regular expression found the following compartments:c, e, p\n",
      " 14%|████████████                                                                           | 15/108 [28:53<4:21:05, 168.45s/it]This model seems to have metCharge instead of metCharges field. Will use metCharge for what metCharges represents.\n",
      "No defined compartments in model ic_1306. Compartments will be deduced heuristically using regular expressions.\n",
      "Using regular expression found the following compartments:c, e, p\n",
      " 15%|████████████▉                                                                          | 16/108 [33:13<5:00:36, 196.05s/it]This model seems to have metCharge instead of metCharges field. Will use metCharge for what metCharges represents.\n",
      "No defined compartments in model iCHOv1. Compartments will be deduced heuristically using regular expressions.\n",
      " 16%|█████████████▋                                                                         | 17/108 [33:15<3:28:58, 137.79s/it]"
     ]
    },
    {
     "name": "stdout",
     "output_type": "stream",
     "text": [
      "Some problem with the model, causing error Some compartments were empty. Check the model!\n",
      "No COBRA model found at /Mounts/rbg-storage1/datasets/Metabo/BiGG/iCHOv1.mat.\n",
      "Failed to load model: iCHOv1\n"
     ]
    },
    {
     "name": "stderr",
     "output_type": "stream",
     "text": [
      "This model seems to have metCharge instead of metCharges field. Will use metCharge for what metCharges represents.\n",
      "No defined compartments in model iCHOv1_DG44. Compartments will be deduced heuristically using regular expressions.\n",
      " 17%|██████████████▋                                                                         | 18/108 [33:16<2:25:03, 96.71s/it]No defined compartments in model iCN718. Compartments will be deduced heuristically using regular expressions.\n",
      "Using regular expression found the following compartments:c, e, p, r\n"
     ]
    },
    {
     "name": "stdout",
     "output_type": "stream",
     "text": [
      "Some problem with the model, causing error Some compartments were empty. Check the model!\n",
      "No COBRA model found at /Mounts/rbg-storage1/datasets/Metabo/BiGG/iCHOv1_DG44.mat.\n",
      "Failed to load model: iCHOv1_DG44\n"
     ]
    },
    {
     "name": "stderr",
     "output_type": "stream",
     "text": [
      " 18%|███████████████▍                                                                        | 19/108 [33:53<1:56:44, 78.71s/it]No defined compartments in model iCN900. Compartments will be deduced heuristically using regular expressions.\n",
      "Using regular expression found the following compartments:c, e\n",
      " 19%|████████████████▎                                                                       | 20/108 [36:09<2:20:47, 96.00s/it]This model seems to have metCharge instead of metCharges field. Will use metCharge for what metCharges represents.\n",
      "No defined compartments in model iE2348C_1286. Compartments will be deduced heuristically using regular expressions.\n",
      "Using regular expression found the following compartments:c, e, p\n",
      " 19%|████████████████▉                                                                      | 21/108 [39:32<3:05:27, 127.91s/it]This model seems to have metCharge instead of metCharges field. Will use metCharge for what metCharges represents.\n",
      "No defined compartments in model iEC042_1314. Compartments will be deduced heuristically using regular expressions.\n",
      "Using regular expression found the following compartments:c, e, p\n",
      " 20%|█████████████████▋                                                                     | 22/108 [43:14<3:43:51, 156.18s/it]No defined compartments in model iEC1344_C. Compartments will be deduced heuristically using regular expressions.\n",
      "Using regular expression found the following compartments:c, e, p\n",
      " 21%|██████████████████▌                                                                    | 23/108 [46:58<4:10:08, 176.57s/it]No defined compartments in model iEC1349_Crooks. Compartments will be deduced heuristically using regular expressions.\n",
      "Using regular expression found the following compartments:c, e, p\n",
      " 21%|██████████████████▌                                                                    | 23/108 [48:58<3:00:59, 127.76s/it]\n"
     ]
    },
    {
     "ename": "KeyboardInterrupt",
     "evalue": "",
     "output_type": "error",
     "traceback": [
      "\u001b[0;31m---------------------------------------------------------------------------\u001b[0m",
      "\u001b[0;31mKeyboardInterrupt\u001b[0m                         Traceback (most recent call last)",
      "    \u001b[0;31m[... skipping hidden 1 frame]\u001b[0m\n",
      "Input \u001b[0;32mIn [4]\u001b[0m, in \u001b[0;36m<cell line: 5>\u001b[0;34m()\u001b[0m\n\u001b[1;32m      7\u001b[0m \u001b[38;5;28;01mtry\u001b[39;00m:\n\u001b[0;32m----> 8\u001b[0m     model \u001b[38;5;241m=\u001b[39m \u001b[43mload_matlab_model\u001b[49m\u001b[43m(\u001b[49m\u001b[38;5;124;43mf\u001b[39;49m\u001b[38;5;124;43m\"\u001b[39;49m\u001b[38;5;124;43m/Mounts/rbg-storage1/datasets/Metabo/BiGG/\u001b[39;49m\u001b[38;5;132;43;01m{\u001b[39;49;00m\u001b[43morganism_name\u001b[49m\u001b[38;5;132;43;01m}\u001b[39;49;00m\u001b[38;5;124;43m.mat\u001b[39;49m\u001b[38;5;124;43m\"\u001b[39;49m\u001b[43m)\u001b[49m\n\u001b[1;32m      9\u001b[0m \u001b[38;5;28;01mexcept\u001b[39;00m \u001b[38;5;167;01mException\u001b[39;00m \u001b[38;5;28;01mas\u001b[39;00m e:\n",
      "File \u001b[0;32m/Mounts/rbg-storage1/users/itamarc/miniconda3/envs/fbapy38/lib/python3.8/site-packages/cobra/io/mat.py:301\u001b[0m, in \u001b[0;36mload_matlab_model\u001b[0;34m(infile_path, variable_name, inf)\u001b[0m\n\u001b[1;32m    300\u001b[0m \u001b[38;5;28;01mtry\u001b[39;00m:\n\u001b[0;32m--> 301\u001b[0m     \u001b[38;5;28;01mreturn\u001b[39;00m \u001b[43mfrom_mat_struct\u001b[49m\u001b[43m(\u001b[49m\u001b[43mdata\u001b[49m\u001b[43m[\u001b[49m\u001b[43mpossible_name\u001b[49m\u001b[43m]\u001b[49m\u001b[43m,\u001b[49m\u001b[43m \u001b[49m\u001b[43mmodel_id\u001b[49m\u001b[38;5;241;43m=\u001b[39;49m\u001b[43mpossible_name\u001b[49m\u001b[43m,\u001b[49m\u001b[43m \u001b[49m\u001b[43minf\u001b[49m\u001b[38;5;241;43m=\u001b[39;49m\u001b[43minf\u001b[49m\u001b[43m)\u001b[49m\n\u001b[1;32m    302\u001b[0m \u001b[38;5;28;01mexcept\u001b[39;00m \u001b[38;5;167;01mValueError\u001b[39;00m \u001b[38;5;28;01mas\u001b[39;00m e:\n",
      "File \u001b[0;32m/Mounts/rbg-storage1/users/itamarc/miniconda3/envs/fbapy38/lib/python3.8/site-packages/cobra/io/mat.py:838\u001b[0m, in \u001b[0;36mfrom_mat_struct\u001b[0;34m(mat_struct, model_id, inf)\u001b[0m\n\u001b[1;32m    837\u001b[0m \u001b[38;5;28;01mif\u001b[39;00m rxn_gene_rules:\n\u001b[0;32m--> 838\u001b[0m     new_reaction\u001b[38;5;241m.\u001b[39mgene_reaction_rule \u001b[38;5;241m=\u001b[39m rxn_gene_rules[i]\n\u001b[1;32m    839\u001b[0m new_reactions\u001b[38;5;241m.\u001b[39mappend(new_reaction)\n",
      "File \u001b[0;32m/Mounts/rbg-storage1/users/itamarc/miniconda3/envs/fbapy38/lib/python3.8/site-packages/cobra/util/context.py:111\u001b[0m, in \u001b[0;36mresettable.<locals>.wrapper\u001b[0;34m(self, new_value)\u001b[0m\n\u001b[1;32m    109\u001b[0m     context(partial(func, \u001b[38;5;28mself\u001b[39m, old_value))\n\u001b[0;32m--> 111\u001b[0m \u001b[43mfunc\u001b[49m\u001b[43m(\u001b[49m\u001b[38;5;28;43mself\u001b[39;49m\u001b[43m,\u001b[49m\u001b[43m \u001b[49m\u001b[43mnew_value\u001b[49m\u001b[43m)\u001b[49m\n",
      "File \u001b[0;32m/Mounts/rbg-storage1/users/itamarc/miniconda3/envs/fbapy38/lib/python3.8/site-packages/cobra/core/reaction.py:684\u001b[0m, in \u001b[0;36mReaction.gene_reaction_rule\u001b[0;34m(self, new_rule)\u001b[0m\n\u001b[1;32m    669\u001b[0m \u001b[38;5;124;03m\"\"\"Set a new GPR for the reaction, using a str expression.\u001b[39;00m\n\u001b[1;32m    670\u001b[0m \n\u001b[1;32m    671\u001b[0m \u001b[38;5;124;03mWill use the new GPR to update reaction genes.\u001b[39;00m\n\u001b[0;32m   (...)\u001b[0m\n\u001b[1;32m    682\u001b[0m \n\u001b[1;32m    683\u001b[0m \u001b[38;5;124;03m\"\"\"\u001b[39;00m\n\u001b[0;32m--> 684\u001b[0m \u001b[38;5;28mself\u001b[39m\u001b[38;5;241m.\u001b[39m_gpr \u001b[38;5;241m=\u001b[39m \u001b[43mGPR\u001b[49m\u001b[38;5;241;43m.\u001b[39;49m\u001b[43mfrom_string\u001b[49m\u001b[43m(\u001b[49m\u001b[43mnew_rule\u001b[49m\u001b[43m)\u001b[49m\n\u001b[1;32m    685\u001b[0m \u001b[38;5;28mself\u001b[39m\u001b[38;5;241m.\u001b[39mupdate_genes_from_gpr()\n",
      "File \u001b[0;32m/Mounts/rbg-storage1/users/itamarc/miniconda3/envs/fbapy38/lib/python3.8/site-packages/cobra/core/gene.py:378\u001b[0m, in \u001b[0;36mGPR.from_string\u001b[0;34m(cls, string_gpr)\u001b[0m\n\u001b[1;32m    377\u001b[0m         \u001b[38;5;28;01mreturn\u001b[39;00m gpr\n\u001b[0;32m--> 378\u001b[0m gpr \u001b[38;5;241m=\u001b[39m \u001b[38;5;28;43mcls\u001b[39;49m\u001b[43m(\u001b[49m\u001b[43mtree\u001b[49m\u001b[43m)\u001b[49m\n\u001b[1;32m    379\u001b[0m gpr\u001b[38;5;241m.\u001b[39mupdate_genes()\n",
      "File \u001b[0;32m/Mounts/rbg-storage1/users/itamarc/miniconda3/envs/fbapy38/lib/python3.8/site-packages/cobra/core/gene.py:306\u001b[0m, in \u001b[0;36mGPR.__init__\u001b[0;34m(self, gpr_from, **kwargs)\u001b[0m\n\u001b[1;32m    305\u001b[0m \u001b[38;5;28mself\u001b[39m\u001b[38;5;241m.\u001b[39m_genes \u001b[38;5;241m=\u001b[39m deepcopy(cleaner\u001b[38;5;241m.\u001b[39mgene_set)\n\u001b[0;32m--> 306\u001b[0m \u001b[38;5;28mself\u001b[39m\u001b[38;5;241m.\u001b[39mbody \u001b[38;5;241m=\u001b[39m \u001b[43mdeepcopy\u001b[49m\u001b[43m(\u001b[49m\u001b[43mgpr_from\u001b[49m\u001b[38;5;241;43m.\u001b[39;49m\u001b[43mbody\u001b[49m\u001b[43m)\u001b[49m\n\u001b[1;32m    307\u001b[0m \u001b[38;5;28mself\u001b[39m\u001b[38;5;241m.\u001b[39meval()\n",
      "File \u001b[0;32m/Mounts/rbg-storage1/users/itamarc/miniconda3/envs/fbapy38/lib/python3.8/copy.py:172\u001b[0m, in \u001b[0;36mdeepcopy\u001b[0;34m(x, memo, _nil)\u001b[0m\n\u001b[1;32m    171\u001b[0m             \u001b[38;5;28;01melse\u001b[39;00m:\n\u001b[0;32m--> 172\u001b[0m                 y \u001b[38;5;241m=\u001b[39m \u001b[43m_reconstruct\u001b[49m\u001b[43m(\u001b[49m\u001b[43mx\u001b[49m\u001b[43m,\u001b[49m\u001b[43m \u001b[49m\u001b[43mmemo\u001b[49m\u001b[43m,\u001b[49m\u001b[43m \u001b[49m\u001b[38;5;241;43m*\u001b[39;49m\u001b[43mrv\u001b[49m\u001b[43m)\u001b[49m\n\u001b[1;32m    174\u001b[0m \u001b[38;5;66;03m# If is its own copy, don't memoize.\u001b[39;00m\n",
      "File \u001b[0;32m/Mounts/rbg-storage1/users/itamarc/miniconda3/envs/fbapy38/lib/python3.8/copy.py:270\u001b[0m, in \u001b[0;36m_reconstruct\u001b[0;34m(x, memo, func, args, state, listiter, dictiter, deepcopy)\u001b[0m\n\u001b[1;32m    269\u001b[0m \u001b[38;5;28;01mif\u001b[39;00m deep:\n\u001b[0;32m--> 270\u001b[0m     state \u001b[38;5;241m=\u001b[39m \u001b[43mdeepcopy\u001b[49m\u001b[43m(\u001b[49m\u001b[43mstate\u001b[49m\u001b[43m,\u001b[49m\u001b[43m \u001b[49m\u001b[43mmemo\u001b[49m\u001b[43m)\u001b[49m\n\u001b[1;32m    271\u001b[0m \u001b[38;5;28;01mif\u001b[39;00m \u001b[38;5;28mhasattr\u001b[39m(y, \u001b[38;5;124m'\u001b[39m\u001b[38;5;124m__setstate__\u001b[39m\u001b[38;5;124m'\u001b[39m):\n",
      "File \u001b[0;32m/Mounts/rbg-storage1/users/itamarc/miniconda3/envs/fbapy38/lib/python3.8/copy.py:146\u001b[0m, in \u001b[0;36mdeepcopy\u001b[0;34m(x, memo, _nil)\u001b[0m\n\u001b[1;32m    145\u001b[0m \u001b[38;5;28;01mif\u001b[39;00m copier \u001b[38;5;129;01mis\u001b[39;00m \u001b[38;5;129;01mnot\u001b[39;00m \u001b[38;5;28;01mNone\u001b[39;00m:\n\u001b[0;32m--> 146\u001b[0m     y \u001b[38;5;241m=\u001b[39m \u001b[43mcopier\u001b[49m\u001b[43m(\u001b[49m\u001b[43mx\u001b[49m\u001b[43m,\u001b[49m\u001b[43m \u001b[49m\u001b[43mmemo\u001b[49m\u001b[43m)\u001b[49m\n\u001b[1;32m    147\u001b[0m \u001b[38;5;28;01melse\u001b[39;00m:\n",
      "File \u001b[0;32m/Mounts/rbg-storage1/users/itamarc/miniconda3/envs/fbapy38/lib/python3.8/copy.py:230\u001b[0m, in \u001b[0;36m_deepcopy_dict\u001b[0;34m(x, memo, deepcopy)\u001b[0m\n\u001b[1;32m    229\u001b[0m \u001b[38;5;28;01mfor\u001b[39;00m key, value \u001b[38;5;129;01min\u001b[39;00m x\u001b[38;5;241m.\u001b[39mitems():\n\u001b[0;32m--> 230\u001b[0m     y[deepcopy(key, memo)] \u001b[38;5;241m=\u001b[39m \u001b[43mdeepcopy\u001b[49m\u001b[43m(\u001b[49m\u001b[43mvalue\u001b[49m\u001b[43m,\u001b[49m\u001b[43m \u001b[49m\u001b[43mmemo\u001b[49m\u001b[43m)\u001b[49m\n\u001b[1;32m    231\u001b[0m \u001b[38;5;28;01mreturn\u001b[39;00m y\n",
      "File \u001b[0;32m/Mounts/rbg-storage1/users/itamarc/miniconda3/envs/fbapy38/lib/python3.8/copy.py:172\u001b[0m, in \u001b[0;36mdeepcopy\u001b[0;34m(x, memo, _nil)\u001b[0m\n\u001b[1;32m    171\u001b[0m             \u001b[38;5;28;01melse\u001b[39;00m:\n\u001b[0;32m--> 172\u001b[0m                 y \u001b[38;5;241m=\u001b[39m \u001b[43m_reconstruct\u001b[49m\u001b[43m(\u001b[49m\u001b[43mx\u001b[49m\u001b[43m,\u001b[49m\u001b[43m \u001b[49m\u001b[43mmemo\u001b[49m\u001b[43m,\u001b[49m\u001b[43m \u001b[49m\u001b[38;5;241;43m*\u001b[39;49m\u001b[43mrv\u001b[49m\u001b[43m)\u001b[49m\n\u001b[1;32m    174\u001b[0m \u001b[38;5;66;03m# If is its own copy, don't memoize.\u001b[39;00m\n",
      "File \u001b[0;32m/Mounts/rbg-storage1/users/itamarc/miniconda3/envs/fbapy38/lib/python3.8/copy.py:270\u001b[0m, in \u001b[0;36m_reconstruct\u001b[0;34m(x, memo, func, args, state, listiter, dictiter, deepcopy)\u001b[0m\n\u001b[1;32m    269\u001b[0m \u001b[38;5;28;01mif\u001b[39;00m deep:\n\u001b[0;32m--> 270\u001b[0m     state \u001b[38;5;241m=\u001b[39m \u001b[43mdeepcopy\u001b[49m\u001b[43m(\u001b[49m\u001b[43mstate\u001b[49m\u001b[43m,\u001b[49m\u001b[43m \u001b[49m\u001b[43mmemo\u001b[49m\u001b[43m)\u001b[49m\n\u001b[1;32m    271\u001b[0m \u001b[38;5;28;01mif\u001b[39;00m \u001b[38;5;28mhasattr\u001b[39m(y, \u001b[38;5;124m'\u001b[39m\u001b[38;5;124m__setstate__\u001b[39m\u001b[38;5;124m'\u001b[39m):\n",
      "File \u001b[0;32m/Mounts/rbg-storage1/users/itamarc/miniconda3/envs/fbapy38/lib/python3.8/copy.py:146\u001b[0m, in \u001b[0;36mdeepcopy\u001b[0;34m(x, memo, _nil)\u001b[0m\n\u001b[1;32m    145\u001b[0m \u001b[38;5;28;01mif\u001b[39;00m copier \u001b[38;5;129;01mis\u001b[39;00m \u001b[38;5;129;01mnot\u001b[39;00m \u001b[38;5;28;01mNone\u001b[39;00m:\n\u001b[0;32m--> 146\u001b[0m     y \u001b[38;5;241m=\u001b[39m \u001b[43mcopier\u001b[49m\u001b[43m(\u001b[49m\u001b[43mx\u001b[49m\u001b[43m,\u001b[49m\u001b[43m \u001b[49m\u001b[43mmemo\u001b[49m\u001b[43m)\u001b[49m\n\u001b[1;32m    147\u001b[0m \u001b[38;5;28;01melse\u001b[39;00m:\n",
      "File \u001b[0;32m/Mounts/rbg-storage1/users/itamarc/miniconda3/envs/fbapy38/lib/python3.8/copy.py:230\u001b[0m, in \u001b[0;36m_deepcopy_dict\u001b[0;34m(x, memo, deepcopy)\u001b[0m\n\u001b[1;32m    229\u001b[0m \u001b[38;5;28;01mfor\u001b[39;00m key, value \u001b[38;5;129;01min\u001b[39;00m x\u001b[38;5;241m.\u001b[39mitems():\n\u001b[0;32m--> 230\u001b[0m     y[deepcopy(key, memo)] \u001b[38;5;241m=\u001b[39m \u001b[43mdeepcopy\u001b[49m\u001b[43m(\u001b[49m\u001b[43mvalue\u001b[49m\u001b[43m,\u001b[49m\u001b[43m \u001b[49m\u001b[43mmemo\u001b[49m\u001b[43m)\u001b[49m\n\u001b[1;32m    231\u001b[0m \u001b[38;5;28;01mreturn\u001b[39;00m y\n",
      "    \u001b[0;31m[... skipping similar frames: deepcopy at line 146 (2 times), _deepcopy_dict at line 230 (1 times), _reconstruct at line 270 (1 times), deepcopy at line 172 (1 times)]\u001b[0m\n",
      "File \u001b[0;32m/Mounts/rbg-storage1/users/itamarc/miniconda3/envs/fbapy38/lib/python3.8/copy.py:205\u001b[0m, in \u001b[0;36m_deepcopy_list\u001b[0;34m(x, memo, deepcopy)\u001b[0m\n\u001b[1;32m    204\u001b[0m \u001b[38;5;28;01mfor\u001b[39;00m a \u001b[38;5;129;01min\u001b[39;00m x:\n\u001b[0;32m--> 205\u001b[0m     append(\u001b[43mdeepcopy\u001b[49m\u001b[43m(\u001b[49m\u001b[43ma\u001b[49m\u001b[43m,\u001b[49m\u001b[43m \u001b[49m\u001b[43mmemo\u001b[49m\u001b[43m)\u001b[49m)\n\u001b[1;32m    206\u001b[0m \u001b[38;5;28;01mreturn\u001b[39;00m y\n",
      "    \u001b[0;31m[... skipping similar frames: deepcopy at line 146 (2 times), _deepcopy_dict at line 230 (1 times), _reconstruct at line 270 (1 times), deepcopy at line 172 (1 times)]\u001b[0m\n",
      "File \u001b[0;32m/Mounts/rbg-storage1/users/itamarc/miniconda3/envs/fbapy38/lib/python3.8/copy.py:205\u001b[0m, in \u001b[0;36m_deepcopy_list\u001b[0;34m(x, memo, deepcopy)\u001b[0m\n\u001b[1;32m    204\u001b[0m \u001b[38;5;28;01mfor\u001b[39;00m a \u001b[38;5;129;01min\u001b[39;00m x:\n\u001b[0;32m--> 205\u001b[0m     append(\u001b[43mdeepcopy\u001b[49m\u001b[43m(\u001b[49m\u001b[43ma\u001b[49m\u001b[43m,\u001b[49m\u001b[43m \u001b[49m\u001b[43mmemo\u001b[49m\u001b[43m)\u001b[49m)\n\u001b[1;32m    206\u001b[0m \u001b[38;5;28;01mreturn\u001b[39;00m y\n",
      "    \u001b[0;31m[... skipping similar frames: deepcopy at line 146 (45 times), _deepcopy_dict at line 230 (36 times), _reconstruct at line 270 (36 times), deepcopy at line 172 (36 times), _deepcopy_list at line 205 (8 times)]\u001b[0m\n",
      "File \u001b[0;32m/Mounts/rbg-storage1/users/itamarc/miniconda3/envs/fbapy38/lib/python3.8/copy.py:205\u001b[0m, in \u001b[0;36m_deepcopy_list\u001b[0;34m(x, memo, deepcopy)\u001b[0m\n\u001b[1;32m    204\u001b[0m \u001b[38;5;28;01mfor\u001b[39;00m a \u001b[38;5;129;01min\u001b[39;00m x:\n\u001b[0;32m--> 205\u001b[0m     append(\u001b[43mdeepcopy\u001b[49m\u001b[43m(\u001b[49m\u001b[43ma\u001b[49m\u001b[43m,\u001b[49m\u001b[43m \u001b[49m\u001b[43mmemo\u001b[49m\u001b[43m)\u001b[49m)\n\u001b[1;32m    206\u001b[0m \u001b[38;5;28;01mreturn\u001b[39;00m y\n",
      "    \u001b[0;31m[... skipping similar frames: _deepcopy_dict at line 230 (2 times), _reconstruct at line 270 (2 times), deepcopy at line 172 (2 times), deepcopy at line 146 (2 times)]\u001b[0m\n",
      "File \u001b[0;32m/Mounts/rbg-storage1/users/itamarc/miniconda3/envs/fbapy38/lib/python3.8/copy.py:172\u001b[0m, in \u001b[0;36mdeepcopy\u001b[0;34m(x, memo, _nil)\u001b[0m\n\u001b[1;32m    171\u001b[0m             \u001b[38;5;28;01melse\u001b[39;00m:\n\u001b[0;32m--> 172\u001b[0m                 y \u001b[38;5;241m=\u001b[39m \u001b[43m_reconstruct\u001b[49m\u001b[43m(\u001b[49m\u001b[43mx\u001b[49m\u001b[43m,\u001b[49m\u001b[43m \u001b[49m\u001b[43mmemo\u001b[49m\u001b[43m,\u001b[49m\u001b[43m \u001b[49m\u001b[38;5;241;43m*\u001b[39;49m\u001b[43mrv\u001b[49m\u001b[43m)\u001b[49m\n\u001b[1;32m    174\u001b[0m \u001b[38;5;66;03m# If is its own copy, don't memoize.\u001b[39;00m\n",
      "File \u001b[0;32m/Mounts/rbg-storage1/users/itamarc/miniconda3/envs/fbapy38/lib/python3.8/copy.py:270\u001b[0m, in \u001b[0;36m_reconstruct\u001b[0;34m(x, memo, func, args, state, listiter, dictiter, deepcopy)\u001b[0m\n\u001b[1;32m    269\u001b[0m \u001b[38;5;28;01mif\u001b[39;00m deep:\n\u001b[0;32m--> 270\u001b[0m     state \u001b[38;5;241m=\u001b[39m \u001b[43mdeepcopy\u001b[49m\u001b[43m(\u001b[49m\u001b[43mstate\u001b[49m\u001b[43m,\u001b[49m\u001b[43m \u001b[49m\u001b[43mmemo\u001b[49m\u001b[43m)\u001b[49m\n\u001b[1;32m    271\u001b[0m \u001b[38;5;28;01mif\u001b[39;00m \u001b[38;5;28mhasattr\u001b[39m(y, \u001b[38;5;124m'\u001b[39m\u001b[38;5;124m__setstate__\u001b[39m\u001b[38;5;124m'\u001b[39m):\n",
      "File \u001b[0;32m/Mounts/rbg-storage1/users/itamarc/miniconda3/envs/fbapy38/lib/python3.8/copy.py:146\u001b[0m, in \u001b[0;36mdeepcopy\u001b[0;34m(x, memo, _nil)\u001b[0m\n\u001b[1;32m    145\u001b[0m \u001b[38;5;28;01mif\u001b[39;00m copier \u001b[38;5;129;01mis\u001b[39;00m \u001b[38;5;129;01mnot\u001b[39;00m \u001b[38;5;28;01mNone\u001b[39;00m:\n\u001b[0;32m--> 146\u001b[0m     y \u001b[38;5;241m=\u001b[39m \u001b[43mcopier\u001b[49m\u001b[43m(\u001b[49m\u001b[43mx\u001b[49m\u001b[43m,\u001b[49m\u001b[43m \u001b[49m\u001b[43mmemo\u001b[49m\u001b[43m)\u001b[49m\n\u001b[1;32m    147\u001b[0m \u001b[38;5;28;01melse\u001b[39;00m:\n",
      "File \u001b[0;32m/Mounts/rbg-storage1/users/itamarc/miniconda3/envs/fbapy38/lib/python3.8/copy.py:230\u001b[0m, in \u001b[0;36m_deepcopy_dict\u001b[0;34m(x, memo, deepcopy)\u001b[0m\n\u001b[1;32m    229\u001b[0m \u001b[38;5;28;01mfor\u001b[39;00m key, value \u001b[38;5;129;01min\u001b[39;00m x\u001b[38;5;241m.\u001b[39mitems():\n\u001b[0;32m--> 230\u001b[0m     y[deepcopy(key, memo)] \u001b[38;5;241m=\u001b[39m \u001b[43mdeepcopy\u001b[49m\u001b[43m(\u001b[49m\u001b[43mvalue\u001b[49m\u001b[43m,\u001b[49m\u001b[43m \u001b[49m\u001b[43mmemo\u001b[49m\u001b[43m)\u001b[49m\n\u001b[1;32m    231\u001b[0m \u001b[38;5;28;01mreturn\u001b[39;00m y\n",
      "File \u001b[0;32m/Mounts/rbg-storage1/users/itamarc/miniconda3/envs/fbapy38/lib/python3.8/copy.py:161\u001b[0m, in \u001b[0;36mdeepcopy\u001b[0;34m(x, memo, _nil)\u001b[0m\n\u001b[1;32m    160\u001b[0m \u001b[38;5;28;01mif\u001b[39;00m reductor \u001b[38;5;129;01mis\u001b[39;00m \u001b[38;5;129;01mnot\u001b[39;00m \u001b[38;5;28;01mNone\u001b[39;00m:\n\u001b[0;32m--> 161\u001b[0m     rv \u001b[38;5;241m=\u001b[39m \u001b[43mreductor\u001b[49m\u001b[43m(\u001b[49m\u001b[38;5;241;43m4\u001b[39;49m\u001b[43m)\u001b[49m\n\u001b[1;32m    162\u001b[0m \u001b[38;5;28;01melse\u001b[39;00m:\n",
      "File \u001b[0;32m/Mounts/rbg-storage1/users/itamarc/miniconda3/envs/fbapy38/lib/python3.8/collections/__init__.py:427\u001b[0m, in \u001b[0;36mnamedtuple.<locals>.__getnewargs__\u001b[0;34m(self)\u001b[0m\n\u001b[1;32m    425\u001b[0m     \u001b[38;5;28;01mreturn\u001b[39;00m _dict(_zip(\u001b[38;5;28mself\u001b[39m\u001b[38;5;241m.\u001b[39m_fields, \u001b[38;5;28mself\u001b[39m))\n\u001b[0;32m--> 427\u001b[0m \u001b[38;5;28;01mdef\u001b[39;00m \u001b[38;5;21m__getnewargs__\u001b[39m(\u001b[38;5;28mself\u001b[39m):\n\u001b[1;32m    428\u001b[0m     \u001b[38;5;124m'\u001b[39m\u001b[38;5;124mReturn self as a plain tuple.  Used by copy and pickle.\u001b[39m\u001b[38;5;124m'\u001b[39m\n",
      "\u001b[0;31mKeyboardInterrupt\u001b[0m: ",
      "\nDuring handling of the above exception, another exception occurred:\n",
      "\u001b[0;31mKeyError\u001b[0m                                  Traceback (most recent call last)",
      "File \u001b[0;32m/Mounts/rbg-storage1/users/itamarc/miniconda3/envs/fbapy38/lib/python3.8/site-packages/executing/executing.py:317\u001b[0m, in \u001b[0;36mSource.executing\u001b[0;34m(cls, frame_or_tb)\u001b[0m\n\u001b[1;32m    316\u001b[0m \u001b[38;5;28;01mtry\u001b[39;00m:\n\u001b[0;32m--> 317\u001b[0m     args \u001b[38;5;241m=\u001b[39m \u001b[43mexecuting_cache\u001b[49m\u001b[43m[\u001b[49m\u001b[43mkey\u001b[49m\u001b[43m]\u001b[49m\n\u001b[1;32m    318\u001b[0m \u001b[38;5;28;01mexcept\u001b[39;00m \u001b[38;5;167;01mKeyError\u001b[39;00m:\n",
      "\u001b[0;31mKeyError\u001b[0m: (<code object from_string at 0x7fbfa5cbb450, file \"/Mounts/rbg-storage1/users/itamarc/miniconda3/envs/fbapy38/lib/python3.8/site-packages/cobra/core/gene.py\", line 311>, 140461097071696, 416)",
      "\nDuring handling of the above exception, another exception occurred:\n",
      "\u001b[0;31mKeyboardInterrupt\u001b[0m                         Traceback (most recent call last)",
      "File \u001b[0;32m/Mounts/rbg-storage1/users/itamarc/miniconda3/envs/fbapy38/lib/python3.8/site-packages/IPython/core/interactiveshell.py:1992\u001b[0m, in \u001b[0;36mInteractiveShell.showtraceback\u001b[0;34m(self, exc_tuple, filename, tb_offset, exception_only, running_compiled_code)\u001b[0m\n\u001b[1;32m   1991\u001b[0m     \u001b[38;5;28;01melse\u001b[39;00m:\n\u001b[0;32m-> 1992\u001b[0m         stb \u001b[38;5;241m=\u001b[39m \u001b[38;5;28;43mself\u001b[39;49m\u001b[38;5;241;43m.\u001b[39;49m\u001b[43mInteractiveTB\u001b[49m\u001b[38;5;241;43m.\u001b[39;49m\u001b[43mstructured_traceback\u001b[49m\u001b[43m(\u001b[49m\n\u001b[1;32m   1993\u001b[0m \u001b[43m            \u001b[49m\u001b[43metype\u001b[49m\u001b[43m,\u001b[49m\u001b[43m \u001b[49m\u001b[43mvalue\u001b[49m\u001b[43m,\u001b[49m\u001b[43m \u001b[49m\u001b[43mtb\u001b[49m\u001b[43m,\u001b[49m\u001b[43m \u001b[49m\u001b[43mtb_offset\u001b[49m\u001b[38;5;241;43m=\u001b[39;49m\u001b[43mtb_offset\u001b[49m\n\u001b[1;32m   1994\u001b[0m \u001b[43m        \u001b[49m\u001b[43m)\u001b[49m\n\u001b[1;32m   1996\u001b[0m \u001b[38;5;28;01mexcept\u001b[39;00m \u001b[38;5;167;01mException\u001b[39;00m:\n",
      "File \u001b[0;32m/Mounts/rbg-storage1/users/itamarc/miniconda3/envs/fbapy38/lib/python3.8/site-packages/IPython/core/ultratb.py:1118\u001b[0m, in \u001b[0;36mAutoFormattedTB.structured_traceback\u001b[0;34m(self, etype, value, tb, tb_offset, number_of_lines_of_context)\u001b[0m\n\u001b[1;32m   1117\u001b[0m     \u001b[38;5;28mself\u001b[39m\u001b[38;5;241m.\u001b[39mtb \u001b[38;5;241m=\u001b[39m tb\n\u001b[0;32m-> 1118\u001b[0m \u001b[38;5;28;01mreturn\u001b[39;00m \u001b[43mFormattedTB\u001b[49m\u001b[38;5;241;43m.\u001b[39;49m\u001b[43mstructured_traceback\u001b[49m\u001b[43m(\u001b[49m\n\u001b[1;32m   1119\u001b[0m \u001b[43m    \u001b[49m\u001b[38;5;28;43mself\u001b[39;49m\u001b[43m,\u001b[49m\u001b[43m \u001b[49m\u001b[43metype\u001b[49m\u001b[43m,\u001b[49m\u001b[43m \u001b[49m\u001b[43mvalue\u001b[49m\u001b[43m,\u001b[49m\u001b[43m \u001b[49m\u001b[43mtb\u001b[49m\u001b[43m,\u001b[49m\u001b[43m \u001b[49m\u001b[43mtb_offset\u001b[49m\u001b[43m,\u001b[49m\u001b[43m \u001b[49m\u001b[43mnumber_of_lines_of_context\u001b[49m\u001b[43m)\u001b[49m\n",
      "File \u001b[0;32m/Mounts/rbg-storage1/users/itamarc/miniconda3/envs/fbapy38/lib/python3.8/site-packages/IPython/core/ultratb.py:1012\u001b[0m, in \u001b[0;36mFormattedTB.structured_traceback\u001b[0;34m(self, etype, value, tb, tb_offset, number_of_lines_of_context)\u001b[0m\n\u001b[1;32m   1010\u001b[0m \u001b[38;5;28;01mif\u001b[39;00m mode \u001b[38;5;129;01min\u001b[39;00m \u001b[38;5;28mself\u001b[39m\u001b[38;5;241m.\u001b[39mverbose_modes:\n\u001b[1;32m   1011\u001b[0m     \u001b[38;5;66;03m# Verbose modes need a full traceback\u001b[39;00m\n\u001b[0;32m-> 1012\u001b[0m     \u001b[38;5;28;01mreturn\u001b[39;00m \u001b[43mVerboseTB\u001b[49m\u001b[38;5;241;43m.\u001b[39;49m\u001b[43mstructured_traceback\u001b[49m\u001b[43m(\u001b[49m\n\u001b[1;32m   1013\u001b[0m \u001b[43m        \u001b[49m\u001b[38;5;28;43mself\u001b[39;49m\u001b[43m,\u001b[49m\u001b[43m \u001b[49m\u001b[43metype\u001b[49m\u001b[43m,\u001b[49m\u001b[43m \u001b[49m\u001b[43mvalue\u001b[49m\u001b[43m,\u001b[49m\u001b[43m \u001b[49m\u001b[43mtb\u001b[49m\u001b[43m,\u001b[49m\u001b[43m \u001b[49m\u001b[43mtb_offset\u001b[49m\u001b[43m,\u001b[49m\u001b[43m \u001b[49m\u001b[43mnumber_of_lines_of_context\u001b[49m\n\u001b[1;32m   1014\u001b[0m \u001b[43m    \u001b[49m\u001b[43m)\u001b[49m\n\u001b[1;32m   1015\u001b[0m \u001b[38;5;28;01melif\u001b[39;00m mode \u001b[38;5;241m==\u001b[39m \u001b[38;5;124m'\u001b[39m\u001b[38;5;124mMinimal\u001b[39m\u001b[38;5;124m'\u001b[39m:\n",
      "File \u001b[0;32m/Mounts/rbg-storage1/users/itamarc/miniconda3/envs/fbapy38/lib/python3.8/site-packages/IPython/core/ultratb.py:865\u001b[0m, in \u001b[0;36mVerboseTB.structured_traceback\u001b[0;34m(self, etype, evalue, etb, tb_offset, number_of_lines_of_context)\u001b[0m\n\u001b[1;32m    864\u001b[0m \u001b[38;5;124;03m\"\"\"Return a nice text document describing the traceback.\"\"\"\u001b[39;00m\n\u001b[0;32m--> 865\u001b[0m formatted_exception \u001b[38;5;241m=\u001b[39m \u001b[38;5;28;43mself\u001b[39;49m\u001b[38;5;241;43m.\u001b[39;49m\u001b[43mformat_exception_as_a_whole\u001b[49m\u001b[43m(\u001b[49m\u001b[43metype\u001b[49m\u001b[43m,\u001b[49m\u001b[43m \u001b[49m\u001b[43mevalue\u001b[49m\u001b[43m,\u001b[49m\u001b[43m \u001b[49m\u001b[43metb\u001b[49m\u001b[43m,\u001b[49m\u001b[43m \u001b[49m\u001b[43mnumber_of_lines_of_context\u001b[49m\u001b[43m,\u001b[49m\n\u001b[1;32m    866\u001b[0m \u001b[43m                                                       \u001b[49m\u001b[43mtb_offset\u001b[49m\u001b[43m)\u001b[49m\n\u001b[1;32m    868\u001b[0m colors \u001b[38;5;241m=\u001b[39m \u001b[38;5;28mself\u001b[39m\u001b[38;5;241m.\u001b[39mColors  \u001b[38;5;66;03m# just a shorthand + quicker name lookup\u001b[39;00m\n",
      "File \u001b[0;32m/Mounts/rbg-storage1/users/itamarc/miniconda3/envs/fbapy38/lib/python3.8/site-packages/IPython/core/ultratb.py:799\u001b[0m, in \u001b[0;36mVerboseTB.format_exception_as_a_whole\u001b[0;34m(self, etype, evalue, etb, number_of_lines_of_context, tb_offset)\u001b[0m\n\u001b[1;32m    797\u001b[0m head \u001b[38;5;241m=\u001b[39m \u001b[38;5;28mself\u001b[39m\u001b[38;5;241m.\u001b[39mprepare_header(etype, \u001b[38;5;28mself\u001b[39m\u001b[38;5;241m.\u001b[39mlong_header)\n\u001b[1;32m    798\u001b[0m records \u001b[38;5;241m=\u001b[39m (\n\u001b[0;32m--> 799\u001b[0m     \u001b[38;5;28;43mself\u001b[39;49m\u001b[38;5;241;43m.\u001b[39;49m\u001b[43mget_records\u001b[49m\u001b[43m(\u001b[49m\u001b[43metb\u001b[49m\u001b[43m,\u001b[49m\u001b[43m \u001b[49m\u001b[43mnumber_of_lines_of_context\u001b[49m\u001b[43m,\u001b[49m\u001b[43m \u001b[49m\u001b[43mtb_offset\u001b[49m\u001b[43m)\u001b[49m \u001b[38;5;28;01mif\u001b[39;00m etb \u001b[38;5;28;01melse\u001b[39;00m []\n\u001b[1;32m    800\u001b[0m )\n\u001b[1;32m    802\u001b[0m frames \u001b[38;5;241m=\u001b[39m []\n",
      "File \u001b[0;32m/Mounts/rbg-storage1/users/itamarc/miniconda3/envs/fbapy38/lib/python3.8/site-packages/IPython/core/ultratb.py:854\u001b[0m, in \u001b[0;36mVerboseTB.get_records\u001b[0;34m(self, etb, number_of_lines_of_context, tb_offset)\u001b[0m\n\u001b[1;32m    849\u001b[0m options \u001b[38;5;241m=\u001b[39m stack_data\u001b[38;5;241m.\u001b[39mOptions(\n\u001b[1;32m    850\u001b[0m     before\u001b[38;5;241m=\u001b[39mbefore,\n\u001b[1;32m    851\u001b[0m     after\u001b[38;5;241m=\u001b[39mafter,\n\u001b[1;32m    852\u001b[0m     pygments_formatter\u001b[38;5;241m=\u001b[39mformatter,\n\u001b[1;32m    853\u001b[0m )\n\u001b[0;32m--> 854\u001b[0m \u001b[38;5;28;01mreturn\u001b[39;00m \u001b[38;5;28;43mlist\u001b[39;49m\u001b[43m(\u001b[49m\u001b[43mstack_data\u001b[49m\u001b[38;5;241;43m.\u001b[39;49m\u001b[43mFrameInfo\u001b[49m\u001b[38;5;241;43m.\u001b[39;49m\u001b[43mstack_data\u001b[49m\u001b[43m(\u001b[49m\u001b[43metb\u001b[49m\u001b[43m,\u001b[49m\u001b[43m \u001b[49m\u001b[43moptions\u001b[49m\u001b[38;5;241;43m=\u001b[39;49m\u001b[43moptions\u001b[49m\u001b[43m)\u001b[49m\u001b[43m)\u001b[49m[tb_offset:]\n",
      "File \u001b[0;32m/Mounts/rbg-storage1/users/itamarc/miniconda3/envs/fbapy38/lib/python3.8/site-packages/stack_data/core.py:565\u001b[0m, in \u001b[0;36mFrameInfo.stack_data\u001b[0;34m(cls, frame_or_tb, options, collapse_repeated_frames)\u001b[0m\n\u001b[1;32m    563\u001b[0m     \u001b[38;5;28;01mreturn\u001b[39;00m frame\u001b[38;5;241m.\u001b[39mf_code, lineno\n\u001b[0;32m--> 565\u001b[0m \u001b[38;5;28;01myield from\u001b[39;00m collapse_repeated(\n\u001b[1;32m    566\u001b[0m     stack,\n\u001b[1;32m    567\u001b[0m     mapper\u001b[38;5;241m=\u001b[39mmapper,\n\u001b[1;32m    568\u001b[0m     collapser\u001b[38;5;241m=\u001b[39mRepeatedFrames,\n\u001b[1;32m    569\u001b[0m     key\u001b[38;5;241m=\u001b[39m_frame_key,\n\u001b[1;32m    570\u001b[0m )\n",
      "File \u001b[0;32m/Mounts/rbg-storage1/users/itamarc/miniconda3/envs/fbapy38/lib/python3.8/site-packages/stack_data/utils.py:84\u001b[0m, in \u001b[0;36mcollapse_repeated\u001b[0;34m(lst, collapser, mapper, key)\u001b[0m\n\u001b[1;32m     83\u001b[0m \u001b[38;5;28;01mif\u001b[39;00m is_highlighted:\n\u001b[0;32m---> 84\u001b[0m     \u001b[38;5;28;01myield from\u001b[39;00m \u001b[38;5;28mmap\u001b[39m(mapper, original_group)\n\u001b[1;32m     85\u001b[0m \u001b[38;5;28;01melse\u001b[39;00m:\n",
      "File \u001b[0;32m/Mounts/rbg-storage1/users/itamarc/miniconda3/envs/fbapy38/lib/python3.8/site-packages/stack_data/core.py:555\u001b[0m, in \u001b[0;36mFrameInfo.stack_data.<locals>.mapper\u001b[0;34m(f)\u001b[0m\n\u001b[1;32m    554\u001b[0m \u001b[38;5;28;01mdef\u001b[39;00m \u001b[38;5;21mmapper\u001b[39m(f):\n\u001b[0;32m--> 555\u001b[0m     \u001b[38;5;28;01mreturn\u001b[39;00m \u001b[38;5;28;43mcls\u001b[39;49m\u001b[43m(\u001b[49m\u001b[43mf\u001b[49m\u001b[43m,\u001b[49m\u001b[43m \u001b[49m\u001b[43moptions\u001b[49m\u001b[43m)\u001b[49m\n",
      "File \u001b[0;32m/Mounts/rbg-storage1/users/itamarc/miniconda3/envs/fbapy38/lib/python3.8/site-packages/stack_data/core.py:520\u001b[0m, in \u001b[0;36mFrameInfo.__init__\u001b[0;34m(self, frame_or_tb, options)\u001b[0m\n\u001b[1;32m    515\u001b[0m \u001b[38;5;28;01mdef\u001b[39;00m \u001b[38;5;21m__init__\u001b[39m(\n\u001b[1;32m    516\u001b[0m         \u001b[38;5;28mself\u001b[39m,\n\u001b[1;32m    517\u001b[0m         frame_or_tb: Union[FrameType, TracebackType],\n\u001b[1;32m    518\u001b[0m         options: Optional[Options] \u001b[38;5;241m=\u001b[39m \u001b[38;5;28;01mNone\u001b[39;00m,\n\u001b[1;32m    519\u001b[0m ):\n\u001b[0;32m--> 520\u001b[0m     \u001b[38;5;28mself\u001b[39m\u001b[38;5;241m.\u001b[39mexecuting \u001b[38;5;241m=\u001b[39m \u001b[43mSource\u001b[49m\u001b[38;5;241;43m.\u001b[39;49m\u001b[43mexecuting\u001b[49m\u001b[43m(\u001b[49m\u001b[43mframe_or_tb\u001b[49m\u001b[43m)\u001b[49m\n\u001b[1;32m    521\u001b[0m     frame, \u001b[38;5;28mself\u001b[39m\u001b[38;5;241m.\u001b[39mlineno \u001b[38;5;241m=\u001b[39m frame_and_lineno(frame_or_tb)\n",
      "File \u001b[0;32m/Mounts/rbg-storage1/users/itamarc/miniconda3/envs/fbapy38/lib/python3.8/site-packages/executing/executing.py:369\u001b[0m, in \u001b[0;36mSource.executing\u001b[0;34m(cls, frame_or_tb)\u001b[0m\n\u001b[1;32m    367\u001b[0m     \u001b[38;5;28;01mreturn\u001b[39;00m source, node, stmts, decorator\n\u001b[0;32m--> 369\u001b[0m args \u001b[38;5;241m=\u001b[39m find(source\u001b[38;5;241m=\u001b[39m\u001b[38;5;28;43mcls\u001b[39;49m\u001b[38;5;241;43m.\u001b[39;49m\u001b[43mfor_frame\u001b[49m\u001b[43m(\u001b[49m\u001b[43mframe\u001b[49m\u001b[43m)\u001b[49m, retry_cache\u001b[38;5;241m=\u001b[39m\u001b[38;5;28;01mTrue\u001b[39;00m)\n\u001b[1;32m    370\u001b[0m executing_cache[key] \u001b[38;5;241m=\u001b[39m args\n",
      "File \u001b[0;32m/Mounts/rbg-storage1/users/itamarc/miniconda3/envs/fbapy38/lib/python3.8/site-packages/executing/executing.py:252\u001b[0m, in \u001b[0;36mSource.for_frame\u001b[0;34m(cls, frame, use_cache)\u001b[0m\n\u001b[1;32m    249\u001b[0m \u001b[38;5;124;03m\"\"\"\u001b[39;00m\n\u001b[1;32m    250\u001b[0m \u001b[38;5;124;03mReturns the `Source` object corresponding to the file the frame is executing in.\u001b[39;00m\n\u001b[1;32m    251\u001b[0m \u001b[38;5;124;03m\"\"\"\u001b[39;00m\n\u001b[0;32m--> 252\u001b[0m \u001b[38;5;28;01mreturn\u001b[39;00m \u001b[38;5;28;43mcls\u001b[39;49m\u001b[38;5;241;43m.\u001b[39;49m\u001b[43mfor_filename\u001b[49m\u001b[43m(\u001b[49m\u001b[43mframe\u001b[49m\u001b[38;5;241;43m.\u001b[39;49m\u001b[43mf_code\u001b[49m\u001b[38;5;241;43m.\u001b[39;49m\u001b[43mco_filename\u001b[49m\u001b[43m,\u001b[49m\u001b[43m \u001b[49m\u001b[43mframe\u001b[49m\u001b[38;5;241;43m.\u001b[39;49m\u001b[43mf_globals\u001b[49m\u001b[43m \u001b[49m\u001b[38;5;129;43;01mor\u001b[39;49;00m\u001b[43m \u001b[49m\u001b[43m{\u001b[49m\u001b[43m}\u001b[49m\u001b[43m,\u001b[49m\u001b[43m \u001b[49m\u001b[43muse_cache\u001b[49m\u001b[43m)\u001b[49m\n",
      "File \u001b[0;32m/Mounts/rbg-storage1/users/itamarc/miniconda3/envs/fbapy38/lib/python3.8/site-packages/executing/executing.py:270\u001b[0m, in \u001b[0;36mSource.for_filename\u001b[0;34m(cls, filename, module_globals, use_cache)\u001b[0m\n\u001b[1;32m    269\u001b[0m lines \u001b[38;5;241m=\u001b[39m \u001b[38;5;28mtuple\u001b[39m(linecache\u001b[38;5;241m.\u001b[39mgetlines(filename, module_globals))\n\u001b[0;32m--> 270\u001b[0m result \u001b[38;5;241m=\u001b[39m source_cache[filename] \u001b[38;5;241m=\u001b[39m \u001b[38;5;28;43mcls\u001b[39;49m\u001b[38;5;241;43m.\u001b[39;49m\u001b[43m_for_filename_and_lines\u001b[49m\u001b[43m(\u001b[49m\u001b[43mfilename\u001b[49m\u001b[43m,\u001b[49m\u001b[43m \u001b[49m\u001b[43mlines\u001b[49m\u001b[43m)\u001b[49m\n\u001b[1;32m    271\u001b[0m \u001b[38;5;28;01mreturn\u001b[39;00m result\n",
      "File \u001b[0;32m/Mounts/rbg-storage1/users/itamarc/miniconda3/envs/fbapy38/lib/python3.8/site-packages/executing/executing.py:281\u001b[0m, in \u001b[0;36mSource._for_filename_and_lines\u001b[0;34m(cls, filename, lines)\u001b[0m\n\u001b[1;32m    279\u001b[0m     \u001b[38;5;28;01mpass\u001b[39;00m\n\u001b[0;32m--> 281\u001b[0m result \u001b[38;5;241m=\u001b[39m source_cache[(filename, lines)] \u001b[38;5;241m=\u001b[39m \u001b[38;5;28;43mcls\u001b[39;49m\u001b[43m(\u001b[49m\u001b[43mfilename\u001b[49m\u001b[43m,\u001b[49m\u001b[43m \u001b[49m\u001b[43mlines\u001b[49m\u001b[43m)\u001b[49m\n\u001b[1;32m    282\u001b[0m \u001b[38;5;28;01mreturn\u001b[39;00m result\n",
      "File \u001b[0;32m/Mounts/rbg-storage1/users/itamarc/miniconda3/envs/fbapy38/lib/python3.8/site-packages/stack_data/core.py:81\u001b[0m, in \u001b[0;36mSource.__init__\u001b[0;34m(self, *args, **kwargs)\u001b[0m\n\u001b[1;32m     80\u001b[0m \u001b[38;5;28;01mif\u001b[39;00m \u001b[38;5;28mself\u001b[39m\u001b[38;5;241m.\u001b[39mtree:\n\u001b[0;32m---> 81\u001b[0m     \u001b[38;5;28;43mself\u001b[39;49m\u001b[38;5;241;43m.\u001b[39;49m\u001b[43masttokens\u001b[49m\u001b[43m(\u001b[49m\u001b[43m)\u001b[49m\n",
      "File \u001b[0;32m/Mounts/rbg-storage1/users/itamarc/miniconda3/envs/fbapy38/lib/python3.8/site-packages/executing/executing.py:413\u001b[0m, in \u001b[0;36mSource.asttokens\u001b[0;34m(self)\u001b[0m\n\u001b[1;32m    412\u001b[0m \u001b[38;5;28;01mfrom\u001b[39;00m \u001b[38;5;21;01masttokens\u001b[39;00m \u001b[38;5;28;01mimport\u001b[39;00m ASTTokens  \u001b[38;5;66;03m# must be installed separately\u001b[39;00m\n\u001b[0;32m--> 413\u001b[0m \u001b[38;5;28;01mreturn\u001b[39;00m \u001b[43mASTTokens\u001b[49m\u001b[43m(\u001b[49m\n\u001b[1;32m    414\u001b[0m \u001b[43m    \u001b[49m\u001b[38;5;28;43mself\u001b[39;49m\u001b[38;5;241;43m.\u001b[39;49m\u001b[43mtext\u001b[49m\u001b[43m,\u001b[49m\n\u001b[1;32m    415\u001b[0m \u001b[43m    \u001b[49m\u001b[43mtree\u001b[49m\u001b[38;5;241;43m=\u001b[39;49m\u001b[38;5;28;43mself\u001b[39;49m\u001b[38;5;241;43m.\u001b[39;49m\u001b[43mtree\u001b[49m\u001b[43m,\u001b[49m\n\u001b[1;32m    416\u001b[0m \u001b[43m    \u001b[49m\u001b[43mfilename\u001b[49m\u001b[38;5;241;43m=\u001b[39;49m\u001b[38;5;28;43mself\u001b[39;49m\u001b[38;5;241;43m.\u001b[39;49m\u001b[43mfilename\u001b[49m\u001b[43m,\u001b[49m\n\u001b[1;32m    417\u001b[0m \u001b[43m\u001b[49m\u001b[43m)\u001b[49m\n",
      "File \u001b[0;32m/Mounts/rbg-storage1/users/itamarc/miniconda3/envs/fbapy38/lib/python3.8/site-packages/asttokens/asttokens.py:65\u001b[0m, in \u001b[0;36mASTTokens.__init__\u001b[0;34m(self, source_text, parse, tree, filename)\u001b[0m\n\u001b[1;32m     64\u001b[0m \u001b[38;5;28;01mif\u001b[39;00m \u001b[38;5;28mself\u001b[39m\u001b[38;5;241m.\u001b[39m_tree:\n\u001b[0;32m---> 65\u001b[0m   \u001b[38;5;28;43mself\u001b[39;49m\u001b[38;5;241;43m.\u001b[39;49m\u001b[43mmark_tokens\u001b[49m\u001b[43m(\u001b[49m\u001b[38;5;28;43mself\u001b[39;49m\u001b[38;5;241;43m.\u001b[39;49m\u001b[43m_tree\u001b[49m\u001b[43m)\u001b[49m\n",
      "File \u001b[0;32m/Mounts/rbg-storage1/users/itamarc/miniconda3/envs/fbapy38/lib/python3.8/site-packages/asttokens/asttokens.py:76\u001b[0m, in \u001b[0;36mASTTokens.mark_tokens\u001b[0;34m(self, root_node)\u001b[0m\n\u001b[1;32m     75\u001b[0m \u001b[38;5;66;03m# The hard work of this class is done by MarkTokens\u001b[39;00m\n\u001b[0;32m---> 76\u001b[0m \u001b[43mMarkTokens\u001b[49m\u001b[43m(\u001b[49m\u001b[38;5;28;43mself\u001b[39;49m\u001b[43m)\u001b[49m\u001b[38;5;241;43m.\u001b[39;49m\u001b[43mvisit_tree\u001b[49m\u001b[43m(\u001b[49m\u001b[43mroot_node\u001b[49m\u001b[43m)\u001b[49m\n",
      "File \u001b[0;32m/Mounts/rbg-storage1/users/itamarc/miniconda3/envs/fbapy38/lib/python3.8/site-packages/asttokens/mark_tokens.py:49\u001b[0m, in \u001b[0;36mMarkTokens.visit_tree\u001b[0;34m(self, node)\u001b[0m\n\u001b[1;32m     48\u001b[0m \u001b[38;5;28mself\u001b[39m\u001b[38;5;241m.\u001b[39m_iter_children \u001b[38;5;241m=\u001b[39m util\u001b[38;5;241m.\u001b[39miter_children_func(node)\n\u001b[0;32m---> 49\u001b[0m \u001b[43mutil\u001b[49m\u001b[38;5;241;43m.\u001b[39;49m\u001b[43mvisit_tree\u001b[49m\u001b[43m(\u001b[49m\u001b[43mnode\u001b[49m\u001b[43m,\u001b[49m\u001b[43m \u001b[49m\u001b[38;5;28;43mself\u001b[39;49m\u001b[38;5;241;43m.\u001b[39;49m\u001b[43m_visit_before_children\u001b[49m\u001b[43m,\u001b[49m\u001b[43m \u001b[49m\u001b[38;5;28;43mself\u001b[39;49m\u001b[38;5;241;43m.\u001b[39;49m\u001b[43m_visit_after_children\u001b[49m\u001b[43m)\u001b[49m\n",
      "File \u001b[0;32m/Mounts/rbg-storage1/users/itamarc/miniconda3/envs/fbapy38/lib/python3.8/site-packages/asttokens/util.py:204\u001b[0m, in \u001b[0;36mvisit_tree\u001b[0;34m(node, previsit, postvisit)\u001b[0m\n\u001b[1;32m    203\u001b[0m   \u001b[38;5;28;01melse\u001b[39;00m:\n\u001b[0;32m--> 204\u001b[0m     ret \u001b[38;5;241m=\u001b[39m \u001b[43mpostvisit\u001b[49m\u001b[43m(\u001b[49m\u001b[43mcurrent\u001b[49m\u001b[43m,\u001b[49m\u001b[43m \u001b[49m\u001b[43mpar_value\u001b[49m\u001b[43m,\u001b[49m\u001b[43m \u001b[49m\u001b[43mvalue\u001b[49m\u001b[43m)\u001b[49m\n\u001b[1;32m    205\u001b[0m \u001b[38;5;28;01mreturn\u001b[39;00m ret\n",
      "File \u001b[0;32m/Mounts/rbg-storage1/users/itamarc/miniconda3/envs/fbapy38/lib/python3.8/site-packages/asttokens/mark_tokens.py:89\u001b[0m, in \u001b[0;36mMarkTokens._visit_after_children\u001b[0;34m(self, node, parent_token, token)\u001b[0m\n\u001b[1;32m     88\u001b[0m \u001b[38;5;66;03m# Capture any unmatched brackets.\u001b[39;00m\n\u001b[0;32m---> 89\u001b[0m first, last \u001b[38;5;241m=\u001b[39m \u001b[38;5;28;43mself\u001b[39;49m\u001b[38;5;241;43m.\u001b[39;49m\u001b[43m_expand_to_matching_pairs\u001b[49m\u001b[43m(\u001b[49m\u001b[43mfirst\u001b[49m\u001b[43m,\u001b[49m\u001b[43m \u001b[49m\u001b[43mlast\u001b[49m\u001b[43m,\u001b[49m\u001b[43m \u001b[49m\u001b[43mnode\u001b[49m\u001b[43m)\u001b[49m\n\u001b[1;32m     91\u001b[0m \u001b[38;5;66;03m# Give a chance to node-specific methods to adjust.\u001b[39;00m\n",
      "File \u001b[0;32m/Mounts/rbg-storage1/users/itamarc/miniconda3/envs/fbapy38/lib/python3.8/site-packages/asttokens/mark_tokens.py:120\u001b[0m, in \u001b[0;36mMarkTokens._expand_to_matching_pairs\u001b[0;34m(self, first_token, last_token, node)\u001b[0m\n\u001b[1;32m    119\u001b[0m tok_info \u001b[38;5;241m=\u001b[39m tok[:\u001b[38;5;241m2\u001b[39m]\n\u001b[0;32m--> 120\u001b[0m \u001b[38;5;28;01mif\u001b[39;00m to_match_right \u001b[38;5;129;01mand\u001b[39;00m tok_info \u001b[38;5;241m==\u001b[39m to_match_right[\u001b[38;5;241m-\u001b[39m\u001b[38;5;241m1\u001b[39m]:\n\u001b[1;32m    121\u001b[0m   to_match_right\u001b[38;5;241m.\u001b[39mpop()\n",
      "\u001b[0;31mKeyboardInterrupt\u001b[0m: ",
      "\nDuring handling of the above exception, another exception occurred:\n",
      "\u001b[0;31mKeyboardInterrupt\u001b[0m                         Traceback (most recent call last)",
      "    \u001b[0;31m[... skipping hidden 1 frame]\u001b[0m\n",
      "File \u001b[0;32m/Mounts/rbg-storage1/users/itamarc/miniconda3/envs/fbapy38/lib/python3.8/site-packages/IPython/core/interactiveshell.py:2013\u001b[0m, in \u001b[0;36mInteractiveShell.showtraceback\u001b[0;34m(self, exc_tuple, filename, tb_offset, exception_only, running_compiled_code)\u001b[0m\n\u001b[1;32m   2010\u001b[0m         \u001b[38;5;28mself\u001b[39m\u001b[38;5;241m.\u001b[39m_showtraceback(etype, value, stb)\n\u001b[1;32m   2012\u001b[0m \u001b[38;5;28;01mexcept\u001b[39;00m \u001b[38;5;167;01mKeyboardInterrupt\u001b[39;00m:\n\u001b[0;32m-> 2013\u001b[0m     \u001b[38;5;28mprint\u001b[39m(\u001b[38;5;124m'\u001b[39m\u001b[38;5;130;01m\\n\u001b[39;00m\u001b[38;5;124m'\u001b[39m \u001b[38;5;241m+\u001b[39m \u001b[38;5;28;43mself\u001b[39;49m\u001b[38;5;241;43m.\u001b[39;49m\u001b[43mget_exception_only\u001b[49m\u001b[43m(\u001b[49m\u001b[43m)\u001b[49m, file\u001b[38;5;241m=\u001b[39msys\u001b[38;5;241m.\u001b[39mstderr)\n",
      "File \u001b[0;32m/Mounts/rbg-storage1/users/itamarc/miniconda3/envs/fbapy38/lib/python3.8/site-packages/IPython/core/interactiveshell.py:1949\u001b[0m, in \u001b[0;36mInteractiveShell.get_exception_only\u001b[0;34m(self, exc_tuple)\u001b[0m\n\u001b[1;32m   1944\u001b[0m \u001b[38;5;124;03m\"\"\"\u001b[39;00m\n\u001b[1;32m   1945\u001b[0m \u001b[38;5;124;03mReturn as a string (ending with a newline) the exception that\u001b[39;00m\n\u001b[1;32m   1946\u001b[0m \u001b[38;5;124;03mjust occurred, without any traceback.\u001b[39;00m\n\u001b[1;32m   1947\u001b[0m \u001b[38;5;124;03m\"\"\"\u001b[39;00m\n\u001b[1;32m   1948\u001b[0m etype, value, tb \u001b[38;5;241m=\u001b[39m \u001b[38;5;28mself\u001b[39m\u001b[38;5;241m.\u001b[39m_get_exc_info(exc_tuple)\n\u001b[0;32m-> 1949\u001b[0m msg \u001b[38;5;241m=\u001b[39m \u001b[43mtraceback\u001b[49m\u001b[38;5;241;43m.\u001b[39;49m\u001b[43mformat_exception_only\u001b[49m\u001b[43m(\u001b[49m\u001b[43metype\u001b[49m\u001b[43m,\u001b[49m\u001b[43m \u001b[49m\u001b[43mvalue\u001b[49m\u001b[43m)\u001b[49m\n\u001b[1;32m   1950\u001b[0m \u001b[38;5;28;01mreturn\u001b[39;00m \u001b[38;5;124m'\u001b[39m\u001b[38;5;124m'\u001b[39m\u001b[38;5;241m.\u001b[39mjoin(msg)\n",
      "File \u001b[0;32m/Mounts/rbg-storage1/users/itamarc/miniconda3/envs/fbapy38/lib/python3.8/traceback.py:140\u001b[0m, in \u001b[0;36mformat_exception_only\u001b[0;34m(etype, value)\u001b[0m\n\u001b[1;32m    124\u001b[0m \u001b[38;5;28;01mdef\u001b[39;00m \u001b[38;5;21mformat_exception_only\u001b[39m(etype, value):\n\u001b[1;32m    125\u001b[0m     \u001b[38;5;124;03m\"\"\"Format the exception part of a traceback.\u001b[39;00m\n\u001b[1;32m    126\u001b[0m \n\u001b[1;32m    127\u001b[0m \u001b[38;5;124;03m    The arguments are the exception type and value such as given by\u001b[39;00m\n\u001b[0;32m   (...)\u001b[0m\n\u001b[1;32m    138\u001b[0m \n\u001b[1;32m    139\u001b[0m \u001b[38;5;124;03m    \"\"\"\u001b[39;00m\n\u001b[0;32m--> 140\u001b[0m     \u001b[38;5;28;01mreturn\u001b[39;00m \u001b[38;5;28;43mlist\u001b[39;49m\u001b[43m(\u001b[49m\u001b[43mTracebackException\u001b[49m\u001b[43m(\u001b[49m\u001b[43metype\u001b[49m\u001b[43m,\u001b[49m\u001b[43m \u001b[49m\u001b[43mvalue\u001b[49m\u001b[43m,\u001b[49m\u001b[43m \u001b[49m\u001b[38;5;28;43;01mNone\u001b[39;49;00m\u001b[43m)\u001b[49m\u001b[38;5;241;43m.\u001b[39;49m\u001b[43mformat_exception_only\u001b[49m\u001b[43m(\u001b[49m\u001b[43m)\u001b[49m\u001b[43m)\u001b[49m\n",
      "File \u001b[0;32m/Mounts/rbg-storage1/users/itamarc/miniconda3/envs/fbapy38/lib/python3.8/traceback.py:569\u001b[0m, in \u001b[0;36mTracebackException.format_exception_only\u001b[0;34m(self)\u001b[0m\n\u001b[1;32m    566\u001b[0m     stype \u001b[38;5;241m=\u001b[39m smod \u001b[38;5;241m+\u001b[39m \u001b[38;5;124m'\u001b[39m\u001b[38;5;124m.\u001b[39m\u001b[38;5;124m'\u001b[39m \u001b[38;5;241m+\u001b[39m stype\n\u001b[1;32m    568\u001b[0m \u001b[38;5;28;01mif\u001b[39;00m \u001b[38;5;129;01mnot\u001b[39;00m \u001b[38;5;28missubclass\u001b[39m(\u001b[38;5;28mself\u001b[39m\u001b[38;5;241m.\u001b[39mexc_type, \u001b[38;5;167;01mSyntaxError\u001b[39;00m):\n\u001b[0;32m--> 569\u001b[0m     \u001b[38;5;28;01myield\u001b[39;00m \u001b[43m_format_final_exc_line\u001b[49m\u001b[43m(\u001b[49m\u001b[43mstype\u001b[49m\u001b[43m,\u001b[49m\u001b[43m \u001b[49m\u001b[38;5;28;43mself\u001b[39;49m\u001b[38;5;241;43m.\u001b[39;49m\u001b[43m_str\u001b[49m\u001b[43m)\u001b[49m\n\u001b[1;32m    570\u001b[0m     \u001b[38;5;28;01mreturn\u001b[39;00m\n\u001b[1;32m    572\u001b[0m \u001b[38;5;66;03m# It was a syntax error; show exactly where the problem was found.\u001b[39;00m\n",
      "File \u001b[0;32m/Mounts/rbg-storage1/users/itamarc/miniconda3/envs/fbapy38/lib/python3.8/traceback.py:146\u001b[0m, in \u001b[0;36m_format_final_exc_line\u001b[0;34m(etype, value)\u001b[0m\n\u001b[1;32m    145\u001b[0m \u001b[38;5;28;01mdef\u001b[39;00m \u001b[38;5;21m_format_final_exc_line\u001b[39m(etype, value):\n\u001b[0;32m--> 146\u001b[0m     valuestr \u001b[38;5;241m=\u001b[39m \u001b[43m_some_str\u001b[49m(value)\n\u001b[1;32m    147\u001b[0m     \u001b[38;5;28;01mif\u001b[39;00m value \u001b[38;5;129;01mis\u001b[39;00m \u001b[38;5;28;01mNone\u001b[39;00m \u001b[38;5;129;01mor\u001b[39;00m \u001b[38;5;129;01mnot\u001b[39;00m valuestr:\n\u001b[1;32m    148\u001b[0m         line \u001b[38;5;241m=\u001b[39m \u001b[38;5;124m\"\u001b[39m\u001b[38;5;132;01m%s\u001b[39;00m\u001b[38;5;130;01m\\n\u001b[39;00m\u001b[38;5;124m\"\u001b[39m \u001b[38;5;241m%\u001b[39m etype\n",
      "\u001b[0;31mKeyboardInterrupt\u001b[0m: "
     ]
    }
   ],
   "source": [
    "organism2gene2sequence = {}\n",
    "genes_without_sequence = [] # these in GEMPro\n",
    "genes_with_sequence = []\n",
    "\n",
    "for organism_name in tqdm(models, position=0):\n",
    "    genes = []\n",
    "    try:\n",
    "        model = load_matlab_model(f\"/Mounts/rbg-storage1/datasets/Metabo/BiGG/{organism_name}.mat\")\n",
    "    except Exception as e:\n",
    "        print(e)\n",
    "        print(f\"Failed to load model: {organism_name}\")\n",
    "        continue\n",
    "    # for gene in tqdm(list(model.genes), position=0, leave=True):\n",
    "    #     r = requests.get(f\"http://bigg.ucsd.edu/api/v2/models/{organism_name}/genes/{gene.id}\")\n",
    "    #     protein_metadata = r.json()\n",
    "    #     # if gene exists in BiGG Model then add them to `organism2gene2sequence`\n",
    "    #     if 'protein_sequence' in protein_metadata:\n",
    "    #         organism2gene2sequence.setdefault(organism_name, {})\n",
    "    #         # if this gene doesn't exist in this organism's gene2sequence dict, then add it\n",
    "    #         if gene.id not in organism2gene2sequence[organism_name]:\n",
    "    #             organism2gene2sequence[organism_name].update({gene.id: protein_metadata['protein_sequence']})\n",
    "    #         # print(protein_metadata)\n",
    "    #         # if BiGG Model does not have protein_sequence, then we store this gene to put into GEMPro pipeline\n",
    "    #         try:\n",
    "    #             entrez_id = protein_metadata['database_links']['NCBI Entrez Gene'][0]['id']\n",
    "    #             genes_with_sequence.append(entrez_id)\n",
    "    #         except:\n",
    "    #             print(\"This gene is missing an Entrez ID: \", gene.id)\n",
    "    #     else:\n",
    "    #         try:\n",
    "    #             print(\"Missing prot seq\")\n",
    "    #             entrez_id = protein_metadata['database_links']['NCBI Entrez Gene'][0]['id']\n",
    "    #             genes_without_sequence.append(entrez_id)\n",
    "    #         except:\n",
    "    #             print(\"This gene is missing an Entrez ID: \", protein_metadata)"
   ]
  },
  {
   "cell_type": "code",
   "execution_count": 11,
   "id": "5ce0e727-67e7-4004-9a91-8116442c8024",
   "metadata": {},
   "outputs": [
    {
     "data": {
      "text/plain": [
       "[]"
      ]
     },
     "execution_count": 11,
     "metadata": {},
     "output_type": "execute_result"
    }
   ],
   "source": [
    "genes_with_sequence"
   ]
  },
  {
   "cell_type": "code",
   "execution_count": 12,
   "id": "d67ec12b-2d0b-4991-83ce-26a1c633aaf0",
   "metadata": {},
   "outputs": [
    {
     "data": {
      "text/plain": [
       "[]"
      ]
     },
     "execution_count": 12,
     "metadata": {},
     "output_type": "execute_result"
    }
   ],
   "source": [
    "genes_without_sequence"
   ]
  },
  {
   "cell_type": "code",
   "execution_count": 4,
   "id": "5ddd4fcf-f0dc-4380-ad1f-38df4e4ac61a",
   "metadata": {},
   "outputs": [],
   "source": [
    "from ssbio.pipeline.gempro import GEMPRO"
   ]
  },
  {
   "cell_type": "code",
   "execution_count": 101,
   "id": "836634e4-9297-436d-b251-9fdcf706699f",
   "metadata": {},
   "outputs": [
    {
     "ename": "NameError",
     "evalue": "name 'GEMPRO' is not defined",
     "output_type": "error",
     "traceback": [
      "\u001b[0;31m---------------------------------------------------------------------------\u001b[0m",
      "\u001b[0;31mNameError\u001b[0m                                 Traceback (most recent call last)",
      "Input \u001b[0;32mIn [101]\u001b[0m, in \u001b[0;36m<cell line: 6>\u001b[0;34m()\u001b[0m\n\u001b[1;32m      3\u001b[0m PDB_FILE_TYPE \u001b[38;5;241m=\u001b[39m \u001b[38;5;124m'\u001b[39m\u001b[38;5;124mmmtf\u001b[39m\u001b[38;5;124m'\u001b[39m\n\u001b[1;32m      5\u001b[0m \u001b[38;5;66;03m# Create the GEM-PRO project\u001b[39;00m\n\u001b[0;32m----> 6\u001b[0m my_gempro \u001b[38;5;241m=\u001b[39m \u001b[43mGEMPRO\u001b[49m(gem_name\u001b[38;5;241m=\u001b[39mPROJECT, \n\u001b[1;32m      7\u001b[0m                    root_dir\u001b[38;5;241m=\u001b[39mROOT_DIR, \n\u001b[1;32m      8\u001b[0m                    genes_list\u001b[38;5;241m=\u001b[39mgenes_without_sequence,\n\u001b[1;32m      9\u001b[0m                    pdb_file_type\u001b[38;5;241m=\u001b[39mPDB_FILE_TYPE)\n",
      "\u001b[0;31mNameError\u001b[0m: name 'GEMPRO' is not defined"
     ]
    }
   ],
   "source": [
    "ROOT_DIR = '../gempro/'\n",
    "PROJECT = 'gempro_missing_genes'\n",
    "PDB_FILE_TYPE = 'mmtf'\n",
    "\n",
    "# Create the GEM-PRO project\n",
    "my_gempro = GEMPRO(gem_name=PROJECT, \n",
    "                   root_dir=ROOT_DIR, \n",
    "                   genes_list=genes_without_sequence,\n",
    "                   pdb_file_type=PDB_FILE_TYPE)"
   ]
  },
  {
   "cell_type": "code",
   "execution_count": null,
   "id": "69858e3d-db6e-4ce1-8595-e7ec0f840ffd",
   "metadata": {},
   "outputs": [],
   "source": [
    "my_gempro.uniprot_mapping_and_metadata('P_ENTREZGENEID')\n",
    "print('Missing UniProt mapping: ', my_gempro.missing_uniprot_mapping)"
   ]
  },
  {
   "cell_type": "code",
   "execution_count": null,
   "id": "cfe2584a-f529-46a1-b9b6-31439e464614",
   "metadata": {},
   "outputs": [],
   "source": [
    "my_gempro.set_representative_sequence(force_rerun=True)"
   ]
  },
  {
   "cell_type": "code",
   "execution_count": null,
   "id": "0fbae28c-f49b-4c7e-ac7f-d17509d54f80",
   "metadata": {},
   "outputs": [],
   "source": [
    "print('Missing a representative sequence: ', my_gempro.missing_representative_sequence)"
   ]
  },
  {
   "cell_type": "code",
   "execution_count": null,
   "id": "ba29886c-2160-40fd-b106-400c0af2861e",
   "metadata": {},
   "outputs": [],
   "source": [
    "my_gempro.df_representative_sequences.head()"
   ]
  },
  {
   "cell_type": "code",
   "execution_count": null,
   "id": "3c6ef65e-3077-4009-9425-cd40e18923a7",
   "metadata": {},
   "outputs": [],
   "source": []
  },
  {
   "cell_type": "markdown",
   "id": "48eddb63",
   "metadata": {
    "jp-MarkdownHeadingCollapsed": true,
    "tags": []
   },
   "source": [
    "# Recon3D"
   ]
  },
  {
   "cell_type": "markdown",
   "id": "de23ff3f-5cc3-4740-b184-24fd4260288f",
   "metadata": {
    "tags": []
   },
   "source": [
    "## README\n",
    "\n",
    "Recond3D human metabolism reconstruction\n",
    "\n",
    "\n",
    "**Metabolites**\n",
    "- mets: metabolite\n",
    "- metCharges\n",
    "- metFormulas\n",
    "- metSmiles\n",
    "- metNames\n",
    "- metHMDBID\n",
    "- metInChIString\n",
    "- metKEGGID\n",
    "- metPubChemID\n",
    "- metCHEBIID\n",
    "- metPdMap\n",
    "- metReconMap\n",
    "\n",
    "**Reactions**\n",
    "- rxnConfidenceScores\n",
    "- rxnNames\n",
    "- rxns: Reaction names\n",
    "- rxnNotes\n",
    "- rxnECNumbers: Enzyme Commission Number (EC Number)\n",
    "- rxnKEGGID\n",
    "- rxnCOG: Database of Clusters of Orthologous Genes (COGs)\n",
    "- rxnKeggOrthology\n",
    "- rxnReconMap: abbreviation\n",
    "- rxnReferences\n",
    "\n",
    "**Genes**\n",
    "- rxnGeneMat: (13543, 3697) reaction x gene, binary\n",
    "- genes: List of all genes: A VMH gene ID is composed of the Entrez Gene ID followed by a \".\" and a number. By default this number is 1. If more than one transcript has been reported in the literature, incremental numbers are given. For the moment, it is not possible to map these transcript identifications to a particular transcript sequence.\n",
    "- grRules: Gene protein rule\n",
    "- rules: Gene-reaction association rule in computable form \n",
    "\n",
    "**Network**\n",
    "- S: stoich matrix\n",
    "- lb: Lower bounds\n",
    "- ub: Upper bounds\n",
    "- c: Objective coefficients\n",
    "- csense: the constraint senses (‘L’ for lower than, ‘G’ - greated than, ‘E’ - equal), for each met\n",
    "- osense: the objective sense (‘max’ or ‘min’) * .csense\n",
    "- subSystems\n",
    "\n",
    "**Other**\n",
    "- modelID\n",
    "- description\n",
    "- version\n",
    "- PleaseCite"
   ]
  },
  {
   "cell_type": "code",
   "execution_count": 6,
   "id": "6669bef7-cde5-4da7-9bcc-d4fbd0d8b23f",
   "metadata": {},
   "outputs": [
    {
     "ename": "AttributeError",
     "evalue": "'numpy.ndarray' object has no attribute 'keys'",
     "output_type": "error",
     "traceback": [
      "\u001b[0;31m---------------------------------------------------------------------------\u001b[0m",
      "\u001b[0;31mAttributeError\u001b[0m                            Traceback (most recent call last)",
      "\u001b[0;32m<ipython-input-6-86093a24e731>\u001b[0m in \u001b[0;36m<module>\u001b[0;34m\u001b[0m\n\u001b[0;32m----> 1\u001b[0;31m \u001b[0mx\u001b[0m\u001b[0;34m[\u001b[0m\u001b[0;34m'Recon3D'\u001b[0m\u001b[0;34m]\u001b[0m\u001b[0;34m[\u001b[0m\u001b[0;36m0\u001b[0m\u001b[0;34m]\u001b[0m\u001b[0;34m.\u001b[0m\u001b[0mkeys\u001b[0m\u001b[0;34m(\u001b[0m\u001b[0;34m)\u001b[0m\u001b[0;34m\u001b[0m\u001b[0;34m\u001b[0m\u001b[0m\n\u001b[0m",
      "\u001b[0;31mAttributeError\u001b[0m: 'numpy.ndarray' object has no attribute 'keys'"
     ]
    }
   ],
   "source": [
    "x['Recon3D'][0]"
   ]
  },
  {
   "cell_type": "code",
   "execution_count": 41,
   "id": "60f74e94-d7c8-44ba-ac0b-16433aa2693d",
   "metadata": {
    "collapsed": true,
    "jupyter": {
     "outputs_hidden": true
    },
    "tags": []
   },
   "outputs": [
    {
     "data": {
      "text/plain": [
       "('S',\n",
       " 'mets',\n",
       " 'b',\n",
       " 'csense',\n",
       " 'rxns',\n",
       " 'lb',\n",
       " 'ub',\n",
       " 'c',\n",
       " 'osense',\n",
       " 'genes',\n",
       " 'rules',\n",
       " 'metCharges',\n",
       " 'metFormulas',\n",
       " 'metSmiles',\n",
       " 'metNames',\n",
       " 'metHMDBID',\n",
       " 'metInChIString',\n",
       " 'metKEGGID',\n",
       " 'metPubChemID',\n",
       " 'description',\n",
       " 'grRules',\n",
       " 'rxnGeneMat',\n",
       " 'rxnConfidenceScores',\n",
       " 'rxnNames',\n",
       " 'rxnNotes',\n",
       " 'rxnECNumbers',\n",
       " 'rxnReferences',\n",
       " 'rxnKEGGID',\n",
       " 'subSystems',\n",
       " 'metCHEBIID',\n",
       " 'metPdMap',\n",
       " 'metReconMap',\n",
       " 'modelID',\n",
       " 'rxnCOG',\n",
       " 'rxnKeggOrthology',\n",
       " 'rxnReconMap',\n",
       " 'version',\n",
       " 'PleaseCite')"
      ]
     },
     "execution_count": 41,
     "metadata": {},
     "output_type": "execute_result"
    }
   ],
   "source": [
    "x['Recon3D'].dtype.names"
   ]
  },
  {
   "cell_type": "code",
   "execution_count": 46,
   "id": "42518dc3-0e1e-4b2d-9813-3b384c171bc4",
   "metadata": {},
   "outputs": [
    {
     "data": {
      "text/plain": [
       "array(['Recon3D'], dtype='<U7')"
      ]
     },
     "execution_count": 46,
     "metadata": {},
     "output_type": "execute_result"
    }
   ],
   "source": [
    "x['Recon3D'][0,0]['modelID']"
   ]
  },
  {
   "cell_type": "code",
   "execution_count": 38,
   "id": "c650b940-c9e1-43a6-86e3-4d1f76d94b95",
   "metadata": {
    "collapsed": true,
    "jupyter": {
     "outputs_hidden": true
    },
    "tags": []
   },
   "outputs": [
    {
     "data": {
      "text/plain": [
       "['__bool__',\n",
       " '__class__',\n",
       " '__class_getitem__',\n",
       " '__delattr__',\n",
       " '__dir__',\n",
       " '__doc__',\n",
       " '__eq__',\n",
       " '__format__',\n",
       " '__ge__',\n",
       " '__getattribute__',\n",
       " '__getitem__',\n",
       " '__gt__',\n",
       " '__hash__',\n",
       " '__init__',\n",
       " '__init_subclass__',\n",
       " '__le__',\n",
       " '__len__',\n",
       " '__lt__',\n",
       " '__mul__',\n",
       " '__ne__',\n",
       " '__new__',\n",
       " '__reduce__',\n",
       " '__reduce_ex__',\n",
       " '__repr__',\n",
       " '__rmul__',\n",
       " '__setattr__',\n",
       " '__setstate__',\n",
       " '__sizeof__',\n",
       " '__str__',\n",
       " '__subclasshook__',\n",
       " 'alignment',\n",
       " 'base',\n",
       " 'byteorder',\n",
       " 'char',\n",
       " 'descr',\n",
       " 'fields',\n",
       " 'flags',\n",
       " 'hasobject',\n",
       " 'isalignedstruct',\n",
       " 'isbuiltin',\n",
       " 'isnative',\n",
       " 'itemsize',\n",
       " 'kind',\n",
       " 'metadata',\n",
       " 'name',\n",
       " 'names',\n",
       " 'ndim',\n",
       " 'newbyteorder',\n",
       " 'num',\n",
       " 'shape',\n",
       " 'str',\n",
       " 'subdtype',\n",
       " 'type']"
      ]
     },
     "execution_count": 38,
     "metadata": {},
     "output_type": "execute_result"
    }
   ],
   "source": [
    "dir(x['Recon3D'][0][0].dtype)"
   ]
  },
  {
   "cell_type": "code",
   "execution_count": 40,
   "id": "2f2c7f00-1951-4840-acee-5feda9517b68",
   "metadata": {
    "collapsed": true,
    "jupyter": {
     "outputs_hidden": true
    },
    "tags": []
   },
   "outputs": [
    {
     "data": {
      "text/plain": [
       "('S',\n",
       " 'mets',\n",
       " 'b',\n",
       " 'csense',\n",
       " 'rxns',\n",
       " 'lb',\n",
       " 'ub',\n",
       " 'c',\n",
       " 'osense',\n",
       " 'genes',\n",
       " 'rules',\n",
       " 'metCharges',\n",
       " 'metFormulas',\n",
       " 'metSmiles',\n",
       " 'metNames',\n",
       " 'metHMDBID',\n",
       " 'metInChIString',\n",
       " 'metKEGGID',\n",
       " 'metPubChemID',\n",
       " 'description',\n",
       " 'grRules',\n",
       " 'rxnGeneMat',\n",
       " 'rxnConfidenceScores',\n",
       " 'rxnNames',\n",
       " 'rxnNotes',\n",
       " 'rxnECNumbers',\n",
       " 'rxnReferences',\n",
       " 'rxnKEGGID',\n",
       " 'subSystems',\n",
       " 'metCHEBIID',\n",
       " 'metPdMap',\n",
       " 'metReconMap',\n",
       " 'modelID',\n",
       " 'rxnCOG',\n",
       " 'rxnKeggOrthology',\n",
       " 'rxnReconMap',\n",
       " 'version',\n",
       " 'PleaseCite')"
      ]
     },
     "execution_count": 40,
     "metadata": {},
     "output_type": "execute_result"
    }
   ],
   "source": [
    "x['Recon3D'].dtype.names"
   ]
  },
  {
   "cell_type": "code",
   "execution_count": 26,
   "id": "5259ad02-8388-4972-b42e-61072fc59eb5",
   "metadata": {},
   "outputs": [
    {
     "ename": "AttributeError",
     "evalue": "'numpy.ndarray' object has no attribute 'keys'",
     "output_type": "error",
     "traceback": [
      "\u001b[0;31m---------------------------------------------------------------------------\u001b[0m",
      "\u001b[0;31mAttributeError\u001b[0m                            Traceback (most recent call last)",
      "\u001b[0;32m<ipython-input-26-9c7799a4d960>\u001b[0m in \u001b[0;36m<module>\u001b[0;34m\u001b[0m\n\u001b[0;32m----> 1\u001b[0;31m \u001b[0mx\u001b[0m\u001b[0;34m[\u001b[0m\u001b[0;34m'Recon3D'\u001b[0m\u001b[0;34m]\u001b[0m\u001b[0;34m.\u001b[0m\u001b[0mkeys\u001b[0m\u001b[0;34m(\u001b[0m\u001b[0;34m)\u001b[0m\u001b[0;34m\u001b[0m\u001b[0;34m\u001b[0m\u001b[0m\n\u001b[0m",
      "\u001b[0;31mAttributeError\u001b[0m: 'numpy.ndarray' object has no attribute 'keys'"
     ]
    }
   ],
   "source": [
    "x['Recon3D'].keys()"
   ]
  },
  {
   "cell_type": "code",
   "execution_count": null,
   "id": "730accac-2728-4e35-b21e-d3b67177d1c7",
   "metadata": {},
   "outputs": [],
   "source": []
  },
  {
   "cell_type": "code",
   "execution_count": null,
   "id": "283a503f-1c1b-4068-ac3e-cb6f0651bd24",
   "metadata": {},
   "outputs": [],
   "source": []
  },
  {
   "cell_type": "code",
   "execution_count": 7,
   "id": "666e67c1-d3ac-4e3a-8937-2527a7eb8885",
   "metadata": {},
   "outputs": [
    {
     "name": "stderr",
     "output_type": "stream",
     "text": [
      "No defined compartments in model Recon3D. Compartments will be deduced heuristically using regular expressions.\n",
      "Using regular expression found the following compartments:c, e, g, i, l, m, n, r, x\n"
     ]
    }
   ],
   "source": [
    "recon3 = load_matlab_model('/Mounts/rbg-storage1/datasets/Metabo/Recon3D/Recon3D_301/Recon3D_301.mat')"
   ]
  },
  {
   "cell_type": "code",
   "execution_count": 49,
   "id": "2c7b3165-105e-4e7a-9dc1-c790c78e7702",
   "metadata": {},
   "outputs": [
    {
     "data": {
      "text/plain": [
       "111"
      ]
     },
     "execution_count": 49,
     "metadata": {},
     "output_type": "execute_result"
    }
   ],
   "source": [
    "len(recon3.groups)"
   ]
  },
  {
   "cell_type": "code",
   "execution_count": 50,
   "id": "134b185a-bd52-4e39-9df3-a2e27e3c3076",
   "metadata": {},
   "outputs": [
    {
     "data": {
      "text/plain": [
       "<Group Alanine and aspartate metabolism at 0x7f09c3f20af0>"
      ]
     },
     "execution_count": 50,
     "metadata": {},
     "output_type": "execute_result"
    }
   ],
   "source": [
    "recon3.groups[0]"
   ]
  },
  {
   "cell_type": "code",
   "execution_count": 51,
   "id": "616c0c87-ab5a-484f-8dac-c68193d5b674",
   "metadata": {},
   "outputs": [
    {
     "data": {
      "text/plain": [
       "['KIND_TYPES',\n",
       " '__class__',\n",
       " '__delattr__',\n",
       " '__dict__',\n",
       " '__dir__',\n",
       " '__doc__',\n",
       " '__eq__',\n",
       " '__format__',\n",
       " '__ge__',\n",
       " '__getattribute__',\n",
       " '__getstate__',\n",
       " '__gt__',\n",
       " '__hash__',\n",
       " '__init__',\n",
       " '__init_subclass__',\n",
       " '__le__',\n",
       " '__len__',\n",
       " '__lt__',\n",
       " '__module__',\n",
       " '__ne__',\n",
       " '__new__',\n",
       " '__reduce__',\n",
       " '__reduce_ex__',\n",
       " '__repr__',\n",
       " '__setattr__',\n",
       " '__sizeof__',\n",
       " '__str__',\n",
       " '__subclasshook__',\n",
       " '__weakref__',\n",
       " '_annotation',\n",
       " '_id',\n",
       " '_kind',\n",
       " '_members',\n",
       " '_model',\n",
       " '_set_id_with_model',\n",
       " 'add_members',\n",
       " 'annotation',\n",
       " 'id',\n",
       " 'kind',\n",
       " 'members',\n",
       " 'name',\n",
       " 'notes',\n",
       " 'remove_members']"
      ]
     },
     "execution_count": 51,
     "metadata": {},
     "output_type": "execute_result"
    }
   ],
   "source": [
    "dir(recon3.groups[0])"
   ]
  },
  {
   "cell_type": "code",
   "execution_count": 53,
   "id": "75992aee-c582-4fd7-a77f-2abb80c12c45",
   "metadata": {},
   "outputs": [
    {
     "data": {
      "text/plain": [
       "[<Reaction AGTim at 0x7f09d0543a00>,\n",
       " <Reaction AGTix at 0x7f09d0543fa0>,\n",
       " <Reaction ARGSS at 0x7f09d051bd30>,\n",
       " <Reaction ASNNm at 0x7f09d04aed60>,\n",
       " <Reaction ASNS1 at 0x7f09d04aef40>,\n",
       " <Reaction ASPNATm at 0x7f09d04b8550>,\n",
       " <Reaction ASPTAm at 0x7f09d04b8e80>,\n",
       " <Reaction DASPO1p at 0x7f09d03a71f0>,\n",
       " <Reaction NACASPAH at 0x7f09cffd8b80>,\n",
       " <Reaction RE1473C at 0x7f09cf8e2250>,\n",
       " <Reaction RE2031M at 0x7f09cf841a90>,\n",
       " <Reaction RE2642C at 0x7f09cb7af700>,\n",
       " <Reaction ALAR at 0x7f09cb10e730>,\n",
       " <Reaction ASPTA at 0x7f09cb10e850>,\n",
       " <Reaction r0127 at 0x7f09cb093c10>,\n",
       " <Reaction ARGSL at 0x7f09cb0452b0>]"
      ]
     },
     "execution_count": 53,
     "metadata": {},
     "output_type": "execute_result"
    }
   ],
   "source": [
    "recon3.groups[0].members"
   ]
  },
  {
   "cell_type": "code",
   "execution_count": null,
   "id": "3a1e1954-6784-43fc-8a88-742ee970dd46",
   "metadata": {},
   "outputs": [],
   "source": []
  },
  {
   "cell_type": "code",
   "execution_count": null,
   "id": "acff6b3e-db84-406a-9a28-42c02f468001",
   "metadata": {},
   "outputs": [],
   "source": []
  },
  {
   "cell_type": "code",
   "execution_count": null,
   "id": "a0382000-9231-45f8-99b2-795efad0109e",
   "metadata": {},
   "outputs": [],
   "source": []
  },
  {
   "cell_type": "code",
   "execution_count": null,
   "id": "7fcd936d-f481-49e7-a834-7bc03ba84087",
   "metadata": {},
   "outputs": [],
   "source": []
  },
  {
   "cell_type": "code",
   "execution_count": null,
   "id": "92786f0e-7344-418c-be57-6545c9774b8c",
   "metadata": {},
   "outputs": [],
   "source": []
  },
  {
   "cell_type": "code",
   "execution_count": null,
   "id": "00baecb7-a4d9-4b35-a470-158f646cfb91",
   "metadata": {},
   "outputs": [],
   "source": []
  },
  {
   "cell_type": "code",
   "execution_count": null,
   "id": "a1dbd30c-33ce-44ef-8e67-90fcd1b0e13e",
   "metadata": {},
   "outputs": [],
   "source": []
  },
  {
   "cell_type": "code",
   "execution_count": 13,
   "id": "2a632a3f-23f2-4227-bd68-7df3c6b190ce",
   "metadata": {},
   "outputs": [],
   "source": [
    "save_json_model(recon3, \"recon3.json\")"
   ]
  },
  {
   "cell_type": "code",
   "execution_count": 10,
   "id": "dd719405-048f-4086-9859-ecbdaec567f6",
   "metadata": {
    "tags": []
   },
   "outputs": [],
   "source": [
    "solution = recon3.optimize()"
   ]
  },
  {
   "cell_type": "code",
   "execution_count": 11,
   "id": "be47554a-eb42-4432-be21-253b3eccf34a",
   "metadata": {},
   "outputs": [
    {
     "data": {
      "text/html": [
       "<strong><em>Optimal</em> solution with objective value 1000.000</strong><br><div>\n",
       "<style scoped>\n",
       "    .dataframe tbody tr th:only-of-type {\n",
       "        vertical-align: middle;\n",
       "    }\n",
       "\n",
       "    .dataframe tbody tr th {\n",
       "        vertical-align: top;\n",
       "    }\n",
       "\n",
       "    .dataframe thead th {\n",
       "        text-align: right;\n",
       "    }\n",
       "</style>\n",
       "<table border=\"1\" class=\"dataframe\">\n",
       "  <thead>\n",
       "    <tr style=\"text-align: right;\">\n",
       "      <th></th>\n",
       "      <th>fluxes</th>\n",
       "      <th>reduced_costs</th>\n",
       "    </tr>\n",
       "  </thead>\n",
       "  <tbody>\n",
       "    <tr>\n",
       "      <th>10FTHF5GLUtl</th>\n",
       "      <td>0.000000</td>\n",
       "      <td>0.0</td>\n",
       "    </tr>\n",
       "    <tr>\n",
       "      <th>10FTHF5GLUtm</th>\n",
       "      <td>0.000000</td>\n",
       "      <td>0.0</td>\n",
       "    </tr>\n",
       "    <tr>\n",
       "      <th>10FTHF6GLUtl</th>\n",
       "      <td>0.000000</td>\n",
       "      <td>0.0</td>\n",
       "    </tr>\n",
       "    <tr>\n",
       "      <th>10FTHF6GLUtm</th>\n",
       "      <td>0.000000</td>\n",
       "      <td>0.0</td>\n",
       "    </tr>\n",
       "    <tr>\n",
       "      <th>10FTHF7GLUtl</th>\n",
       "      <td>0.000000</td>\n",
       "      <td>0.0</td>\n",
       "    </tr>\n",
       "    <tr>\n",
       "      <th>...</th>\n",
       "      <td>...</td>\n",
       "      <td>...</td>\n",
       "    </tr>\n",
       "    <tr>\n",
       "      <th>CYOR_u10mi</th>\n",
       "      <td>666.666667</td>\n",
       "      <td>0.0</td>\n",
       "    </tr>\n",
       "    <tr>\n",
       "      <th>Htmi</th>\n",
       "      <td>0.000000</td>\n",
       "      <td>0.0</td>\n",
       "    </tr>\n",
       "    <tr>\n",
       "      <th>NADH2_u10mi</th>\n",
       "      <td>0.000000</td>\n",
       "      <td>0.0</td>\n",
       "    </tr>\n",
       "    <tr>\n",
       "      <th>CYOOm3i</th>\n",
       "      <td>333.333333</td>\n",
       "      <td>0.0</td>\n",
       "    </tr>\n",
       "    <tr>\n",
       "      <th>CYOOm2i</th>\n",
       "      <td>0.000000</td>\n",
       "      <td>0.0</td>\n",
       "    </tr>\n",
       "  </tbody>\n",
       "</table>\n",
       "<p>13543 rows × 2 columns</p>\n",
       "</div>"
      ],
      "text/plain": [
       "<Solution 1000.000 at 0x7f6673a35970>"
      ]
     },
     "execution_count": 11,
     "metadata": {},
     "output_type": "execute_result"
    }
   ],
   "source": [
    "solution"
   ]
  },
  {
   "cell_type": "code",
   "execution_count": 10,
   "id": "1d917b69-5fa1-466a-9df4-ada345f73479",
   "metadata": {},
   "outputs": [],
   "source": [
    "save_json_model(textbook_model, \"test.json\")"
   ]
  },
  {
   "cell_type": "code",
   "execution_count": 9,
   "id": "c75ec2e7-0158-456f-9fbf-10d549f9bb11",
   "metadata": {},
   "outputs": [],
   "source": [
    "textbook_model = load_model(\"textbook\")"
   ]
  },
  {
   "cell_type": "code",
   "execution_count": 18,
   "id": "a64b0328-b664-4f4c-9c77-88068cbd2e6a",
   "metadata": {},
   "outputs": [
    {
     "name": "stderr",
     "output_type": "stream",
     "text": [
      "This model seems to have metCharge instead of metCharges field. Will use metCharge for what metCharges represents.\n",
      "No defined compartments in model e_coli_core. Compartments will be deduced heuristically using regular expressions.\n",
      "Using regular expression found the following compartments:c, e\n"
     ]
    }
   ],
   "source": [
    "model = load_matlab_model('e_coli_core.mat')"
   ]
  },
  {
   "cell_type": "code",
   "execution_count": 24,
   "id": "5d2335be-caa6-415c-add3-af4adf2f2ab8",
   "metadata": {},
   "outputs": [
    {
     "data": {
      "text/plain": [
       "<optlang.container.Container at 0x7faf8fa2b0d0>"
      ]
     },
     "execution_count": 24,
     "metadata": {},
     "output_type": "execute_result"
    }
   ],
   "source": [
    "model.constraints"
   ]
  },
  {
   "cell_type": "code",
   "execution_count": 26,
   "id": "e80f7c66-629a-4d3a-9922-780a8f8cfffa",
   "metadata": {},
   "outputs": [],
   "source": [
    "from rdkit import Chem, RDLogger\n",
    "import torch"
   ]
  },
  {
   "cell_type": "code",
   "execution_count": 35,
   "id": "8cd201de-1ad4-46ec-b7d5-704a8347eca5",
   "metadata": {},
   "outputs": [],
   "source": [
    "mol = Chem.MolFromSmiles(\"CC(O)(P(=O)([O-])O)P(=O)([O-])O.[Na+].[Na+]\")"
   ]
  },
  {
   "cell_type": "code",
   "execution_count": 36,
   "id": "daa363fb-fa5a-4fe6-92c9-0de22cf30196",
   "metadata": {},
   "outputs": [
    {
     "data": {
      "image/png": "[encoded data removed]",
      "text/plain": [
       "<rdkit.Chem.rdchem.Mol at 0x7efd9f9cfe80>"
      ]
     },
     "execution_count": 36,
     "metadata": {},
     "output_type": "execute_result"
    }
   ],
   "source": [
    "mol"
   ]
  },
  {
   "cell_type": "code",
   "execution_count": 26,
   "id": "414a1494-7631-421a-9244-049ef37bc4fa",
   "metadata": {},
   "outputs": [],
   "source": [
    "import networkx as nx"
   ]
  },
  {
   "cell_type": "code",
   "execution_count": null,
   "id": "7dc66883-932f-4c90-badb-df8de37f4678",
   "metadata": {},
   "outputs": [],
   "source": [
    "mol"
   ]
  },
  {
   "cell_type": "code",
   "execution_count": 44,
   "id": "15a6b0a1-604e-46cb-80a5-5c2afb3b351b",
   "metadata": {},
   "outputs": [],
   "source": [
    "x_map = {\n",
    "    \"atomic_num\": list(range(0, 119)),\n",
    "    \"chirality\": [\n",
    "        \"CHI_UNSPECIFIED\",\n",
    "        \"CHI_TETRAHEDRAL_CW\",\n",
    "        \"CHI_TETRAHEDRAL_CCW\",\n",
    "        \"CHI_OTHER\",\n",
    "    ],\n",
    "    \"degree\": list(range(0, 11)),\n",
    "    \"formal_charge\": list(range(-5, 7)),\n",
    "    \"num_hs\": list(range(0, 9)),\n",
    "    \"num_radical_electrons\": list(range(0, 5)),\n",
    "    \"hybridization\": [\n",
    "        \"UNSPECIFIED\",\n",
    "        \"S\",\n",
    "        \"SP\",\n",
    "        \"SP2\",\n",
    "        \"SP3\",\n",
    "        \"SP3D\",\n",
    "        \"SP3D2\",\n",
    "        \"OTHER\",\n",
    "    ],\n",
    "    \"is_aromatic\": [False, True],\n",
    "    \"is_in_ring\": [False, True],\n",
    "}\n",
    "\n",
    "e_map = {\n",
    "    \"bond_type\": [\n",
    "        \"misc\",\n",
    "        \"SINGLE\",\n",
    "        \"DOUBLE\",\n",
    "        \"TRIPLE\",\n",
    "        \"AROMATIC\",\n",
    "    ],\n",
    "    \"stereo\": [\n",
    "        \"STEREONONE\",\n",
    "        \"STEREOZ\",\n",
    "        \"STEREOE\",\n",
    "        \"STEREOCIS\",\n",
    "        \"STEREOTRANS\",\n",
    "        \"STEREOANY\",\n",
    "    ],\n",
    "    \"is_conjugated\": [False, True],\n",
    "}\n",
    "\n",
    "def from_smiles(smiles: str, with_hydrogen: bool = False, kekulize: bool = False):\n",
    "    r\"\"\"Converts a SMILES string to a :class:`torch_geometric.data.Data`\n",
    "    instance.\n",
    "    Args:\n",
    "        smiles (string, optional): The SMILES string.\n",
    "        with_hydrogen (bool, optional): If set to :obj:`True`, will store\n",
    "            hydrogens in the molecule graph. (default: :obj:`False`)\n",
    "        kekulize (bool, optional): If set to :obj:`True`, converts aromatic\n",
    "            bonds to single/double bonds. (default: :obj:`False`)\n",
    "    \"\"\"\n",
    "\n",
    "    RDLogger.DisableLog(\"rdApp.*\")\n",
    "\n",
    "    mol = Chem.MolFromSmiles(smiles)\n",
    "\n",
    "    if mol is None:\n",
    "        mol = Chem.MolFromSmiles(\"\")\n",
    "    if with_hydrogen:\n",
    "        mol = Chem.AddHs(mol)\n",
    "    if kekulize:\n",
    "        mol = Chem.Kekulize(mol)\n",
    "\n",
    "    xs = []\n",
    "    for atom in mol.GetAtoms():\n",
    "        x = []\n",
    "        x.append(x_map[\"atomic_num\"].index(atom.GetAtomicNum()))\n",
    "        x.append(x_map[\"chirality\"].index(str(atom.GetChiralTag())))\n",
    "        x.append(x_map[\"degree\"].index(atom.GetTotalDegree()))\n",
    "        x.append(x_map[\"formal_charge\"].index(atom.GetFormalCharge()))\n",
    "        x.append(x_map[\"num_hs\"].index(atom.GetTotalNumHs()))\n",
    "        x.append(x_map[\"num_radical_electrons\"].index(atom.GetNumRadicalElectrons()))\n",
    "        x.append(x_map[\"hybridization\"].index(str(atom.GetHybridization())))\n",
    "        x.append(x_map[\"is_aromatic\"].index(atom.GetIsAromatic()))\n",
    "        x.append(x_map[\"is_in_ring\"].index(atom.IsInRing()))\n",
    "        xs.append(x)\n",
    "        \n",
    "        #xs.append(atom.GetSymbol())\n",
    "\n",
    "    x = torch.tensor(xs, dtype=torch.long).view(-1, 9)\n",
    "\n",
    "    edge_indices, edge_attrs = [], []\n",
    "    for bond in mol.GetBonds():\n",
    "        i = bond.GetBeginAtomIdx()\n",
    "        j = bond.GetEndAtomIdx()\n",
    "\n",
    "        e = []\n",
    "        e.append(e_map[\"bond_type\"].index(str(bond.GetBondType())))\n",
    "        e.append(e_map[\"stereo\"].index(str(bond.GetStereo())))\n",
    "        e.append(e_map[\"is_conjugated\"].index(bond.GetIsConjugated()))\n",
    "\n",
    "        edge_indices += [[i, j], [j, i]]\n",
    "        edge_attrs += [e, e]\n",
    "\n",
    "    edge_index = torch.tensor(edge_indices)\n",
    "    edge_index = edge_index.t().to(torch.long).view(2, -1)\n",
    "    edge_attr = torch.tensor(edge_attrs, dtype=torch.long).view(-1, 3)\n",
    "\n",
    "    if edge_index.numel() > 0:  # Sort indices.\n",
    "        perm = (edge_index[0] * x.size(0) + edge_index[1]).argsort()\n",
    "        edge_index, edge_attr = edge_index[:, perm], edge_attr[perm]\n",
    "\n",
    "    return xs, edge_index, edge_attr, smiles"
   ]
  },
  {
   "cell_type": "code",
   "execution_count": 45,
   "id": "185ce226-9e2e-432b-a100-d8f38a32f59f",
   "metadata": {},
   "outputs": [
    {
     "data": {
      "image/png": "[encoded data removed]",
      "text/plain": [
       "<rdkit.Chem.rdchem.Mol at 0x7efd9f9cfe80>"
      ]
     },
     "execution_count": 45,
     "metadata": {},
     "output_type": "execute_result"
    }
   ],
   "source": [
    "mol"
   ]
  },
  {
   "cell_type": "code",
   "execution_count": 46,
   "id": "59901ddb-c78d-44eb-a1a3-0ff4a50456be",
   "metadata": {},
   "outputs": [],
   "source": [
    "x,e,ef,s = from_smiles(\"CC(O)(P(=O)([O-])O)P(=O)([O-])O.[Na+].[Na+]\")"
   ]
  },
  {
   "cell_type": "code",
   "execution_count": 47,
   "id": "75fb11de-7950-4643-a273-e13e62d649f9",
   "metadata": {},
   "outputs": [
    {
     "data": {
      "text/plain": [
       "tensor([[ 0,  1,  1,  1,  1,  2,  3,  3,  3,  3,  4,  5,  6,  7,  7,  7,  7,  8,\n",
       "          9, 10],\n",
       "        [ 1,  0,  2,  3,  7,  1,  1,  4,  5,  6,  3,  3,  3,  1,  8,  9, 10,  7,\n",
       "          7,  7]])"
      ]
     },
     "execution_count": 47,
     "metadata": {},
     "output_type": "execute_result"
    }
   ],
   "source": [
    "e"
   ]
  },
  {
   "cell_type": "code",
   "execution_count": 52,
   "id": "3a5d3491-8dcf-4415-936c-7d4f5d786466",
   "metadata": {},
   "outputs": [],
   "source": [
    "edge_to_i = e[1] == 0"
   ]
  },
  {
   "cell_type": "code",
   "execution_count": 51,
   "id": "2edb7037-8653-4a12-8b95-c55c951bbc46",
   "metadata": {},
   "outputs": [],
   "source": [
    "edge_from_j = e[0] == 1"
   ]
  },
  {
   "cell_type": "code",
   "execution_count": 54,
   "id": "bf826ad8-4a71-4fa4-8e1c-09b7ac578ae0",
   "metadata": {},
   "outputs": [
    {
     "data": {
      "text/plain": [
       "(tensor([1]),)"
      ]
     },
     "execution_count": 54,
     "metadata": {},
     "output_type": "execute_result"
    }
   ],
   "source": [
    "torch.where(edge_to_i & edge_from_j)"
   ]
  },
  {
   "cell_type": "code",
   "execution_count": 55,
   "id": "128ba431-d96e-4d4f-a9ad-d6db0bd23498",
   "metadata": {},
   "outputs": [],
   "source": [
    "def get_reverse_edge_indices(edge_index):\n",
    "    revedge_index = torch.zeros(edge_index.shape[1]).long()\n",
    "    for k, (i, j) in enumerate(zip(*edge_index)):\n",
    "        edge_to_i = edge_index[1] == i\n",
    "        edge_from_j = edge_index[0] == j\n",
    "        revedge_index[k] = torch.where(edge_to_i & edge_from_j)[0]\n",
    "    return revedge_index"
   ]
  },
  {
   "cell_type": "code",
   "execution_count": 56,
   "id": "655a3626-e161-4c88-abaa-e1593a2b4c16",
   "metadata": {},
   "outputs": [
    {
     "data": {
      "text/plain": [
       "tensor([ 1,  0,  5,  6, 13,  2,  3, 10, 11, 12,  7,  8,  9,  4, 17, 18, 19, 14,\n",
       "        15, 16])"
      ]
     },
     "execution_count": 56,
     "metadata": {},
     "output_type": "execute_result"
    }
   ],
   "source": [
    "get_reverse_edge_indices(e)"
   ]
  },
  {
   "cell_type": "code",
   "execution_count": 39,
   "id": "3e992e25-6f87-47c3-97eb-0d75b8c5df94",
   "metadata": {},
   "outputs": [
    {
     "data": {
      "text/plain": [
       "['ClearProp',\n",
       " 'DescribeQuery',\n",
       " 'GetAtomMapNum',\n",
       " 'GetAtomicNum',\n",
       " 'GetBonds',\n",
       " 'GetBoolProp',\n",
       " 'GetChiralTag',\n",
       " 'GetDegree',\n",
       " 'GetDoubleProp',\n",
       " 'GetExplicitBitVectProp',\n",
       " 'GetExplicitValence',\n",
       " 'GetFormalCharge',\n",
       " 'GetHybridization',\n",
       " 'GetIdx',\n",
       " 'GetImplicitValence',\n",
       " 'GetIntProp',\n",
       " 'GetIsAromatic',\n",
       " 'GetIsotope',\n",
       " 'GetMass',\n",
       " 'GetMonomerInfo',\n",
       " 'GetNeighbors',\n",
       " 'GetNoImplicit',\n",
       " 'GetNumExplicitHs',\n",
       " 'GetNumImplicitHs',\n",
       " 'GetNumRadicalElectrons',\n",
       " 'GetOwningMol',\n",
       " 'GetPDBResidueInfo',\n",
       " 'GetProp',\n",
       " 'GetPropNames',\n",
       " 'GetPropsAsDict',\n",
       " 'GetQueryType',\n",
       " 'GetSmarts',\n",
       " 'GetSymbol',\n",
       " 'GetTotalDegree',\n",
       " 'GetTotalNumHs',\n",
       " 'GetTotalValence',\n",
       " 'GetUnsignedProp',\n",
       " 'HasOwningMol',\n",
       " 'HasProp',\n",
       " 'HasQuery',\n",
       " 'InvertChirality',\n",
       " 'IsInRing',\n",
       " 'IsInRingSize',\n",
       " 'Match',\n",
       " 'NeedsUpdatePropertyCache',\n",
       " 'SetAtomMapNum',\n",
       " 'SetAtomicNum',\n",
       " 'SetBoolProp',\n",
       " 'SetChiralTag',\n",
       " 'SetDoubleProp',\n",
       " 'SetExplicitBitVectProp',\n",
       " 'SetFormalCharge',\n",
       " 'SetHybridization',\n",
       " 'SetIntProp',\n",
       " 'SetIsAromatic',\n",
       " 'SetIsotope',\n",
       " 'SetMonomerInfo',\n",
       " 'SetNoImplicit',\n",
       " 'SetNumExplicitHs',\n",
       " 'SetNumRadicalElectrons',\n",
       " 'SetPDBResidueInfo',\n",
       " 'SetProp',\n",
       " 'SetUnsignedProp',\n",
       " 'UpdatePropertyCache',\n",
       " '__class__',\n",
       " '__copy__',\n",
       " '__delattr__',\n",
       " '__dict__',\n",
       " '__dir__',\n",
       " '__doc__',\n",
       " '__eq__',\n",
       " '__format__',\n",
       " '__ge__',\n",
       " '__getattribute__',\n",
       " '__gt__',\n",
       " '__hash__',\n",
       " '__init__',\n",
       " '__init_subclass__',\n",
       " '__instance_size__',\n",
       " '__le__',\n",
       " '__lt__',\n",
       " '__module__',\n",
       " '__ne__',\n",
       " '__new__',\n",
       " '__reduce__',\n",
       " '__reduce_ex__',\n",
       " '__repr__',\n",
       " '__setattr__',\n",
       " '__sizeof__',\n",
       " '__str__',\n",
       " '__subclasshook__',\n",
       " '__weakref__']"
      ]
     },
     "execution_count": 39,
     "metadata": {},
     "output_type": "execute_result"
    }
   ],
   "source": [
    "dir(list(mol.GetAtoms())[0])"
   ]
  },
  {
   "cell_type": "code",
   "execution_count": null,
   "id": "7e90d70c-8639-4317-b216-34c8998ca516",
   "metadata": {},
   "outputs": [],
   "source": []
  },
  {
   "cell_type": "markdown",
   "id": "a390847b-4a94-43a4-b593-36a43d50320b",
   "metadata": {
    "tags": []
   },
   "source": [
    "# EColi"
   ]
  },
  {
   "cell_type": "code",
   "execution_count": 70,
   "id": "5872a1c7-ee51-447f-a272-cc0de2f75363",
   "metadata": {},
   "outputs": [],
   "source": [
    "import requests, json, sqlite3, argparse\n",
    "from p_tqdm import p_map\n",
    "from collections import defaultdict\n",
    "import time\n",
    "from tqdm import tqdm"
   ]
  },
  {
   "cell_type": "code",
   "execution_count": 63,
   "id": "10b6e214-4e0e-4b88-b690-21bd746f645c",
   "metadata": {},
   "outputs": [],
   "source": [
    "def get_model_uniprots(metabolic_model):\n",
    "    proteins = [\n",
    "        uniprot[\"id\"]\n",
    "        for rxn_dict in metabolic_model\n",
    "        for protein_dict in rxn_dict[\"proteins\"]\n",
    "        for uniprot in protein_dict[\"database_links\"].get(\"UniProt\", [{\"id\": None}])\n",
    "    ]\n",
    "    return tuple(set(proteins))"
   ]
  },
  {
   "cell_type": "code",
   "execution_count": 62,
   "id": "72c53c7a-74ef-4c43-a446-147b5af2b2ae",
   "metadata": {},
   "outputs": [],
   "source": [
    "metabolic_model = json.load(open(\"/Mounts/rbg-storage1/datasets/Metabo/datasets/iML1515_dataset.json\", \"r\"))"
   ]
  },
  {
   "cell_type": "code",
   "execution_count": 64,
   "id": "cc66c561-47fc-4700-992a-cd06ad04b0e9",
   "metadata": {},
   "outputs": [],
   "source": [
    "metabolic_proteins = get_model_uniprots(metabolic_model)"
   ]
  },
  {
   "cell_type": "code",
   "execution_count": 65,
   "id": "0542aa0a-470c-4e9b-a95b-b025d6679b68",
   "metadata": {},
   "outputs": [
    {
     "data": {
      "text/plain": [
       "('P17993',\n",
       " 'P0A8F4',\n",
       " 'P27833',\n",
       " 'P40191',\n",
       " 'Q47142',\n",
       " 'P0A6X1',\n",
       " 'P60664',\n",
       " 'P00926',\n",
       " 'P0ACE0',\n",
       " 'P0AE76')"
      ]
     },
     "execution_count": 65,
     "metadata": {},
     "output_type": "execute_result"
    }
   ],
   "source": [
    "metabolic_proteins[:10]"
   ]
  },
  {
   "cell_type": "code",
   "execution_count": 66,
   "id": "9086a80e-7d03-4501-9b1e-409daccb3e00",
   "metadata": {},
   "outputs": [],
   "source": [
    "protein_id = 'P17993'\n",
    "protein_pg = requests.get(f\"https://pubchem.ncbi.nlm.nih.gov/rest/pug/protein/accession/{protein_id}/aids/JSON\").json()"
   ]
  },
  {
   "cell_type": "code",
   "execution_count": 67,
   "id": "bc68f110-47bb-4d34-bdc2-556e6f4b3d60",
   "metadata": {},
   "outputs": [
    {
     "data": {
      "text/plain": [
       "{'Fault': {'Code': 'PUGREST.NotFound',\n",
       "  'Message': 'No `aids` data found with the given ProteinAccession(s)'}}"
      ]
     },
     "execution_count": 67,
     "metadata": {},
     "output_type": "execute_result"
    }
   ],
   "source": [
    "protein_pg"
   ]
  },
  {
   "cell_type": "code",
   "execution_count": 71,
   "id": "303ed070-7894-49f7-98b0-ad268f3b26f1",
   "metadata": {},
   "outputs": [
    {
     "name": "stderr",
     "output_type": "stream",
     "text": [
      "100%|█████████████████████████████████████████████████████████████████| 1516/1516 [03:26<00:00,  7.33it/s]\n"
     ]
    }
   ],
   "source": [
    "results = []\n",
    "for protein_id in tqdm(metabolic_proteins):\n",
    "    protein_pg = requests.get(f\"https://pubchem.ncbi.nlm.nih.gov/rest/pug/protein/accession/{protein_id}/aids/JSON\").json()\n",
    "    results.append(protein_pg)"
   ]
  },
  {
   "cell_type": "code",
   "execution_count": 75,
   "id": "e1738bd1-74df-4938-8297-28a0e50afa49",
   "metadata": {},
   "outputs": [
    {
     "data": {
      "text/plain": [
       "{'InformationList': {'Information': [{'ProteinAccession': 'P0AEG4',\n",
       "    'AID': [1191299,\n",
       "     1191300,\n",
       "     1191301,\n",
       "     1191302,\n",
       "     1191303,\n",
       "     1191304,\n",
       "     1191305,\n",
       "     1652713,\n",
       "     1777535,\n",
       "     1777536,\n",
       "     1777537,\n",
       "     1777538,\n",
       "     1777539]}]}}"
      ]
     },
     "execution_count": 75,
     "metadata": {},
     "output_type": "execute_result"
    }
   ],
   "source": [
    "requests.get(f\"https://pubchem.ncbi.nlm.nih.gov/rest/pug/protein/accession/P0AEG4/aids/JSON\").json()"
   ]
  },
  {
   "cell_type": "code",
   "execution_count": 78,
   "id": "ef5a806c-3e06-4b1f-9bbf-3bf145053c84",
   "metadata": {},
   "outputs": [
    {
     "data": {
      "text/plain": [
       "96"
      ]
     },
     "execution_count": 78,
     "metadata": {},
     "output_type": "execute_result"
    }
   ],
   "source": [
    "len([r for r in results if not r.get('Fault', False)])"
   ]
  },
  {
   "cell_type": "code",
   "execution_count": 82,
   "id": "c41215b2-2e2b-45da-b3fd-c66c0ba447b3",
   "metadata": {},
   "outputs": [],
   "source": [
    "pubchem_aids = []\n",
    "for p,d in zip(metabolic_proteins,results):\n",
    "    if not d.get('Fault', False):\n",
    "        pubchem_aids.append({p: d[\"InformationList\"][\"Information\"][0][\"AID\"]})\n",
    "    else:\n",
    "        pubchem_aids.append(None)"
   ]
  },
  {
   "cell_type": "code",
   "execution_count": 193,
   "id": "4dadcd78-3ea1-4070-aaf3-271c5bc0a446",
   "metadata": {},
   "outputs": [
    {
     "data": {
      "text/plain": [
       "1516"
      ]
     },
     "execution_count": 193,
     "metadata": {},
     "output_type": "execute_result"
    }
   ],
   "source": [
    "len(pubchem_aids)"
   ]
  },
  {
   "cell_type": "code",
   "execution_count": 196,
   "id": "c08831e3-c51b-4a0f-bc5a-e3baa8a7a2eb",
   "metadata": {},
   "outputs": [],
   "source": [
    "aids_union = []\n",
    "for r in pubchem_aids:\n",
    "    if r is not None:\n",
    "        aids_union.extend(list(r.values())[0])\n",
    "aids_union = list(set(aids_union))"
   ]
  },
  {
   "cell_type": "code",
   "execution_count": 199,
   "id": "ac427a26-2f6c-4fb1-8af6-6405916785a5",
   "metadata": {},
   "outputs": [],
   "source": [
    "aids_union = [str(a) for a in aids_union]\n",
    "aid_queries = [','.join(aids_union[i:(i+100)]) for i in range(0,len(aids_union), 100)]"
   ]
  },
  {
   "cell_type": "code",
   "execution_count": 220,
   "id": "671bd4c0-2b79-4805-b5e0-267051f3f0fb",
   "metadata": {},
   "outputs": [
    {
     "data": {
      "text/plain": [
       "'210950,210951,210952,210953,669709,241682,57394,57395,57396,57397,57398,57399,57400,497721,57401,57402,497724,57403,57404,57405,57406,57407,57408,57409,57411,497733,57410,497735,497736,57417,57412,497739,57416,57413,497742,497743,57415,497745,497746,497747,57426,57427,57428,57429,57430,57431,57432,57433,57434,57437,57435,497750,1382487,57414,1100699,1335979,1169517,57418,55413,55414,211064,55415,57419,55416,55417,55418,55419,57420,55420,55421,55422,55423,57421,55424,55426,55427,239752,57422,452743,452749,57423,452750,282786,1257651,381854,381855,243902,381856,579774,579775,381857,381858,1625007,67785,67786,67787,67788,1625008,67789,67790'"
      ]
     },
     "execution_count": 220,
     "metadata": {},
     "output_type": "execute_result"
    }
   ],
   "source": [
    "aid_queries[0]"
   ]
  },
  {
   "cell_type": "code",
   "execution_count": null,
   "id": "e5db917b-7453-45a3-bbf8-c40663324097",
   "metadata": {},
   "outputs": [],
   "source": []
  },
  {
   "cell_type": "code",
   "execution_count": null,
   "id": "b47ebd8f-71ae-41d4-acad-85e5566e572a",
   "metadata": {},
   "outputs": [],
   "source": []
  },
  {
   "cell_type": "code",
   "execution_count": 206,
   "id": "d7a1b735-5bbb-4568-8262-b8fd4f3a9d4d",
   "metadata": {},
   "outputs": [],
   "source": [
    "def get_pubchem_assays_results(aid):\n",
    "    compound_pg = requests.get(\n",
    "        f\"https://pubchem.ncbi.nlm.nih.gov/rest/pug/assay/aid/{aid}/concise/JSON\"\n",
    "    ).json()\n",
    "\n",
    "    columns = compound_pg[\"Table\"][\"Columns\"][\"Column\"]\n",
    "    results = []\n",
    "    for row in compound_pg[\"Table\"][\"Row\"]:\n",
    "        results.append({ colname:row[\"Cell\"][i] for i, colname in enumerate(columns)})\n",
    "    \n",
    "    # break up cid queries into 100 chunks\n",
    "    cid_index = columns.index('CID')\n",
    "    cids = [row[\"Cell\"][cid_index] for row in compound_pg[\"Table\"][\"Row\"]]\n",
    "    cid_queries = [','.join(cids[i:(i+100)]) for i in range(0,len(cids), 100)]\n",
    "    \n",
    "    smiles_results = []\n",
    "    for cid_query in cid_queries:\n",
    "        smiles_data = requests.get(\n",
    "            f\"https://pubchem.ncbi.nlm.nih.gov/rest/pug/compound/cid/{cid_query}/property/MolecularFormula,MolecularWeight,CanonicalSMILES/JSON\"\n",
    "        ).json()\n",
    "        smiles_results.extend(smiles_data[\"PropertyTable\"][\"Properties\"])\n",
    "\n",
    "    for row, rdict in enumerate(results):\n",
    "        for key in smiles_results[0].keys():\n",
    "            rdict[key] = smiles_results[row][key]\n",
    "            \n",
    "    return results"
   ]
  },
  {
   "cell_type": "code",
   "execution_count": 211,
   "id": "459e74f7-6575-45ad-8c36-c338416ae66b",
   "metadata": {},
   "outputs": [
    {
     "name": "stdout",
     "output_type": "stream",
     "text": [
      "551\n",
      "551\n",
      "1040\n",
      "1040\n",
      "1170\n",
      "1170\n",
      "891\n",
      "891\n",
      "605\n",
      "605\n",
      "1039\n",
      "1039\n",
      "857\n",
      "857\n",
      "789\n",
      "789\n",
      "864\n",
      "864\n",
      "210\n",
      "210\n"
     ]
    }
   ],
   "source": [
    "pubchem_compounds = []\n",
    "for aid_query in aid_queries:\n",
    "    pubchem_compounds.extend(get_pubchem_assays_results(aid_query))"
   ]
  },
  {
   "cell_type": "code",
   "execution_count": 215,
   "id": "587000ab-e819-49af-883b-b75d12163e12",
   "metadata": {},
   "outputs": [],
   "source": [
    "        pubchem_targeters = defaultdict(list)\n",
    "        for rdict in pubchem_compounds:\n",
    "            pubchem_targeters[rdict['Target Accession']].append(rdict)"
   ]
  },
  {
   "cell_type": "code",
   "execution_count": 216,
   "id": "8f9528d4-bd6d-47c0-9715-9156333c6781",
   "metadata": {},
   "outputs": [
    {
     "data": {
      "text/plain": [
       "97"
      ]
     },
     "execution_count": 216,
     "metadata": {},
     "output_type": "execute_result"
    }
   ],
   "source": [
    "len(pubchem_targeters)"
   ]
  },
  {
   "cell_type": "code",
   "execution_count": 217,
   "id": "700fa471-bef7-46a2-83ea-d467dca2555c",
   "metadata": {},
   "outputs": [
    {
     "data": {
      "text/plain": [
       "True"
      ]
     },
     "execution_count": 217,
     "metadata": {},
     "output_type": "execute_result"
    }
   ],
   "source": [
    "all([i in metabolic_proteins for i in pubchem_targeters])"
   ]
  },
  {
   "cell_type": "code",
   "execution_count": 218,
   "id": "1ebfca33-5910-48a6-949c-42e7c458a45b",
   "metadata": {},
   "outputs": [],
   "source": [
    "\n",
    "        for p in metabolic_proteins:\n",
    "            if p not in pubchem_targeters:\n",
    "                pubchem_targeters[p] = None"
   ]
  },
  {
   "cell_type": "code",
   "execution_count": 219,
   "id": "c3fee9af-b70f-465c-811d-4f7a2e37e935",
   "metadata": {},
   "outputs": [
    {
     "data": {
      "text/plain": [
       "1516"
      ]
     },
     "execution_count": 219,
     "metadata": {},
     "output_type": "execute_result"
    }
   ],
   "source": [
    "len(pubchem_targeters)"
   ]
  },
  {
   "cell_type": "code",
   "execution_count": 221,
   "id": "b1be62aa-6fd7-4559-a748-0003b98fddf7",
   "metadata": {},
   "outputs": [],
   "source": [
    "json.dump(pubchem_targeters, open(\"/Mounts/rbg-storage1/datasets/Metabo/datasets/iML1515_pubchem_targeters.json\", \"w\"))"
   ]
  },
  {
   "cell_type": "code",
   "execution_count": null,
   "id": "291168b8-2c15-4277-bdf1-112282edb541",
   "metadata": {},
   "outputs": [],
   "source": []
  }
 ],
 "metadata": {
  "kernelspec": {
   "display_name": "Python 3 (ipykernel)",
   "language": "python",
   "name": "python3"
  },
  "language_info": {
   "codemirror_mode": {
    "name": "ipython",
    "version": 3
   },
   "file_extension": ".py",
   "mimetype": "text/x-python",
   "name": "python",
   "nbconvert_exporter": "python",
   "pygments_lexer": "ipython3",
   "version": "3.8.13"
  }
 },
 "nbformat": 4,
 "nbformat_minor": 5
}
